{
 "cells": [
  {
   "cell_type": "markdown",
   "metadata": {
    "button": false,
    "new_sheet": false,
    "run_control": {
     "read_only": false
    }
   },
   "source": [
    "<a href=\"https://www.javeriana.edu.co/inicio\"><img src = \"https://www.javeriana.edu.co/construye-futuro/wp-content/uploads/2021/02/javeriana-web-logo-edu.png\" width = 600, align = \"center\"></a>\n",
    "\n",
    "<h1>Regression Models with Keras</h1>"
   ]
  },
  {
   "cell_type": "markdown",
   "metadata": {
    "button": false,
    "new_sheet": false,
    "run_control": {
     "read_only": false
    }
   },
   "source": [
    "## Introduction"
   ]
  },
  {
   "cell_type": "markdown",
   "metadata": {
    "button": false,
    "new_sheet": false,
    "run_control": {
     "read_only": false
    }
   },
   "source": [
    "As we discussed in the videos, despite the popularity of more powerful libraries such as PyToch and TensorFlow, they are not easy to use and have a steep learning curve. So, for people who are just starting to learn deep learning, there is no better library to use other than the Keras library. \n",
    "\n",
    "Keras is a high-level API for building deep learning models. It has gained favor for its ease of use and syntactic simplicity facilitating fast development. As you will see in this lab and the other labs in this course, building a very complex deep learning network can be achieved with Keras with only few lines of code. You will appreciate Keras even more, once you learn how to build deep models using PyTorch and TensorFlow in the other courses.\n",
    "\n",
    "So, in this lab, you will learn how to use the Keras library to build a regression model."
   ]
  },
  {
   "cell_type": "markdown",
   "metadata": {
    "button": false,
    "new_sheet": false,
    "run_control": {
     "read_only": false
    }
   },
   "source": [
    "## Table of Contents\n",
    "\n",
    "<div class=\"alert alert-block alert-info\" style=\"margin-top: 20px\">\n",
    "\n",
    "<font size = 3>\n",
    "    \n",
    "1. <a href=\"#item31\">Download and Clean Dataset</a>  \n",
    "2. <a href=\"#item32\">Import Keras</a>  \n",
    "3. <a href=\"#item33\">Build a Neural Network</a>  \n",
    "4. <a href=\"#item34\">Train and Test the Network</a>  \n",
    "\n",
    "</font>\n",
    "</div>"
   ]
  },
  {
   "cell_type": "markdown",
   "metadata": {
    "button": false,
    "new_sheet": false,
    "run_control": {
     "read_only": false
    }
   },
   "source": [
    "<a id=\"item31\"></a>"
   ]
  },
  {
   "cell_type": "markdown",
   "metadata": {
    "button": false,
    "new_sheet": false,
    "run_control": {
     "read_only": false
    }
   },
   "source": [
    "## Download and Clean Dataset"
   ]
  },
  {
   "cell_type": "markdown",
   "metadata": {
    "button": false,
    "new_sheet": false,
    "run_control": {
     "read_only": false
    }
   },
   "source": [
    "Let's start by importing the <em>pandas</em> and the Numpy libraries."
   ]
  },
  {
   "cell_type": "code",
   "execution_count": 188,
   "metadata": {
    "button": false,
    "new_sheet": false,
    "run_control": {
     "read_only": false
    }
   },
   "outputs": [],
   "source": [
    "import pandas as pd\n",
    "import numpy as np\n",
    "import tensorflow as tf\n",
    "import matplotlib.pyplot as plt\n",
    "%matplotlib inline\n",
    "\n",
    "from sklearn.preprocessing import StandardScaler\n",
    "from sklearn.model_selection import train_test_split\n",
    "from sklearn.metrics import r2_score"
   ]
  },
  {
   "cell_type": "markdown",
   "metadata": {
    "button": false,
    "new_sheet": false,
    "run_control": {
     "read_only": false
    }
   },
   "source": [
    "\n",
    "<h2 id=\"understanding_data\">Understanding the Data</h2>\n",
    "\n",
    "### `MY2022_Fuel_Consumption_Ratings.csv`:\n",
    "We have downloaded a fuel consumption dataset, **`MY2022 Fuel Consumption Ratings.csv`**, which contains model-specific fuel consumption ratings and estimated carbon dioxide emissions for new light-duty vehicles for retail sale in Canada. [Dataset source](https://open.canada.ca/data/en/dataset/98f1a129-f628-4ce4-b24d-6f16bf24dd64)\n",
    "\n",
    "- **MODELYEAR** e.g. 2022\n",
    "- **MAKE** e.g. Acura\n",
    "- **MODEL** e.g. ILX\n",
    "- **VEHICLE CLASS** e.g. Compact\n",
    "- **ENGINE SIZE** e.g. 2.4\n",
    "- **CYLINDERS** e.g 4\n",
    "- **TRANSMISSION** e.g. AM8\n",
    "- **FUEL** e.g. Z\n",
    "\n",
    "- **FUEL CONSUMPTION in CITY(L/100 km)** e.g. 9.9\n",
    "- **FUEL CONSUMPTION in HWY (L/100 km)** e.g. 7\n",
    "- **FUEL CONSUMPTION COMB (L/100 km)** e.g. 8.6\n",
    "- **CO2 EMISSIONS (g/km)** e.g. 200   --> 6\n",
    "- **SMOG** e.g. 3"
   ]
  },
  {
   "cell_type": "markdown",
   "metadata": {
    "button": false,
    "new_sheet": false,
    "run_control": {
     "read_only": false
    }
   },
   "source": [
    "Let's download the data and read it into a <em>pandas</em> dataframe."
   ]
  },
  {
   "cell_type": "code",
   "execution_count": 4,
   "metadata": {
    "button": false,
    "new_sheet": false,
    "run_control": {
     "read_only": false
    }
   },
   "outputs": [
    {
     "data": {
      "text/html": [
       "<div>\n",
       "<style scoped>\n",
       "    .dataframe tbody tr th:only-of-type {\n",
       "        vertical-align: middle;\n",
       "    }\n",
       "\n",
       "    .dataframe tbody tr th {\n",
       "        vertical-align: top;\n",
       "    }\n",
       "\n",
       "    .dataframe thead th {\n",
       "        text-align: right;\n",
       "    }\n",
       "</style>\n",
       "<table border=\"1\" class=\"dataframe\">\n",
       "  <thead>\n",
       "    <tr style=\"text-align: right;\">\n",
       "      <th></th>\n",
       "      <th>Make</th>\n",
       "      <th>Model</th>\n",
       "      <th>Vehicle_Class</th>\n",
       "      <th>Engine_Size</th>\n",
       "      <th>Cylinders</th>\n",
       "      <th>Transmission</th>\n",
       "      <th>Fuel</th>\n",
       "      <th>Fuel_Consumption_City</th>\n",
       "      <th>Fuel_Consumption_Hwy</th>\n",
       "      <th>Fuel_Consumption_Comb</th>\n",
       "      <th>Fuel_Consumption_Comb(mpg)</th>\n",
       "      <th>CO2_Emissions</th>\n",
       "      <th>CO2_Rating</th>\n",
       "      <th>Smog_Rating</th>\n",
       "    </tr>\n",
       "  </thead>\n",
       "  <tbody>\n",
       "    <tr>\n",
       "      <th>0</th>\n",
       "      <td>Acura</td>\n",
       "      <td>ILX</td>\n",
       "      <td>Compact</td>\n",
       "      <td>2.4</td>\n",
       "      <td>4</td>\n",
       "      <td>AM8</td>\n",
       "      <td>Z</td>\n",
       "      <td>9.9</td>\n",
       "      <td>7.0</td>\n",
       "      <td>8.6</td>\n",
       "      <td>33</td>\n",
       "      <td>200</td>\n",
       "      <td>6</td>\n",
       "      <td>3</td>\n",
       "    </tr>\n",
       "    <tr>\n",
       "      <th>1</th>\n",
       "      <td>Acura</td>\n",
       "      <td>MDX SH-AWD</td>\n",
       "      <td>SUV: Small</td>\n",
       "      <td>3.5</td>\n",
       "      <td>6</td>\n",
       "      <td>AS10</td>\n",
       "      <td>Z</td>\n",
       "      <td>12.6</td>\n",
       "      <td>9.4</td>\n",
       "      <td>11.2</td>\n",
       "      <td>25</td>\n",
       "      <td>263</td>\n",
       "      <td>4</td>\n",
       "      <td>5</td>\n",
       "    </tr>\n",
       "    <tr>\n",
       "      <th>2</th>\n",
       "      <td>Acura</td>\n",
       "      <td>RDX SH-AWD</td>\n",
       "      <td>SUV: Small</td>\n",
       "      <td>2.0</td>\n",
       "      <td>4</td>\n",
       "      <td>AS10</td>\n",
       "      <td>Z</td>\n",
       "      <td>11.0</td>\n",
       "      <td>8.6</td>\n",
       "      <td>9.9</td>\n",
       "      <td>29</td>\n",
       "      <td>232</td>\n",
       "      <td>5</td>\n",
       "      <td>6</td>\n",
       "    </tr>\n",
       "    <tr>\n",
       "      <th>3</th>\n",
       "      <td>Acura</td>\n",
       "      <td>RDX SH-AWD A-SPEC</td>\n",
       "      <td>SUV: Small</td>\n",
       "      <td>2.0</td>\n",
       "      <td>4</td>\n",
       "      <td>AS10</td>\n",
       "      <td>Z</td>\n",
       "      <td>11.3</td>\n",
       "      <td>9.1</td>\n",
       "      <td>10.3</td>\n",
       "      <td>27</td>\n",
       "      <td>242</td>\n",
       "      <td>5</td>\n",
       "      <td>6</td>\n",
       "    </tr>\n",
       "    <tr>\n",
       "      <th>4</th>\n",
       "      <td>Acura</td>\n",
       "      <td>TLX SH-AWD</td>\n",
       "      <td>Compact</td>\n",
       "      <td>2.0</td>\n",
       "      <td>4</td>\n",
       "      <td>AS10</td>\n",
       "      <td>Z</td>\n",
       "      <td>11.2</td>\n",
       "      <td>8.0</td>\n",
       "      <td>9.8</td>\n",
       "      <td>29</td>\n",
       "      <td>230</td>\n",
       "      <td>5</td>\n",
       "      <td>7</td>\n",
       "    </tr>\n",
       "  </tbody>\n",
       "</table>\n",
       "</div>"
      ],
      "text/plain": [
       "    Make              Model Vehicle_Class  Engine_Size  Cylinders  \\\n",
       "0  Acura                ILX       Compact          2.4          4   \n",
       "1  Acura         MDX SH-AWD    SUV: Small          3.5          6   \n",
       "2  Acura         RDX SH-AWD    SUV: Small          2.0          4   \n",
       "3  Acura  RDX SH-AWD A-SPEC    SUV: Small          2.0          4   \n",
       "4  Acura         TLX SH-AWD       Compact          2.0          4   \n",
       "\n",
       "  Transmission Fuel  Fuel_Consumption_City  Fuel_Consumption_Hwy  \\\n",
       "0          AM8    Z                    9.9                   7.0   \n",
       "1         AS10    Z                   12.6                   9.4   \n",
       "2         AS10    Z                   11.0                   8.6   \n",
       "3         AS10    Z                   11.3                   9.1   \n",
       "4         AS10    Z                   11.2                   8.0   \n",
       "\n",
       "   Fuel_Consumption_Comb  Fuel_Consumption_Comb(mpg)  CO2_Emissions  \\\n",
       "0                    8.6                          33            200   \n",
       "1                   11.2                          25            263   \n",
       "2                    9.9                          29            232   \n",
       "3                   10.3                          27            242   \n",
       "4                    9.8                          29            230   \n",
       "\n",
       "   CO2_Rating  Smog_Rating  \n",
       "0           6            3  \n",
       "1           4            5  \n",
       "2           5            6  \n",
       "3           5            6  \n",
       "4           5            7  "
      ]
     },
     "execution_count": 4,
     "metadata": {},
     "output_type": "execute_result"
    }
   ],
   "source": [
    "emissions_df = pd.read_csv(\"MY2022_Fuel_Consumption_Ratings.csv\", encoding='cp1252',\n",
    "                 nrows=882, usecols=[1,2,3,4,5,6,7,8,9,10,11,12,13,14], index_col=False)\n",
    "emissions_df.head()"
   ]
  },
  {
   "cell_type": "markdown",
   "metadata": {
    "button": false,
    "new_sheet": false,
    "run_control": {
     "read_only": false
    }
   },
   "source": [
    "So the first concrete sample has 540 cubic meter of cement, 0 cubic meter of blast furnace slag, 0 cubic meter of fly ash, 162 cubic meter of water, 2.5 cubic meter of superplaticizer, 1040 cubic meter of coarse aggregate, 676 cubic meter of fine aggregate. Such a concrete mix which is 28 days old, has a compressive strength of 79.99 MPa. "
   ]
  },
  {
   "cell_type": "markdown",
   "metadata": {
    "button": false,
    "new_sheet": false,
    "run_control": {
     "read_only": false
    }
   },
   "source": [
    "#### Let's check how many data points we have."
   ]
  },
  {
   "cell_type": "code",
   "execution_count": 5,
   "metadata": {
    "button": false,
    "new_sheet": false,
    "run_control": {
     "read_only": false
    }
   },
   "outputs": [
    {
     "data": {
      "text/plain": [
       "(882, 14)"
      ]
     },
     "execution_count": 5,
     "metadata": {},
     "output_type": "execute_result"
    }
   ],
   "source": [
    "emissions_df.shape"
   ]
  },
  {
   "cell_type": "markdown",
   "metadata": {
    "button": false,
    "new_sheet": false,
    "run_control": {
     "read_only": false
    }
   },
   "source": [
    "So, there are approximately 1000 samples to train our model on. Because of the few samples, we have to be careful not to overfit the training data."
   ]
  },
  {
   "cell_type": "markdown",
   "metadata": {
    "button": false,
    "new_sheet": false,
    "run_control": {
     "read_only": false
    }
   },
   "source": [
    "Let's check the dataset for any missing values."
   ]
  },
  {
   "cell_type": "code",
   "execution_count": 6,
   "metadata": {
    "button": false,
    "new_sheet": false,
    "run_control": {
     "read_only": false
    }
   },
   "outputs": [
    {
     "data": {
      "text/html": [
       "<div>\n",
       "<style scoped>\n",
       "    .dataframe tbody tr th:only-of-type {\n",
       "        vertical-align: middle;\n",
       "    }\n",
       "\n",
       "    .dataframe tbody tr th {\n",
       "        vertical-align: top;\n",
       "    }\n",
       "\n",
       "    .dataframe thead th {\n",
       "        text-align: right;\n",
       "    }\n",
       "</style>\n",
       "<table border=\"1\" class=\"dataframe\">\n",
       "  <thead>\n",
       "    <tr style=\"text-align: right;\">\n",
       "      <th></th>\n",
       "      <th>Engine_Size</th>\n",
       "      <th>Cylinders</th>\n",
       "      <th>Fuel_Consumption_City</th>\n",
       "      <th>Fuel_Consumption_Hwy</th>\n",
       "      <th>Fuel_Consumption_Comb</th>\n",
       "      <th>Fuel_Consumption_Comb(mpg)</th>\n",
       "      <th>CO2_Emissions</th>\n",
       "      <th>CO2_Rating</th>\n",
       "      <th>Smog_Rating</th>\n",
       "    </tr>\n",
       "  </thead>\n",
       "  <tbody>\n",
       "    <tr>\n",
       "      <th>count</th>\n",
       "      <td>882.000000</td>\n",
       "      <td>882.000000</td>\n",
       "      <td>882.000000</td>\n",
       "      <td>882.000000</td>\n",
       "      <td>882.000000</td>\n",
       "      <td>882.000000</td>\n",
       "      <td>882.000000</td>\n",
       "      <td>882.000000</td>\n",
       "      <td>882.000000</td>\n",
       "    </tr>\n",
       "    <tr>\n",
       "      <th>mean</th>\n",
       "      <td>3.117234</td>\n",
       "      <td>5.600907</td>\n",
       "      <td>12.392404</td>\n",
       "      <td>9.320295</td>\n",
       "      <td>11.009751</td>\n",
       "      <td>27.486395</td>\n",
       "      <td>257.041950</td>\n",
       "      <td>4.595238</td>\n",
       "      <td>5.004535</td>\n",
       "    </tr>\n",
       "    <tr>\n",
       "      <th>std</th>\n",
       "      <td>1.317316</td>\n",
       "      <td>1.941692</td>\n",
       "      <td>3.471466</td>\n",
       "      <td>2.306278</td>\n",
       "      <td>2.899504</td>\n",
       "      <td>7.802495</td>\n",
       "      <td>64.782264</td>\n",
       "      <td>1.479523</td>\n",
       "      <td>1.630436</td>\n",
       "    </tr>\n",
       "    <tr>\n",
       "      <th>min</th>\n",
       "      <td>1.200000</td>\n",
       "      <td>3.000000</td>\n",
       "      <td>4.000000</td>\n",
       "      <td>3.900000</td>\n",
       "      <td>4.000000</td>\n",
       "      <td>11.000000</td>\n",
       "      <td>94.000000</td>\n",
       "      <td>1.000000</td>\n",
       "      <td>1.000000</td>\n",
       "    </tr>\n",
       "    <tr>\n",
       "      <th>25%</th>\n",
       "      <td>2.000000</td>\n",
       "      <td>4.000000</td>\n",
       "      <td>10.100000</td>\n",
       "      <td>7.600000</td>\n",
       "      <td>9.000000</td>\n",
       "      <td>22.000000</td>\n",
       "      <td>211.000000</td>\n",
       "      <td>4.000000</td>\n",
       "      <td>3.000000</td>\n",
       "    </tr>\n",
       "    <tr>\n",
       "      <th>50%</th>\n",
       "      <td>3.000000</td>\n",
       "      <td>6.000000</td>\n",
       "      <td>12.100000</td>\n",
       "      <td>9.100000</td>\n",
       "      <td>10.700000</td>\n",
       "      <td>26.000000</td>\n",
       "      <td>254.000000</td>\n",
       "      <td>5.000000</td>\n",
       "      <td>5.000000</td>\n",
       "    </tr>\n",
       "    <tr>\n",
       "      <th>75%</th>\n",
       "      <td>3.600000</td>\n",
       "      <td>6.000000</td>\n",
       "      <td>14.500000</td>\n",
       "      <td>10.600000</td>\n",
       "      <td>12.700000</td>\n",
       "      <td>31.000000</td>\n",
       "      <td>298.000000</td>\n",
       "      <td>5.000000</td>\n",
       "      <td>6.000000</td>\n",
       "    </tr>\n",
       "    <tr>\n",
       "      <th>max</th>\n",
       "      <td>8.000000</td>\n",
       "      <td>16.000000</td>\n",
       "      <td>30.300000</td>\n",
       "      <td>20.900000</td>\n",
       "      <td>26.100000</td>\n",
       "      <td>71.000000</td>\n",
       "      <td>608.000000</td>\n",
       "      <td>10.000000</td>\n",
       "      <td>7.000000</td>\n",
       "    </tr>\n",
       "  </tbody>\n",
       "</table>\n",
       "</div>"
      ],
      "text/plain": [
       "       Engine_Size   Cylinders  Fuel_Consumption_City  Fuel_Consumption_Hwy  \\\n",
       "count   882.000000  882.000000             882.000000            882.000000   \n",
       "mean      3.117234    5.600907              12.392404              9.320295   \n",
       "std       1.317316    1.941692               3.471466              2.306278   \n",
       "min       1.200000    3.000000               4.000000              3.900000   \n",
       "25%       2.000000    4.000000              10.100000              7.600000   \n",
       "50%       3.000000    6.000000              12.100000              9.100000   \n",
       "75%       3.600000    6.000000              14.500000             10.600000   \n",
       "max       8.000000   16.000000              30.300000             20.900000   \n",
       "\n",
       "       Fuel_Consumption_Comb  Fuel_Consumption_Comb(mpg)  CO2_Emissions  \\\n",
       "count             882.000000                  882.000000     882.000000   \n",
       "mean               11.009751                   27.486395     257.041950   \n",
       "std                 2.899504                    7.802495      64.782264   \n",
       "min                 4.000000                   11.000000      94.000000   \n",
       "25%                 9.000000                   22.000000     211.000000   \n",
       "50%                10.700000                   26.000000     254.000000   \n",
       "75%                12.700000                   31.000000     298.000000   \n",
       "max                26.100000                   71.000000     608.000000   \n",
       "\n",
       "       CO2_Rating  Smog_Rating  \n",
       "count  882.000000   882.000000  \n",
       "mean     4.595238     5.004535  \n",
       "std      1.479523     1.630436  \n",
       "min      1.000000     1.000000  \n",
       "25%      4.000000     3.000000  \n",
       "50%      5.000000     5.000000  \n",
       "75%      5.000000     6.000000  \n",
       "max     10.000000     7.000000  "
      ]
     },
     "execution_count": 6,
     "metadata": {},
     "output_type": "execute_result"
    }
   ],
   "source": [
    "emissions_df.describe()"
   ]
  },
  {
   "cell_type": "code",
   "execution_count": 7,
   "metadata": {
    "button": false,
    "new_sheet": false,
    "run_control": {
     "read_only": false
    }
   },
   "outputs": [
    {
     "data": {
      "text/plain": [
       "Make                          0\n",
       "Model                         0\n",
       "Vehicle_Class                 0\n",
       "Engine_Size                   0\n",
       "Cylinders                     0\n",
       "Transmission                  0\n",
       "Fuel                          0\n",
       "Fuel_Consumption_City         0\n",
       "Fuel_Consumption_Hwy          0\n",
       "Fuel_Consumption_Comb         0\n",
       "Fuel_Consumption_Comb(mpg)    0\n",
       "CO2_Emissions                 0\n",
       "CO2_Rating                    0\n",
       "Smog_Rating                   0\n",
       "dtype: int64"
      ]
     },
     "execution_count": 7,
     "metadata": {},
     "output_type": "execute_result"
    }
   ],
   "source": [
    "emissions_df.isnull().sum()"
   ]
  },
  {
   "cell_type": "markdown",
   "metadata": {
    "button": false,
    "new_sheet": false,
    "run_control": {
     "read_only": false
    }
   },
   "source": [
    "The data looks very clean and is ready to be used to build our model."
   ]
  },
  {
   "cell_type": "markdown",
   "metadata": {
    "button": false,
    "new_sheet": false,
    "run_control": {
     "read_only": false
    }
   },
   "source": [
    "#### Split data into predictors and target"
   ]
  },
  {
   "cell_type": "markdown",
   "metadata": {},
   "source": [
    "The target variable in this problem is the concrete sample strength. Therefore, our predictors will be all the other columns."
   ]
  },
  {
   "cell_type": "code",
   "execution_count": 10,
   "metadata": {
    "button": false,
    "new_sheet": false,
    "run_control": {
     "read_only": false
    }
   },
   "outputs": [],
   "source": [
    "predictors =  emissions_df[['Engine_Size','Cylinders','Fuel_Consumption_City','Fuel_Consumption_Hwy']]\n",
    "target =  emissions_df['CO2_Emissions']"
   ]
  },
  {
   "cell_type": "markdown",
   "metadata": {
    "button": false,
    "new_sheet": false,
    "run_control": {
     "read_only": false
    }
   },
   "source": [
    "<a id=\"item2\"></a>"
   ]
  },
  {
   "cell_type": "markdown",
   "metadata": {
    "button": false,
    "new_sheet": false,
    "run_control": {
     "read_only": false
    }
   },
   "source": [
    "Let's do a quick sanity check of the predictors and the target dataframes."
   ]
  },
  {
   "cell_type": "code",
   "execution_count": 11,
   "metadata": {
    "button": false,
    "new_sheet": false,
    "run_control": {
     "read_only": false
    }
   },
   "outputs": [
    {
     "data": {
      "text/html": [
       "<div>\n",
       "<style scoped>\n",
       "    .dataframe tbody tr th:only-of-type {\n",
       "        vertical-align: middle;\n",
       "    }\n",
       "\n",
       "    .dataframe tbody tr th {\n",
       "        vertical-align: top;\n",
       "    }\n",
       "\n",
       "    .dataframe thead th {\n",
       "        text-align: right;\n",
       "    }\n",
       "</style>\n",
       "<table border=\"1\" class=\"dataframe\">\n",
       "  <thead>\n",
       "    <tr style=\"text-align: right;\">\n",
       "      <th></th>\n",
       "      <th>Engine_Size</th>\n",
       "      <th>Cylinders</th>\n",
       "      <th>Fuel_Consumption_City</th>\n",
       "      <th>Fuel_Consumption_Hwy</th>\n",
       "    </tr>\n",
       "  </thead>\n",
       "  <tbody>\n",
       "    <tr>\n",
       "      <th>0</th>\n",
       "      <td>2.4</td>\n",
       "      <td>4</td>\n",
       "      <td>9.9</td>\n",
       "      <td>7.0</td>\n",
       "    </tr>\n",
       "    <tr>\n",
       "      <th>1</th>\n",
       "      <td>3.5</td>\n",
       "      <td>6</td>\n",
       "      <td>12.6</td>\n",
       "      <td>9.4</td>\n",
       "    </tr>\n",
       "    <tr>\n",
       "      <th>2</th>\n",
       "      <td>2.0</td>\n",
       "      <td>4</td>\n",
       "      <td>11.0</td>\n",
       "      <td>8.6</td>\n",
       "    </tr>\n",
       "    <tr>\n",
       "      <th>3</th>\n",
       "      <td>2.0</td>\n",
       "      <td>4</td>\n",
       "      <td>11.3</td>\n",
       "      <td>9.1</td>\n",
       "    </tr>\n",
       "    <tr>\n",
       "      <th>4</th>\n",
       "      <td>2.0</td>\n",
       "      <td>4</td>\n",
       "      <td>11.2</td>\n",
       "      <td>8.0</td>\n",
       "    </tr>\n",
       "  </tbody>\n",
       "</table>\n",
       "</div>"
      ],
      "text/plain": [
       "   Engine_Size  Cylinders  Fuel_Consumption_City  Fuel_Consumption_Hwy\n",
       "0          2.4          4                    9.9                   7.0\n",
       "1          3.5          6                   12.6                   9.4\n",
       "2          2.0          4                   11.0                   8.6\n",
       "3          2.0          4                   11.3                   9.1\n",
       "4          2.0          4                   11.2                   8.0"
      ]
     },
     "execution_count": 11,
     "metadata": {},
     "output_type": "execute_result"
    }
   ],
   "source": [
    "predictors.head()"
   ]
  },
  {
   "cell_type": "code",
   "execution_count": 12,
   "metadata": {
    "button": false,
    "new_sheet": false,
    "run_control": {
     "read_only": false
    }
   },
   "outputs": [
    {
     "data": {
      "text/plain": [
       "0    200\n",
       "1    263\n",
       "2    232\n",
       "3    242\n",
       "4    230\n",
       "Name: CO2_Emissions, dtype: int64"
      ]
     },
     "execution_count": 12,
     "metadata": {},
     "output_type": "execute_result"
    }
   ],
   "source": [
    "target.head()"
   ]
  },
  {
   "cell_type": "markdown",
   "metadata": {
    "button": false,
    "new_sheet": false,
    "run_control": {
     "read_only": false
    }
   },
   "source": [
    "Finally, the last step is to normalize the data by substracting the mean and dividing by the standard deviation."
   ]
  },
  {
   "cell_type": "code",
   "execution_count": 94,
   "metadata": {
    "button": false,
    "new_sheet": false,
    "run_control": {
     "read_only": false
    }
   },
   "outputs": [],
   "source": [
    "predictors_train,predictors_test,target_train,target_test = train_test_split(predictors, target, test_size=0.3, random_state=42)"
   ]
  },
  {
   "cell_type": "code",
   "execution_count": null,
   "metadata": {},
   "outputs": [],
   "source": [
    "predictors_train = StandardScaler().fit_transform(predictors_train)\n",
    "predictors_test = StandardScaler().fit_transform(predictors_test)\n",
    "predictors_train"
   ]
  },
  {
   "cell_type": "markdown",
   "metadata": {},
   "source": [
    "Let's save the number of predictors to *n_cols* since we will need this number when building our network."
   ]
  },
  {
   "cell_type": "code",
   "execution_count": 95,
   "metadata": {
    "button": false,
    "new_sheet": false,
    "run_control": {
     "read_only": false
    }
   },
   "outputs": [],
   "source": [
    "n_cols = predictors_train.shape[1] # number of predictors"
   ]
  },
  {
   "cell_type": "markdown",
   "metadata": {
    "button": false,
    "new_sheet": false,
    "run_control": {
     "read_only": false
    }
   },
   "source": [
    "<a id=\"item1\"></a>"
   ]
  },
  {
   "cell_type": "markdown",
   "metadata": {},
   "source": [
    "<a id='item32'></a>"
   ]
  },
  {
   "cell_type": "markdown",
   "metadata": {
    "button": false,
    "new_sheet": false,
    "run_control": {
     "read_only": false
    }
   },
   "source": [
    "## Import Keras"
   ]
  },
  {
   "cell_type": "markdown",
   "metadata": {
    "button": false,
    "new_sheet": false,
    "run_control": {
     "read_only": false
    }
   },
   "source": [
    "Recall from the videos that Keras normally runs on top of a low-level library such as TensorFlow. This means that to be able to use the Keras library, you will have to install TensorFlow first and when you import the Keras library, it will be explicitly displayed what backend was used to install the Keras library. In CC Labs, we used TensorFlow as the backend to install Keras, so it should clearly print that when we import Keras."
   ]
  },
  {
   "cell_type": "markdown",
   "metadata": {
    "button": false,
    "new_sheet": false,
    "run_control": {
     "read_only": false
    }
   },
   "source": [
    "#### Let's go ahead and import the Keras library"
   ]
  },
  {
   "cell_type": "code",
   "execution_count": 11,
   "metadata": {},
   "outputs": [],
   "source": [
    "#!pip install keras\n",
    "#!pip install tensorflow"
   ]
  },
  {
   "cell_type": "code",
   "execution_count": 46,
   "metadata": {
    "button": false,
    "new_sheet": false,
    "run_control": {
     "read_only": false
    }
   },
   "outputs": [],
   "source": [
    "import keras"
   ]
  },
  {
   "cell_type": "markdown",
   "metadata": {
    "button": false,
    "new_sheet": false,
    "run_control": {
     "read_only": false
    }
   },
   "source": [
    "As you can see, the TensorFlow backend was used to install the Keras library."
   ]
  },
  {
   "cell_type": "markdown",
   "metadata": {
    "button": false,
    "new_sheet": false,
    "run_control": {
     "read_only": false
    }
   },
   "source": [
    "Let's import the rest of the packages from the Keras library that we will need to build our regressoin model."
   ]
  },
  {
   "cell_type": "code",
   "execution_count": 78,
   "metadata": {
    "button": false,
    "new_sheet": false,
    "run_control": {
     "read_only": false
    }
   },
   "outputs": [],
   "source": [
    "from keras.models import Sequential\n",
    "from keras.layers import Dense"
   ]
  },
  {
   "cell_type": "markdown",
   "metadata": {},
   "source": [
    "<a id='item33'></a>"
   ]
  },
  {
   "cell_type": "markdown",
   "metadata": {
    "button": false,
    "new_sheet": false,
    "run_control": {
     "read_only": false
    }
   },
   "source": [
    "## Build a Neural Network"
   ]
  },
  {
   "cell_type": "markdown",
   "metadata": {
    "button": false,
    "new_sheet": false,
    "run_control": {
     "read_only": false
    }
   },
   "source": [
    "Let's define a function that defines our regression model for us so that we can conveniently call it to create our model."
   ]
  },
  {
   "cell_type": "code",
   "execution_count": 192,
   "metadata": {
    "button": false,
    "new_sheet": false,
    "run_control": {
     "read_only": false
    }
   },
   "outputs": [],
   "source": [
    "# define regression model\n",
    "def regression_model():\n",
    "    # create model\n",
    "    model = Sequential()\n",
    "    model.add(Dense(10, activation='relu', input_shape=(n_cols,)))\n",
    "    model.add(Dense(10, activation='relu'))\n",
    "    model.add(Dense(1))\n",
    "    \n",
    "    # compile model\n",
    "    model.compile(optimizer='adam', loss='mean_squared_error', metrics=[tf.keras.metrics.RootMeanSquaredError()])\n",
    "    return model"
   ]
  },
  {
   "cell_type": "markdown",
   "metadata": {},
   "source": [
    "The above function create a model that has two hidden layers, each of 50 hidden units."
   ]
  },
  {
   "cell_type": "markdown",
   "metadata": {
    "button": false,
    "new_sheet": false,
    "run_control": {
     "read_only": false
    }
   },
   "source": [
    "<a id=\"item4\"></a>"
   ]
  },
  {
   "cell_type": "markdown",
   "metadata": {},
   "source": [
    "<a id='item34'></a>"
   ]
  },
  {
   "cell_type": "markdown",
   "metadata": {
    "button": false,
    "new_sheet": false,
    "run_control": {
     "read_only": false
    }
   },
   "source": [
    "## Train and Test the Network"
   ]
  },
  {
   "cell_type": "markdown",
   "metadata": {},
   "source": [
    "Let's call the function now to create our model."
   ]
  },
  {
   "cell_type": "code",
   "execution_count": 201,
   "metadata": {
    "button": false,
    "new_sheet": false,
    "run_control": {
     "read_only": false
    }
   },
   "outputs": [
    {
     "name": "stdout",
     "output_type": "stream",
     "text": [
      "Model: \"sequential_15\"\n",
      "_________________________________________________________________\n",
      "Layer (type)                 Output Shape              Param #   \n",
      "=================================================================\n",
      "dense_45 (Dense)             (None, 10)                50        \n",
      "_________________________________________________________________\n",
      "dense_46 (Dense)             (None, 10)                110       \n",
      "_________________________________________________________________\n",
      "dense_47 (Dense)             (None, 1)                 11        \n",
      "=================================================================\n",
      "Total params: 171\n",
      "Trainable params: 171\n",
      "Non-trainable params: 0\n",
      "_________________________________________________________________\n"
     ]
    }
   ],
   "source": [
    "# build the model\n",
    "model = regression_model()\n",
    "model.summary()"
   ]
  },
  {
   "cell_type": "markdown",
   "metadata": {},
   "source": [
    "Next, we will train and test the model at the same time using the *fit* method. We will leave out 30% of the data for validation and we will train the model for 100 epochs."
   ]
  },
  {
   "cell_type": "code",
   "execution_count": 202,
   "metadata": {
    "scrolled": true
   },
   "outputs": [
    {
     "name": "stdout",
     "output_type": "stream",
     "text": [
      "Epoch 1/200\n",
      "20/20 [==============================] - 1s 33ms/step - loss: 65747.2500 - root_mean_squared_error: 256.4123 - val_loss: 62315.5898 - val_root_mean_squared_error: 249.6309\n",
      "Epoch 2/200\n",
      "20/20 [==============================] - 0s 2ms/step - loss: 64201.3555 - root_mean_squared_error: 253.3799 - val_loss: 60710.8320 - val_root_mean_squared_error: 246.3957\n",
      "Epoch 3/200\n",
      "20/20 [==============================] - 0s 2ms/step - loss: 62417.0898 - root_mean_squared_error: 249.8341 - val_loss: 58897.6094 - val_root_mean_squared_error: 242.6883\n",
      "Epoch 4/200\n",
      "20/20 [==============================] - 0s 3ms/step - loss: 60373.3359 - root_mean_squared_error: 245.7099 - val_loss: 56763.6133 - val_root_mean_squared_error: 238.2512\n",
      "Epoch 5/200\n",
      "20/20 [==============================] - 0s 2ms/step - loss: 57970.2617 - root_mean_squared_error: 240.7701 - val_loss: 54249.7383 - val_root_mean_squared_error: 232.9157\n",
      "Epoch 6/200\n",
      "20/20 [==============================] - 0s 2ms/step - loss: 55031.2812 - root_mean_squared_error: 234.5875 - val_loss: 51076.7656 - val_root_mean_squared_error: 226.0017\n",
      "Epoch 7/200\n",
      "20/20 [==============================] - 0s 2ms/step - loss: 51463.3281 - root_mean_squared_error: 226.8553 - val_loss: 47361.7539 - val_root_mean_squared_error: 217.6276\n",
      "Epoch 8/200\n",
      "20/20 [==============================] - 0s 2ms/step - loss: 47306.0156 - root_mean_squared_error: 217.4995 - val_loss: 43111.9258 - val_root_mean_squared_error: 207.6341\n",
      "Epoch 9/200\n",
      "20/20 [==============================] - 0s 2ms/step - loss: 42621.4219 - root_mean_squared_error: 206.4496 - val_loss: 38319.2266 - val_root_mean_squared_error: 195.7530\n",
      "Epoch 10/200\n",
      "20/20 [==============================] - 0s 2ms/step - loss: 37401.8359 - root_mean_squared_error: 193.3955 - val_loss: 33057.0820 - val_root_mean_squared_error: 181.8161\n",
      "Epoch 11/200\n",
      "20/20 [==============================] - 0s 2ms/step - loss: 31576.4336 - root_mean_squared_error: 177.6976 - val_loss: 27214.6992 - val_root_mean_squared_error: 164.9688\n",
      "Epoch 12/200\n",
      "20/20 [==============================] - 0s 3ms/step - loss: 25392.7480 - root_mean_squared_error: 159.3510 - val_loss: 21239.1387 - val_root_mean_squared_error: 145.7365\n",
      "Epoch 13/200\n",
      "20/20 [==============================] - 0s 2ms/step - loss: 19261.4238 - root_mean_squared_error: 138.7855 - val_loss: 15527.5967 - val_root_mean_squared_error: 124.6098\n",
      "Epoch 14/200\n",
      "20/20 [==============================] - 0s 3ms/step - loss: 13567.8604 - root_mean_squared_error: 116.4812 - val_loss: 10559.7451 - val_root_mean_squared_error: 102.7606\n",
      "Epoch 15/200\n",
      "20/20 [==============================] - 0s 2ms/step - loss: 8804.7344 - root_mean_squared_error: 93.8335 - val_loss: 6476.1724 - val_root_mean_squared_error: 80.4747\n",
      "Epoch 16/200\n",
      "20/20 [==============================] - 0s 3ms/step - loss: 5178.4629 - root_mean_squared_error: 71.9615 - val_loss: 3662.3906 - val_root_mean_squared_error: 60.5177\n",
      "Epoch 17/200\n",
      "20/20 [==============================] - 0s 2ms/step - loss: 2808.7378 - root_mean_squared_error: 52.9975 - val_loss: 1923.7220 - val_root_mean_squared_error: 43.8603\n",
      "Epoch 18/200\n",
      "20/20 [==============================] - 0s 3ms/step - loss: 1431.5399 - root_mean_squared_error: 37.8357 - val_loss: 1002.8785 - val_root_mean_squared_error: 31.6683\n",
      "Epoch 19/200\n",
      "20/20 [==============================] - 0s 2ms/step - loss: 767.8861 - root_mean_squared_error: 27.7108 - val_loss: 589.5261 - val_root_mean_squared_error: 24.2802\n",
      "Epoch 20/200\n",
      "20/20 [==============================] - 0s 2ms/step - loss: 491.4578 - root_mean_squared_error: 22.1688 - val_loss: 426.0678 - val_root_mean_squared_error: 20.6414\n",
      "Epoch 21/200\n",
      "20/20 [==============================] - 0s 2ms/step - loss: 392.3725 - root_mean_squared_error: 19.8084 - val_loss: 374.8714 - val_root_mean_squared_error: 19.3616\n",
      "Epoch 22/200\n",
      "20/20 [==============================] - 0s 2ms/step - loss: 364.1063 - root_mean_squared_error: 19.0816 - val_loss: 358.4674 - val_root_mean_squared_error: 18.9332\n",
      "Epoch 23/200\n",
      "20/20 [==============================] - 0s 2ms/step - loss: 356.4631 - root_mean_squared_error: 18.8802 - val_loss: 353.1863 - val_root_mean_squared_error: 18.7933\n",
      "Epoch 24/200\n",
      "20/20 [==============================] - 0s 2ms/step - loss: 354.3529 - root_mean_squared_error: 18.8243 - val_loss: 351.5177 - val_root_mean_squared_error: 18.7488\n",
      "Epoch 25/200\n",
      "20/20 [==============================] - 0s 2ms/step - loss: 353.6134 - root_mean_squared_error: 18.8046 - val_loss: 350.6041 - val_root_mean_squared_error: 18.7244\n",
      "Epoch 26/200\n",
      "20/20 [==============================] - 0s 3ms/step - loss: 353.1426 - root_mean_squared_error: 18.7921 - val_loss: 350.0698 - val_root_mean_squared_error: 18.7102\n",
      "Epoch 27/200\n",
      "20/20 [==============================] - 0s 2ms/step - loss: 352.8292 - root_mean_squared_error: 18.7837 - val_loss: 349.7879 - val_root_mean_squared_error: 18.7026\n",
      "Epoch 28/200\n",
      "20/20 [==============================] - 0s 2ms/step - loss: 352.2103 - root_mean_squared_error: 18.7673 - val_loss: 349.2328 - val_root_mean_squared_error: 18.6878\n",
      "Epoch 29/200\n",
      "20/20 [==============================] - 0s 2ms/step - loss: 351.8649 - root_mean_squared_error: 18.7581 - val_loss: 348.8286 - val_root_mean_squared_error: 18.6770\n",
      "Epoch 30/200\n",
      "20/20 [==============================] - 0s 2ms/step - loss: 351.3207 - root_mean_squared_error: 18.7436 - val_loss: 348.3497 - val_root_mean_squared_error: 18.6641\n",
      "Epoch 31/200\n",
      "20/20 [==============================] - 0s 2ms/step - loss: 350.9321 - root_mean_squared_error: 18.7332 - val_loss: 347.9736 - val_root_mean_squared_error: 18.6541\n",
      "Epoch 32/200\n",
      "20/20 [==============================] - 0s 3ms/step - loss: 350.5249 - root_mean_squared_error: 18.7223 - val_loss: 347.3217 - val_root_mean_squared_error: 18.6366\n",
      "Epoch 33/200\n",
      "20/20 [==============================] - 0s 2ms/step - loss: 349.8761 - root_mean_squared_error: 18.7050 - val_loss: 347.1359 - val_root_mean_squared_error: 18.6316\n",
      "Epoch 34/200\n",
      "20/20 [==============================] - 0s 2ms/step - loss: 349.3711 - root_mean_squared_error: 18.6915 - val_loss: 346.8433 - val_root_mean_squared_error: 18.6237\n",
      "Epoch 35/200\n",
      "20/20 [==============================] - 0s 3ms/step - loss: 348.9408 - root_mean_squared_error: 18.6800 - val_loss: 346.4120 - val_root_mean_squared_error: 18.6121\n",
      "Epoch 36/200\n",
      "20/20 [==============================] - 0s 2ms/step - loss: 348.5409 - root_mean_squared_error: 18.6693 - val_loss: 346.1165 - val_root_mean_squared_error: 18.6042\n",
      "Epoch 37/200\n",
      "20/20 [==============================] - 0s 3ms/step - loss: 347.8482 - root_mean_squared_error: 18.6507 - val_loss: 345.4335 - val_root_mean_squared_error: 18.5858\n",
      "Epoch 38/200\n",
      "20/20 [==============================] - 0s 2ms/step - loss: 347.8734 - root_mean_squared_error: 18.6514 - val_loss: 345.6868 - val_root_mean_squared_error: 18.5927\n",
      "Epoch 39/200\n",
      "20/20 [==============================] - 0s 2ms/step - loss: 346.5741 - root_mean_squared_error: 18.6165 - val_loss: 344.2904 - val_root_mean_squared_error: 18.5551\n",
      "Epoch 40/200\n",
      "20/20 [==============================] - 0s 2ms/step - loss: 346.3238 - root_mean_squared_error: 18.6098 - val_loss: 343.7277 - val_root_mean_squared_error: 18.5399\n",
      "Epoch 41/200\n",
      "20/20 [==============================] - 0s 2ms/step - loss: 345.8042 - root_mean_squared_error: 18.5958 - val_loss: 343.0991 - val_root_mean_squared_error: 18.5229\n",
      "Epoch 42/200\n",
      "20/20 [==============================] - 0s 3ms/step - loss: 344.8815 - root_mean_squared_error: 18.5710 - val_loss: 343.1313 - val_root_mean_squared_error: 18.5238\n",
      "Epoch 43/200\n",
      "20/20 [==============================] - 0s 2ms/step - loss: 344.9893 - root_mean_squared_error: 18.5739 - val_loss: 343.2693 - val_root_mean_squared_error: 18.5275\n",
      "Epoch 44/200\n",
      "20/20 [==============================] - 0s 2ms/step - loss: 343.9593 - root_mean_squared_error: 18.5461 - val_loss: 341.7378 - val_root_mean_squared_error: 18.4862\n",
      "Epoch 45/200\n",
      "20/20 [==============================] - 0s 3ms/step - loss: 343.4208 - root_mean_squared_error: 18.5316 - val_loss: 341.1680 - val_root_mean_squared_error: 18.4707\n",
      "Epoch 46/200\n",
      "20/20 [==============================] - 0s 2ms/step - loss: 342.9634 - root_mean_squared_error: 18.5193 - val_loss: 340.8167 - val_root_mean_squared_error: 18.4612\n",
      "Epoch 47/200\n",
      "20/20 [==============================] - 0s 2ms/step - loss: 342.2259 - root_mean_squared_error: 18.4993 - val_loss: 340.0190 - val_root_mean_squared_error: 18.4396\n",
      "Epoch 48/200\n",
      "20/20 [==============================] - 0s 2ms/step - loss: 341.7510 - root_mean_squared_error: 18.4865 - val_loss: 339.5771 - val_root_mean_squared_error: 18.4276\n",
      "Epoch 49/200\n",
      "20/20 [==============================] - 0s 3ms/step - loss: 341.3252 - root_mean_squared_error: 18.4750 - val_loss: 339.3902 - val_root_mean_squared_error: 18.4225\n",
      "Epoch 50/200\n",
      "20/20 [==============================] - 0s 2ms/step - loss: 340.8231 - root_mean_squared_error: 18.4614 - val_loss: 338.3264 - val_root_mean_squared_error: 18.3937\n",
      "Epoch 51/200\n",
      "20/20 [==============================] - 0s 3ms/step - loss: 339.8094 - root_mean_squared_error: 18.4339 - val_loss: 338.0594 - val_root_mean_squared_error: 18.3864\n",
      "Epoch 52/200\n",
      "20/20 [==============================] - 0s 3ms/step - loss: 339.6185 - root_mean_squared_error: 18.4287 - val_loss: 337.3617 - val_root_mean_squared_error: 18.3674\n",
      "Epoch 53/200\n",
      "20/20 [==============================] - 0s 3ms/step - loss: 338.4950 - root_mean_squared_error: 18.3982 - val_loss: 337.3077 - val_root_mean_squared_error: 18.3659\n",
      "Epoch 54/200\n",
      "20/20 [==============================] - 0s 2ms/step - loss: 338.4180 - root_mean_squared_error: 18.3961 - val_loss: 337.2958 - val_root_mean_squared_error: 18.3656\n",
      "Epoch 55/200\n",
      "20/20 [==============================] - 0s 3ms/step - loss: 337.3355 - root_mean_squared_error: 18.3667 - val_loss: 336.3606 - val_root_mean_squared_error: 18.3401\n",
      "Epoch 56/200\n",
      "20/20 [==============================] - 0s 3ms/step - loss: 337.1211 - root_mean_squared_error: 18.3609 - val_loss: 335.8747 - val_root_mean_squared_error: 18.3269\n",
      "Epoch 57/200\n",
      "20/20 [==============================] - 0s 2ms/step - loss: 336.2361 - root_mean_squared_error: 18.3367 - val_loss: 334.8540 - val_root_mean_squared_error: 18.2990\n",
      "Epoch 58/200\n",
      "20/20 [==============================] - 0s 2ms/step - loss: 335.3835 - root_mean_squared_error: 18.3135 - val_loss: 334.1018 - val_root_mean_squared_error: 18.2785\n",
      "Epoch 59/200\n",
      "20/20 [==============================] - 0s 3ms/step - loss: 335.4718 - root_mean_squared_error: 18.3159 - val_loss: 333.3825 - val_root_mean_squared_error: 18.2588\n",
      "Epoch 60/200\n",
      "20/20 [==============================] - 0s 2ms/step - loss: 334.0731 - root_mean_squared_error: 18.2777 - val_loss: 334.5765 - val_root_mean_squared_error: 18.2914\n",
      "Epoch 61/200\n",
      "20/20 [==============================] - 0s 3ms/step - loss: 333.6094 - root_mean_squared_error: 18.2650 - val_loss: 332.9384 - val_root_mean_squared_error: 18.2466\n",
      "Epoch 62/200\n",
      "20/20 [==============================] - 0s 2ms/step - loss: 332.8875 - root_mean_squared_error: 18.2452 - val_loss: 332.0938 - val_root_mean_squared_error: 18.2234\n",
      "Epoch 63/200\n",
      "20/20 [==============================] - 0s 2ms/step - loss: 332.2480 - root_mean_squared_error: 18.2277 - val_loss: 331.4313 - val_root_mean_squared_error: 18.2053\n",
      "Epoch 64/200\n",
      "20/20 [==============================] - 0s 2ms/step - loss: 331.5576 - root_mean_squared_error: 18.2087 - val_loss: 330.5458 - val_root_mean_squared_error: 18.1809\n",
      "Epoch 65/200\n",
      "20/20 [==============================] - 0s 3ms/step - loss: 330.8513 - root_mean_squared_error: 18.1893 - val_loss: 330.1277 - val_root_mean_squared_error: 18.1694\n",
      "Epoch 66/200\n",
      "20/20 [==============================] - 0s 2ms/step - loss: 330.3086 - root_mean_squared_error: 18.1744 - val_loss: 329.4823 - val_root_mean_squared_error: 18.1516\n",
      "Epoch 67/200\n",
      "20/20 [==============================] - 0s 3ms/step - loss: 329.2604 - root_mean_squared_error: 18.1455 - val_loss: 328.8224 - val_root_mean_squared_error: 18.1335\n",
      "Epoch 68/200\n",
      "20/20 [==============================] - 0s 3ms/step - loss: 328.6959 - root_mean_squared_error: 18.1300 - val_loss: 328.6546 - val_root_mean_squared_error: 18.1288\n",
      "Epoch 69/200\n",
      "20/20 [==============================] - 0s 3ms/step - loss: 328.2069 - root_mean_squared_error: 18.1165 - val_loss: 327.5634 - val_root_mean_squared_error: 18.0987\n",
      "Epoch 70/200\n",
      "20/20 [==============================] - 0s 2ms/step - loss: 328.3242 - root_mean_squared_error: 18.1197 - val_loss: 327.8643 - val_root_mean_squared_error: 18.1070\n",
      "Epoch 71/200\n",
      "20/20 [==============================] - 0s 3ms/step - loss: 326.3169 - root_mean_squared_error: 18.0642 - val_loss: 326.1194 - val_root_mean_squared_error: 18.0588\n",
      "Epoch 72/200\n",
      "20/20 [==============================] - 0s 2ms/step - loss: 326.5016 - root_mean_squared_error: 18.0694 - val_loss: 325.9022 - val_root_mean_squared_error: 18.0528\n",
      "Epoch 73/200\n",
      "20/20 [==============================] - 0s 3ms/step - loss: 326.3967 - root_mean_squared_error: 18.0665 - val_loss: 324.7881 - val_root_mean_squared_error: 18.0219\n",
      "Epoch 74/200\n",
      "20/20 [==============================] - 0s 2ms/step - loss: 324.7987 - root_mean_squared_error: 18.0222 - val_loss: 327.1595 - val_root_mean_squared_error: 18.0876\n",
      "Epoch 75/200\n",
      "20/20 [==============================] - 0s 2ms/step - loss: 323.9792 - root_mean_squared_error: 17.9994 - val_loss: 324.6011 - val_root_mean_squared_error: 18.0167\n",
      "Epoch 76/200\n",
      "20/20 [==============================] - 0s 2ms/step - loss: 324.2603 - root_mean_squared_error: 18.0072 - val_loss: 322.8273 - val_root_mean_squared_error: 17.9674\n",
      "Epoch 77/200\n",
      "20/20 [==============================] - 0s 2ms/step - loss: 322.2804 - root_mean_squared_error: 17.9522 - val_loss: 322.6410 - val_root_mean_squared_error: 17.9622\n",
      "Epoch 78/200\n",
      "20/20 [==============================] - 0s 3ms/step - loss: 321.7281 - root_mean_squared_error: 17.9368 - val_loss: 322.4559 - val_root_mean_squared_error: 17.9571\n",
      "Epoch 79/200\n",
      "20/20 [==============================] - 0s 2ms/step - loss: 320.6340 - root_mean_squared_error: 17.9063 - val_loss: 321.8191 - val_root_mean_squared_error: 17.9393\n",
      "Epoch 80/200\n",
      "20/20 [==============================] - 0s 2ms/step - loss: 319.7487 - root_mean_squared_error: 17.8815 - val_loss: 320.5627 - val_root_mean_squared_error: 17.9043\n",
      "Epoch 81/200\n",
      "20/20 [==============================] - 0s 2ms/step - loss: 319.7372 - root_mean_squared_error: 17.8812 - val_loss: 320.6621 - val_root_mean_squared_error: 17.9070\n",
      "Epoch 82/200\n",
      "20/20 [==============================] - 0s 2ms/step - loss: 318.9337 - root_mean_squared_error: 17.8587 - val_loss: 319.1671 - val_root_mean_squared_error: 17.8652\n",
      "Epoch 83/200\n",
      "20/20 [==============================] - 0s 2ms/step - loss: 317.7495 - root_mean_squared_error: 17.8255 - val_loss: 318.8744 - val_root_mean_squared_error: 17.8571\n",
      "Epoch 84/200\n",
      "20/20 [==============================] - 0s 3ms/step - loss: 317.2841 - root_mean_squared_error: 17.8125 - val_loss: 318.4660 - val_root_mean_squared_error: 17.8456\n",
      "Epoch 85/200\n",
      "20/20 [==============================] - 0s 2ms/step - loss: 318.7408 - root_mean_squared_error: 17.8533 - val_loss: 317.0529 - val_root_mean_squared_error: 17.8060\n",
      "Epoch 86/200\n",
      "20/20 [==============================] - 0s 2ms/step - loss: 316.0538 - root_mean_squared_error: 17.7779 - val_loss: 317.2788 - val_root_mean_squared_error: 17.8123\n",
      "Epoch 87/200\n",
      "20/20 [==============================] - 0s 3ms/step - loss: 314.9678 - root_mean_squared_error: 17.7473 - val_loss: 316.1830 - val_root_mean_squared_error: 17.7815\n",
      "Epoch 88/200\n",
      "20/20 [==============================] - 0s 3ms/step - loss: 314.2848 - root_mean_squared_error: 17.7281 - val_loss: 315.5100 - val_root_mean_squared_error: 17.7626\n",
      "Epoch 89/200\n",
      "20/20 [==============================] - 0s 2ms/step - loss: 313.1774 - root_mean_squared_error: 17.6968 - val_loss: 314.5987 - val_root_mean_squared_error: 17.7369\n",
      "Epoch 90/200\n",
      "20/20 [==============================] - 0s 2ms/step - loss: 312.3290 - root_mean_squared_error: 17.6728 - val_loss: 314.1880 - val_root_mean_squared_error: 17.7253\n",
      "Epoch 91/200\n",
      "20/20 [==============================] - 0s 2ms/step - loss: 311.8294 - root_mean_squared_error: 17.6587 - val_loss: 313.6896 - val_root_mean_squared_error: 17.7113\n",
      "Epoch 92/200\n",
      "20/20 [==============================] - 0s 3ms/step - loss: 311.1282 - root_mean_squared_error: 17.6388 - val_loss: 312.9123 - val_root_mean_squared_error: 17.6893\n",
      "Epoch 93/200\n",
      "20/20 [==============================] - 0s 2ms/step - loss: 310.5553 - root_mean_squared_error: 17.6226 - val_loss: 312.5870 - val_root_mean_squared_error: 17.6801\n",
      "Epoch 94/200\n",
      "20/20 [==============================] - 0s 3ms/step - loss: 309.1831 - root_mean_squared_error: 17.5836 - val_loss: 311.4880 - val_root_mean_squared_error: 17.6490\n",
      "Epoch 95/200\n",
      "20/20 [==============================] - 0s 2ms/step - loss: 308.5359 - root_mean_squared_error: 17.5652 - val_loss: 310.5715 - val_root_mean_squared_error: 17.6230\n",
      "Epoch 96/200\n",
      "20/20 [==============================] - 0s 3ms/step - loss: 308.0022 - root_mean_squared_error: 17.5500 - val_loss: 309.8883 - val_root_mean_squared_error: 17.6036\n",
      "Epoch 97/200\n",
      "20/20 [==============================] - 0s 3ms/step - loss: 306.6788 - root_mean_squared_error: 17.5122 - val_loss: 310.4541 - val_root_mean_squared_error: 17.6197\n",
      "Epoch 98/200\n",
      "20/20 [==============================] - 0s 3ms/step - loss: 307.0840 - root_mean_squared_error: 17.5238 - val_loss: 309.4977 - val_root_mean_squared_error: 17.5925\n",
      "Epoch 99/200\n",
      "20/20 [==============================] - 0s 2ms/step - loss: 305.5298 - root_mean_squared_error: 17.4794 - val_loss: 308.1143 - val_root_mean_squared_error: 17.5532\n",
      "Epoch 100/200\n",
      "20/20 [==============================] - 0s 2ms/step - loss: 305.2768 - root_mean_squared_error: 17.4722 - val_loss: 307.2536 - val_root_mean_squared_error: 17.5287\n",
      "Epoch 101/200\n",
      "20/20 [==============================] - 0s 3ms/step - loss: 304.0547 - root_mean_squared_error: 17.4372 - val_loss: 306.8739 - val_root_mean_squared_error: 17.5178\n",
      "Epoch 102/200\n",
      "20/20 [==============================] - 0s 3ms/step - loss: 303.1859 - root_mean_squared_error: 17.4122 - val_loss: 306.4078 - val_root_mean_squared_error: 17.5045\n",
      "Epoch 103/200\n",
      "20/20 [==============================] - 0s 3ms/step - loss: 303.0295 - root_mean_squared_error: 17.4077 - val_loss: 305.2680 - val_root_mean_squared_error: 17.4719\n",
      "Epoch 104/200\n",
      "20/20 [==============================] - 0s 2ms/step - loss: 301.7632 - root_mean_squared_error: 17.3713 - val_loss: 305.6046 - val_root_mean_squared_error: 17.4816\n",
      "Epoch 105/200\n",
      "20/20 [==============================] - 0s 3ms/step - loss: 301.2282 - root_mean_squared_error: 17.3559 - val_loss: 304.1562 - val_root_mean_squared_error: 17.4401\n",
      "Epoch 106/200\n",
      "20/20 [==============================] - 0s 3ms/step - loss: 300.5669 - root_mean_squared_error: 17.3369 - val_loss: 303.4774 - val_root_mean_squared_error: 17.4206\n",
      "Epoch 107/200\n",
      "20/20 [==============================] - 0s 2ms/step - loss: 300.4749 - root_mean_squared_error: 17.3342 - val_loss: 303.1735 - val_root_mean_squared_error: 17.4119\n",
      "Epoch 108/200\n",
      "20/20 [==============================] - 0s 2ms/step - loss: 298.4274 - root_mean_squared_error: 17.2751 - val_loss: 302.0977 - val_root_mean_squared_error: 17.3810\n",
      "Epoch 109/200\n",
      "20/20 [==============================] - 0s 2ms/step - loss: 297.9328 - root_mean_squared_error: 17.2607 - val_loss: 301.3196 - val_root_mean_squared_error: 17.3586\n",
      "Epoch 110/200\n",
      "20/20 [==============================] - 0s 2ms/step - loss: 298.2275 - root_mean_squared_error: 17.2693 - val_loss: 300.6131 - val_root_mean_squared_error: 17.3382\n",
      "Epoch 111/200\n",
      "20/20 [==============================] - 0s 2ms/step - loss: 297.0091 - root_mean_squared_error: 17.2340 - val_loss: 299.9684 - val_root_mean_squared_error: 17.3196\n",
      "Epoch 112/200\n",
      "20/20 [==============================] - 0s 3ms/step - loss: 296.4093 - root_mean_squared_error: 17.2165 - val_loss: 299.4796 - val_root_mean_squared_error: 17.3055\n",
      "Epoch 113/200\n",
      "20/20 [==============================] - 0s 2ms/step - loss: 295.2816 - root_mean_squared_error: 17.1838 - val_loss: 298.7841 - val_root_mean_squared_error: 17.2854\n",
      "Epoch 114/200\n",
      "20/20 [==============================] - 0s 2ms/step - loss: 295.2148 - root_mean_squared_error: 17.1818 - val_loss: 299.1296 - val_root_mean_squared_error: 17.2954\n",
      "Epoch 115/200\n",
      "20/20 [==============================] - 0s 2ms/step - loss: 292.9277 - root_mean_squared_error: 17.1151 - val_loss: 297.5124 - val_root_mean_squared_error: 17.2485\n",
      "Epoch 116/200\n",
      "20/20 [==============================] - 0s 2ms/step - loss: 292.3490 - root_mean_squared_error: 17.0982 - val_loss: 296.6814 - val_root_mean_squared_error: 17.2244\n",
      "Epoch 117/200\n",
      "20/20 [==============================] - 0s 2ms/step - loss: 291.7957 - root_mean_squared_error: 17.0820 - val_loss: 296.1920 - val_root_mean_squared_error: 17.2102\n",
      "Epoch 118/200\n",
      "20/20 [==============================] - 0s 2ms/step - loss: 290.9174 - root_mean_squared_error: 17.0563 - val_loss: 295.8580 - val_root_mean_squared_error: 17.2005\n",
      "Epoch 119/200\n",
      "20/20 [==============================] - 0s 2ms/step - loss: 290.0572 - root_mean_squared_error: 17.0311 - val_loss: 295.0144 - val_root_mean_squared_error: 17.1760\n",
      "Epoch 120/200\n",
      "20/20 [==============================] - 0s 3ms/step - loss: 289.7416 - root_mean_squared_error: 17.0218 - val_loss: 294.0286 - val_root_mean_squared_error: 17.1473\n",
      "Epoch 121/200\n",
      "20/20 [==============================] - 0s 3ms/step - loss: 289.0193 - root_mean_squared_error: 17.0006 - val_loss: 294.6748 - val_root_mean_squared_error: 17.1661\n",
      "Epoch 122/200\n",
      "20/20 [==============================] - 0s 2ms/step - loss: 289.1059 - root_mean_squared_error: 17.0031 - val_loss: 292.8901 - val_root_mean_squared_error: 17.1140\n",
      "Epoch 123/200\n",
      "20/20 [==============================] - 0s 2ms/step - loss: 287.5467 - root_mean_squared_error: 16.9572 - val_loss: 292.8483 - val_root_mean_squared_error: 17.1128\n",
      "Epoch 124/200\n",
      "20/20 [==============================] - 0s 2ms/step - loss: 286.3803 - root_mean_squared_error: 16.9228 - val_loss: 291.7843 - val_root_mean_squared_error: 17.0817\n",
      "Epoch 125/200\n",
      "20/20 [==============================] - 0s 2ms/step - loss: 287.1837 - root_mean_squared_error: 16.9465 - val_loss: 290.8650 - val_root_mean_squared_error: 17.0548\n",
      "Epoch 126/200\n",
      "20/20 [==============================] - 0s 2ms/step - loss: 285.3822 - root_mean_squared_error: 16.8933 - val_loss: 290.6460 - val_root_mean_squared_error: 17.0483\n",
      "Epoch 127/200\n",
      "20/20 [==============================] - 0s 3ms/step - loss: 284.3160 - root_mean_squared_error: 16.8617 - val_loss: 290.3538 - val_root_mean_squared_error: 17.0398\n",
      "Epoch 128/200\n",
      "20/20 [==============================] - 0s 3ms/step - loss: 283.4222 - root_mean_squared_error: 16.8351 - val_loss: 289.2230 - val_root_mean_squared_error: 17.0066\n",
      "Epoch 129/200\n",
      "20/20 [==============================] - 0s 2ms/step - loss: 283.7736 - root_mean_squared_error: 16.8456 - val_loss: 288.8506 - val_root_mean_squared_error: 16.9956\n",
      "Epoch 130/200\n",
      "20/20 [==============================] - 0s 2ms/step - loss: 281.9347 - root_mean_squared_error: 16.7909 - val_loss: 287.8541 - val_root_mean_squared_error: 16.9663\n",
      "Epoch 131/200\n",
      "20/20 [==============================] - 0s 2ms/step - loss: 281.2101 - root_mean_squared_error: 16.7693 - val_loss: 287.8009 - val_root_mean_squared_error: 16.9647\n",
      "Epoch 132/200\n",
      "20/20 [==============================] - 0s 2ms/step - loss: 280.8232 - root_mean_squared_error: 16.7578 - val_loss: 287.2248 - val_root_mean_squared_error: 16.9477\n",
      "Epoch 133/200\n",
      "20/20 [==============================] - 0s 2ms/step - loss: 280.2491 - root_mean_squared_error: 16.7406 - val_loss: 286.0120 - val_root_mean_squared_error: 16.9119\n",
      "Epoch 134/200\n",
      "20/20 [==============================] - 0s 2ms/step - loss: 280.0803 - root_mean_squared_error: 16.7356 - val_loss: 286.7033 - val_root_mean_squared_error: 16.9323\n",
      "Epoch 135/200\n",
      "20/20 [==============================] - 0s 2ms/step - loss: 278.9836 - root_mean_squared_error: 16.7028 - val_loss: 285.2420 - val_root_mean_squared_error: 16.8891\n",
      "Epoch 136/200\n",
      "20/20 [==============================] - 0s 2ms/step - loss: 279.8020 - root_mean_squared_error: 16.7273 - val_loss: 285.5981 - val_root_mean_squared_error: 16.8996\n",
      "Epoch 137/200\n",
      "20/20 [==============================] - 0s 2ms/step - loss: 278.4459 - root_mean_squared_error: 16.6867 - val_loss: 283.7210 - val_root_mean_squared_error: 16.8440\n",
      "Epoch 138/200\n",
      "20/20 [==============================] - 0s 2ms/step - loss: 275.7602 - root_mean_squared_error: 16.6060 - val_loss: 285.6180 - val_root_mean_squared_error: 16.9002\n",
      "Epoch 139/200\n",
      "20/20 [==============================] - 0s 2ms/step - loss: 278.0071 - root_mean_squared_error: 16.6735 - val_loss: 282.9892 - val_root_mean_squared_error: 16.8223\n",
      "Epoch 140/200\n",
      "20/20 [==============================] - 0s 3ms/step - loss: 275.3488 - root_mean_squared_error: 16.5936 - val_loss: 282.6976 - val_root_mean_squared_error: 16.8136\n",
      "Epoch 141/200\n",
      "20/20 [==============================] - 0s 3ms/step - loss: 274.3961 - root_mean_squared_error: 16.5649 - val_loss: 281.6011 - val_root_mean_squared_error: 16.7810\n",
      "Epoch 142/200\n",
      "20/20 [==============================] - 0s 2ms/step - loss: 276.2429 - root_mean_squared_error: 16.6206 - val_loss: 281.1508 - val_root_mean_squared_error: 16.7676\n",
      "Epoch 143/200\n",
      "20/20 [==============================] - 0s 2ms/step - loss: 273.1916 - root_mean_squared_error: 16.5285 - val_loss: 280.6947 - val_root_mean_squared_error: 16.7539\n",
      "Epoch 144/200\n",
      "20/20 [==============================] - 0s 2ms/step - loss: 273.4674 - root_mean_squared_error: 16.5368 - val_loss: 279.8393 - val_root_mean_squared_error: 16.7284\n",
      "Epoch 145/200\n",
      "20/20 [==============================] - 0s 3ms/step - loss: 271.9707 - root_mean_squared_error: 16.4915 - val_loss: 279.3426 - val_root_mean_squared_error: 16.7135\n",
      "Epoch 146/200\n",
      "20/20 [==============================] - 0s 2ms/step - loss: 271.4550 - root_mean_squared_error: 16.4759 - val_loss: 278.7407 - val_root_mean_squared_error: 16.6955\n",
      "Epoch 147/200\n",
      "20/20 [==============================] - 0s 2ms/step - loss: 271.5064 - root_mean_squared_error: 16.4775 - val_loss: 278.2027 - val_root_mean_squared_error: 16.6794\n",
      "Epoch 148/200\n",
      "20/20 [==============================] - 0s 2ms/step - loss: 270.2899 - root_mean_squared_error: 16.4405 - val_loss: 277.6819 - val_root_mean_squared_error: 16.6638\n",
      "Epoch 149/200\n",
      "20/20 [==============================] - 0s 3ms/step - loss: 269.7699 - root_mean_squared_error: 16.4247 - val_loss: 277.3433 - val_root_mean_squared_error: 16.6536\n",
      "Epoch 150/200\n",
      "20/20 [==============================] - 0s 2ms/step - loss: 269.2080 - root_mean_squared_error: 16.4076 - val_loss: 278.1002 - val_root_mean_squared_error: 16.6763\n",
      "Epoch 151/200\n",
      "20/20 [==============================] - 0s 2ms/step - loss: 269.0128 - root_mean_squared_error: 16.4016 - val_loss: 276.4258 - val_root_mean_squared_error: 16.6261\n",
      "Epoch 152/200\n",
      "20/20 [==============================] - 0s 2ms/step - loss: 267.5703 - root_mean_squared_error: 16.3576 - val_loss: 275.5457 - val_root_mean_squared_error: 16.5996\n",
      "Epoch 153/200\n",
      "20/20 [==============================] - 0s 2ms/step - loss: 267.9740 - root_mean_squared_error: 16.3699 - val_loss: 275.6210 - val_root_mean_squared_error: 16.6018\n",
      "Epoch 154/200\n",
      "20/20 [==============================] - 0s 3ms/step - loss: 266.5920 - root_mean_squared_error: 16.3276 - val_loss: 275.1414 - val_root_mean_squared_error: 16.5874\n",
      "Epoch 155/200\n",
      "20/20 [==============================] - 0s 2ms/step - loss: 266.9644 - root_mean_squared_error: 16.3390 - val_loss: 274.0336 - val_root_mean_squared_error: 16.5540\n",
      "Epoch 156/200\n",
      "20/20 [==============================] - 0s 3ms/step - loss: 264.9444 - root_mean_squared_error: 16.2771 - val_loss: 274.6124 - val_root_mean_squared_error: 16.5714\n",
      "Epoch 157/200\n",
      "20/20 [==============================] - 0s 3ms/step - loss: 264.4417 - root_mean_squared_error: 16.2617 - val_loss: 273.1058 - val_root_mean_squared_error: 16.5259\n",
      "Epoch 158/200\n",
      "20/20 [==============================] - 0s 3ms/step - loss: 264.5127 - root_mean_squared_error: 16.2638 - val_loss: 272.7223 - val_root_mean_squared_error: 16.5143\n",
      "Epoch 159/200\n",
      "20/20 [==============================] - 0s 3ms/step - loss: 263.1591 - root_mean_squared_error: 16.2222 - val_loss: 272.3650 - val_root_mean_squared_error: 16.5035\n",
      "Epoch 160/200\n",
      "20/20 [==============================] - 0s 2ms/step - loss: 262.4420 - root_mean_squared_error: 16.2001 - val_loss: 271.5949 - val_root_mean_squared_error: 16.4801\n",
      "Epoch 161/200\n",
      "20/20 [==============================] - 0s 2ms/step - loss: 262.8641 - root_mean_squared_error: 16.2131 - val_loss: 271.2440 - val_root_mean_squared_error: 16.4695\n",
      "Epoch 162/200\n",
      "20/20 [==============================] - 0s 2ms/step - loss: 264.9719 - root_mean_squared_error: 16.2780 - val_loss: 270.6693 - val_root_mean_squared_error: 16.4520\n",
      "Epoch 163/200\n",
      "20/20 [==============================] - 0s 2ms/step - loss: 262.3147 - root_mean_squared_error: 16.1961 - val_loss: 270.9676 - val_root_mean_squared_error: 16.4611\n",
      "Epoch 164/200\n",
      "20/20 [==============================] - 0s 2ms/step - loss: 261.2201 - root_mean_squared_error: 16.1623 - val_loss: 269.9513 - val_root_mean_squared_error: 16.4302\n",
      "Epoch 165/200\n",
      "20/20 [==============================] - 0s 2ms/step - loss: 260.4644 - root_mean_squared_error: 16.1389 - val_loss: 269.4202 - val_root_mean_squared_error: 16.4140\n",
      "Epoch 166/200\n",
      "20/20 [==============================] - 0s 2ms/step - loss: 260.2218 - root_mean_squared_error: 16.1314 - val_loss: 268.9821 - val_root_mean_squared_error: 16.4007\n",
      "Epoch 167/200\n",
      "20/20 [==============================] - 0s 2ms/step - loss: 260.4974 - root_mean_squared_error: 16.1399 - val_loss: 268.5598 - val_root_mean_squared_error: 16.3878\n",
      "Epoch 168/200\n",
      "20/20 [==============================] - 0s 3ms/step - loss: 260.6766 - root_mean_squared_error: 16.1455 - val_loss: 268.1762 - val_root_mean_squared_error: 16.3761\n",
      "Epoch 169/200\n",
      "20/20 [==============================] - 0s 2ms/step - loss: 259.0301 - root_mean_squared_error: 16.0944 - val_loss: 267.7393 - val_root_mean_squared_error: 16.3627\n",
      "Epoch 170/200\n",
      "20/20 [==============================] - 0s 2ms/step - loss: 257.4118 - root_mean_squared_error: 16.0441 - val_loss: 267.8168 - val_root_mean_squared_error: 16.3651\n",
      "Epoch 171/200\n",
      "20/20 [==============================] - 0s 2ms/step - loss: 257.0003 - root_mean_squared_error: 16.0312 - val_loss: 267.9439 - val_root_mean_squared_error: 16.3690\n",
      "Epoch 172/200\n",
      "20/20 [==============================] - 0s 2ms/step - loss: 256.6671 - root_mean_squared_error: 16.0208 - val_loss: 266.5966 - val_root_mean_squared_error: 16.3278\n",
      "Epoch 173/200\n",
      "20/20 [==============================] - 0s 2ms/step - loss: 257.6025 - root_mean_squared_error: 16.0500 - val_loss: 266.1152 - val_root_mean_squared_error: 16.3130\n",
      "Epoch 174/200\n",
      "20/20 [==============================] - 0s 2ms/step - loss: 256.1275 - root_mean_squared_error: 16.0040 - val_loss: 265.6764 - val_root_mean_squared_error: 16.2996\n",
      "Epoch 175/200\n",
      "20/20 [==============================] - 0s 2ms/step - loss: 255.6986 - root_mean_squared_error: 15.9906 - val_loss: 265.2992 - val_root_mean_squared_error: 16.2880\n",
      "Epoch 176/200\n",
      "20/20 [==============================] - 0s 2ms/step - loss: 254.5760 - root_mean_squared_error: 15.9554 - val_loss: 265.0103 - val_root_mean_squared_error: 16.2791\n",
      "Epoch 177/200\n",
      "20/20 [==============================] - 0s 2ms/step - loss: 254.0963 - root_mean_squared_error: 15.9404 - val_loss: 264.5143 - val_root_mean_squared_error: 16.2639\n",
      "Epoch 178/200\n",
      "20/20 [==============================] - 0s 2ms/step - loss: 253.9067 - root_mean_squared_error: 15.9345 - val_loss: 264.5140 - val_root_mean_squared_error: 16.2639\n",
      "Epoch 179/200\n",
      "20/20 [==============================] - 0s 3ms/step - loss: 254.4150 - root_mean_squared_error: 15.9504 - val_loss: 263.8129 - val_root_mean_squared_error: 16.2423\n",
      "Epoch 180/200\n",
      "20/20 [==============================] - 0s 2ms/step - loss: 253.4303 - root_mean_squared_error: 15.9195 - val_loss: 263.5282 - val_root_mean_squared_error: 16.2336\n",
      "Epoch 181/200\n",
      "20/20 [==============================] - 0s 2ms/step - loss: 252.3625 - root_mean_squared_error: 15.8859 - val_loss: 263.1273 - val_root_mean_squared_error: 16.2212\n",
      "Epoch 182/200\n",
      "20/20 [==============================] - 0s 2ms/step - loss: 254.1128 - root_mean_squared_error: 15.9409 - val_loss: 262.7506 - val_root_mean_squared_error: 16.2096\n",
      "Epoch 183/200\n",
      "20/20 [==============================] - 0s 3ms/step - loss: 252.6355 - root_mean_squared_error: 15.8945 - val_loss: 262.5970 - val_root_mean_squared_error: 16.2048\n",
      "Epoch 184/200\n",
      "20/20 [==============================] - 0s 3ms/step - loss: 250.6785 - root_mean_squared_error: 15.8328 - val_loss: 263.6577 - val_root_mean_squared_error: 16.2375\n",
      "Epoch 185/200\n",
      "20/20 [==============================] - 0s 3ms/step - loss: 251.0534 - root_mean_squared_error: 15.8447 - val_loss: 261.7409 - val_root_mean_squared_error: 16.1784\n",
      "Epoch 186/200\n",
      "20/20 [==============================] - 0s 3ms/step - loss: 250.7919 - root_mean_squared_error: 15.8364 - val_loss: 261.7080 - val_root_mean_squared_error: 16.1774\n",
      "Epoch 187/200\n",
      "20/20 [==============================] - 0s 3ms/step - loss: 251.1187 - root_mean_squared_error: 15.8467 - val_loss: 261.1531 - val_root_mean_squared_error: 16.1602\n",
      "Epoch 188/200\n",
      "20/20 [==============================] - 0s 2ms/step - loss: 250.1153 - root_mean_squared_error: 15.8150 - val_loss: 261.3047 - val_root_mean_squared_error: 16.1649\n",
      "Epoch 189/200\n",
      "20/20 [==============================] - 0s 2ms/step - loss: 248.9644 - root_mean_squared_error: 15.7786 - val_loss: 260.4997 - val_root_mean_squared_error: 16.1400\n",
      "Epoch 190/200\n",
      "20/20 [==============================] - 0s 2ms/step - loss: 249.6601 - root_mean_squared_error: 15.8006 - val_loss: 260.1805 - val_root_mean_squared_error: 16.1301\n",
      "Epoch 191/200\n",
      "20/20 [==============================] - 0s 2ms/step - loss: 249.9686 - root_mean_squared_error: 15.8104 - val_loss: 260.0043 - val_root_mean_squared_error: 16.1246\n",
      "Epoch 192/200\n",
      "20/20 [==============================] - 0s 2ms/step - loss: 252.4368 - root_mean_squared_error: 15.8883 - val_loss: 260.8506 - val_root_mean_squared_error: 16.1509\n",
      "Epoch 193/200\n",
      "20/20 [==============================] - 0s 3ms/step - loss: 250.2128 - root_mean_squared_error: 15.8181 - val_loss: 259.3330 - val_root_mean_squared_error: 16.1038\n",
      "Epoch 194/200\n",
      "20/20 [==============================] - 0s 3ms/step - loss: 247.2564 - root_mean_squared_error: 15.7244 - val_loss: 259.0659 - val_root_mean_squared_error: 16.0955\n",
      "Epoch 195/200\n",
      "20/20 [==============================] - 0s 3ms/step - loss: 246.7730 - root_mean_squared_error: 15.7090 - val_loss: 258.9359 - val_root_mean_squared_error: 16.0915\n",
      "Epoch 196/200\n",
      "20/20 [==============================] - 0s 2ms/step - loss: 247.4727 - root_mean_squared_error: 15.7313 - val_loss: 258.7141 - val_root_mean_squared_error: 16.0846\n",
      "Epoch 197/200\n",
      "20/20 [==============================] - 0s 2ms/step - loss: 247.8457 - root_mean_squared_error: 15.7431 - val_loss: 258.2129 - val_root_mean_squared_error: 16.0690\n",
      "Epoch 198/200\n",
      "20/20 [==============================] - 0s 3ms/step - loss: 246.1265 - root_mean_squared_error: 15.6884 - val_loss: 257.9587 - val_root_mean_squared_error: 16.0611\n",
      "Epoch 199/200\n",
      "20/20 [==============================] - 0s 2ms/step - loss: 245.7749 - root_mean_squared_error: 15.6772 - val_loss: 257.7976 - val_root_mean_squared_error: 16.0561\n",
      "Epoch 200/200\n",
      "20/20 [==============================] - 0s 2ms/step - loss: 246.8919 - root_mean_squared_error: 15.7128 - val_loss: 257.5847 - val_root_mean_squared_error: 16.0494\n"
     ]
    }
   ],
   "source": [
    "# fit the model\n",
    "history = model.fit(predictors_train, target_train, epochs=200, verbose=True, validation_data=(predictors_test, target_test))"
   ]
  },
  {
   "cell_type": "code",
   "execution_count": 195,
   "metadata": {},
   "outputs": [
    {
     "name": "stdout",
     "output_type": "stream",
     "text": [
      "20/20 [==============================] - 0s 1ms/step - loss: 285.1078 - root_mean_squared_error: 16.8851\n",
      "9/9 [==============================] - 0s 2ms/step - loss: 295.6717 - root_mean_squared_error: 17.1951\n"
     ]
    }
   ],
   "source": [
    "# Evaluate model\n",
    "train_score = model.evaluate(predictors_train, target_train, verbose=True)\n",
    "test_score = model.evaluate(predictors_test, target_test, verbose=True)"
   ]
  },
  {
   "cell_type": "code",
   "execution_count": 197,
   "metadata": {},
   "outputs": [
    {
     "name": "stdout",
     "output_type": "stream",
     "text": [
      "Validation: [295.6717224121094, 17.19510841369629]\n",
      "Training:   [285.10784912109375, 16.8851375579834]\n",
      "--------------------\n",
      "First 5 samples validation: [66207.53125, 65264.1953125, 64022.51953125, 62298.3203125, 59996.16796875]\n",
      "First 5 samples training: [69525.8828125, 68553.234375, 67485.4375, 65962.7265625, 63882.64453125]\n"
     ]
    }
   ],
   "source": [
    "print(\"Validation:\", test_score)\n",
    "print(\"Training:  \", train_score)\n",
    "print(\"--------------------\")\n",
    "print(\"First 5 samples validation:\", history.history[\"val_loss\"][0:5])\n",
    "print(\"First 5 samples training:\", history.history[\"loss\"][0:5])\n"
   ]
  },
  {
   "cell_type": "code",
   "execution_count": 203,
   "metadata": {},
   "outputs": [
    {
     "data": {
      "text/plain": [
       "<matplotlib.legend.Legend at 0x7fa91c634d60>"
      ]
     },
     "execution_count": 203,
     "metadata": {},
     "output_type": "execute_result"
    },
    {
     "data": {
      "image/png": "[encoded data removed]",
      "text/plain": [
       "<Figure size 432x288 with 1 Axes>"
      ]
     },
     "metadata": {
      "needs_background": "light"
     },
     "output_type": "display_data"
    }
   ],
   "source": [
    " plt.subplot(211)  \n",
    " plt.plot(history.history['loss'])  \n",
    " plt.plot(history.history['val_loss'])  \n",
    " plt.title('model loss')  \n",
    " plt.ylabel('loss')  \n",
    " plt.xlabel('epoch')  \n",
    " plt.legend(['train', 'test'], loc='upper left')"
   ]
  },
  {
   "cell_type": "code",
   "execution_count": 204,
   "metadata": {},
   "outputs": [
    {
     "name": "stdout",
     "output_type": "stream",
     "text": [
      "9/9 [==============================] - 0s 853us/step\n"
     ]
    }
   ],
   "source": [
    "y_pred = model.predict(predictors_test, batch_size=None, verbose=True, steps=None, workers=1, use_multiprocessing=False)"
   ]
  },
  {
   "cell_type": "code",
   "execution_count": 205,
   "metadata": {},
   "outputs": [
    {
     "data": {
      "text/plain": [
       "0.9437068723648224"
      ]
     },
     "execution_count": 205,
     "metadata": {},
     "output_type": "execute_result"
    }
   ],
   "source": [
    "r2_score(target_test, y_pred,)"
   ]
  },
  {
   "cell_type": "code",
   "execution_count": null,
   "metadata": {},
   "outputs": [],
   "source": []
  },
  {
   "cell_type": "code",
   "execution_count": null,
   "metadata": {},
   "outputs": [],
   "source": []
  },
  {
   "cell_type": "markdown",
   "metadata": {
    "button": false,
    "new_sheet": false,
    "run_control": {
     "read_only": false
    }
   },
   "source": [
    "<strong>You can refer to this [link](https://keras.io/models/sequential/) to learn about other functions that you can use for prediction or evaluation.</strong>"
   ]
  },
  {
   "cell_type": "markdown",
   "metadata": {
    "button": false,
    "new_sheet": false,
    "run_control": {
     "read_only": false
    }
   },
   "source": [
    "Feel free to vary the following and note what impact each change has on the model's performance:\n",
    "\n",
    "1. Increase or decreate number of neurons in hidden layers\n",
    "2. Add more hidden layers\n",
    "3. Increase number of epochs"
   ]
  },
  {
   "cell_type": "markdown",
   "metadata": {
    "button": false,
    "new_sheet": false,
    "run_control": {
     "read_only": false
    }
   },
   "source": [
    "### Thank you for completing this lab!\n",
    "\n",
    "This notebook was created by [Alex Aklson](https://www.linkedin.com/in/aklson/). I hope you found this lab interesting and educational. Feel free to contact me if you have any questions!"
   ]
  },
  {
   "cell_type": "markdown",
   "metadata": {
    "button": false,
    "new_sheet": false,
    "run_control": {
     "read_only": false
    }
   },
   "source": [
    "This notebook is part of a course on **Coursera** called *Introduction to Deep Learning & Neural Networks with Keras*. If you accessed this notebook outside the course, you can take this course online by clicking [here](https://cocl.us/DL0101EN_Coursera_Week3_LAB1)."
   ]
  },
  {
   "cell_type": "markdown",
   "metadata": {
    "button": false,
    "new_sheet": false,
    "run_control": {
     "read_only": false
    }
   },
   "source": [
    "<hr>\n",
    "\n",
    "Copyright &copy; 2019 [IBM Developer Skills Network](https://cognitiveclass.ai/?utm_source=bducopyrightlink&utm_medium=dswb&utm_campaign=bdu). This notebook and its source code are released under the terms of the [MIT License](https://bigdatauniversity.com/mit-license/)."
   ]
  }
 ],
 "metadata": {
  "kernelspec": {
   "display_name": "Python 3 (ipykernel)",
   "language": "python",
   "name": "python3"
  },
  "language_info": {
   "codemirror_mode": {
    "name": "ipython",
    "version": 3
   },
   "file_extension": ".py",
   "mimetype": "text/x-python",
   "name": "python",
   "nbconvert_exporter": "python",
   "pygments_lexer": "ipython3",
   "version": "3.9.7"
  }
 },
 "nbformat": 4,
 "nbformat_minor": 4
}
