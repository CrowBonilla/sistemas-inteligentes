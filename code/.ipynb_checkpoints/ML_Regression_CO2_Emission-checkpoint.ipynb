{
 "cells": [
  {
   "cell_type": "markdown",
   "metadata": {
    "button": false,
    "new_sheet": false,
    "run_control": {
     "read_only": false
    }
   },
   "source": [
    "<a href=\"https://www.javeriana.edu.co/inicio\"><img src = \"https://www.javeriana.edu.co/construye-futuro/wp-content/uploads/2021/02/javeriana-web-logo-edu.png\" width = 600, align = \"center\"></a>\n",
    "\n",
    "\n",
    "<h1><center>Machine Learning Method</center></h1>\n",
    "\n",
    "\n",
    "<h4>About this Notebook</h4>\n",
    "In this notebook, we learn how to use scikit-learn to implement simple linear regression. We download a dataset that is related to fuel consumption and Carbon dioxide emission of cars. Then, we split our data into training and test sets, create a model using training set, evaluate your model using test set, and finally use model to predict unknown value.\n"
   ]
  },
  {
   "cell_type": "markdown",
   "metadata": {},
   "source": [
    "<h1>Table of contents</h1>\n",
    "\n",
    "<div class=\"alert alert-block alert-info\" style=\"margin-top: 20px\">\n",
    "    <ol>\n",
    "        <li><a href=\"#understanding_data\">Understanding the Data</a></li>\n",
    "        <li><a href=\"#reading_data\">Reading the data in</a></li>\n",
    "        <li><a href=\"#data_exploration\">Data Exploration</a></li>\n",
    "        <li><a href=\"#simple_regression\">Simple Regression Model</a></li>\n",
    "    </ol>\n",
    "</div>\n",
    "<br>\n",
    "<hr>"
   ]
  },
  {
   "cell_type": "markdown",
   "metadata": {
    "button": false,
    "new_sheet": false,
    "run_control": {
     "read_only": false
    }
   },
   "source": [
    "## Importing Needed packages"
   ]
  },
  {
   "cell_type": "code",
   "execution_count": 2,
   "metadata": {
    "button": false,
    "new_sheet": false,
    "run_control": {
     "read_only": false
    }
   },
   "outputs": [],
   "source": [
    "import matplotlib.pyplot as plt\n",
    "import seaborn as sns\n",
    "import pandas as pd\n",
    "import pylab as pl\n",
    "import numpy as np\n",
    "%matplotlib inline\n",
    "\n",
    "from sklearn.decomposition import PCA\n",
    "from sklearn.preprocessing import StandardScaler\n",
    "from sklearn.model_selection import train_test_split\n",
    "from sklearn.linear_model import LinearRegression, Lasso, Ridge\n",
    "from sklearn.metrics import mean_absolute_error, r2_score, mean_squared_error as mse\n",
    "\n",
    "from sklearn.model_selection import RepeatedKFold\n",
    "from sklearn.model_selection import GridSearchCV\n",
    "import multiprocessing"
   ]
  },
  {
   "cell_type": "markdown",
   "metadata": {
    "button": false,
    "new_sheet": false,
    "run_control": {
     "read_only": false
    }
   },
   "source": [
    "## Downloading Data\n",
    "To download the data, we will use !wget to download it from IBM Object Storage."
   ]
  },
  {
   "cell_type": "code",
   "execution_count": 3,
   "metadata": {
    "button": false,
    "new_sheet": false,
    "run_control": {
     "read_only": false
    }
   },
   "outputs": [],
   "source": [
    "#!wget -O MY2022_Fuel_Consumption_Ratings.csv https://www.nrcan.gc.ca/sites/nrcan/files/oee/files/csv/MY2022%20Fuel%20Consumption%20Ratings.csv"
   ]
  },
  {
   "cell_type": "markdown",
   "metadata": {
    "button": false,
    "new_sheet": false,
    "run_control": {
     "read_only": false
    }
   },
   "source": [
    "\n",
    "<h2 id=\"understanding_data\">Understanding the Data</h2>\n",
    "\n",
    "### `MY2022_Fuel_Consumption_Ratings.csv`:\n",
    "We have downloaded a fuel consumption dataset, **`MY2022 Fuel Consumption Ratings.csv`**, which contains model-specific fuel consumption ratings and estimated carbon dioxide emissions for new light-duty vehicles for retail sale in Canada. [Dataset source](https://open.canada.ca/data/en/dataset/98f1a129-f628-4ce4-b24d-6f16bf24dd64)\n",
    "\n",
    "- **MODELYEAR** e.g. 2022\n",
    "- **MAKE** e.g. Acura\n",
    "- **MODEL** e.g. ILX\n",
    "- **VEHICLE CLASS** e.g. Compact\n",
    "- **ENGINE SIZE** e.g. 2.4\n",
    "- **CYLINDERS** e.g 4\n",
    "- **TRANSMISSION** e.g. AM8\n",
    "- **FUEL** e.g. Z\n",
    "\n",
    "- **FUEL CONSUMPTION in CITY(L/100 km)** e.g. 9.9\n",
    "- **FUEL CONSUMPTION in HWY (L/100 km)** e.g. 7\n",
    "- **FUEL CONSUMPTION COMB (L/100 km)** e.g. 8.6\n",
    "- **CO2 EMISSIONS (g/km)** e.g. 200   --> 6\n",
    "- **SMOG** e.g. 3\n"
   ]
  },
  {
   "cell_type": "markdown",
   "metadata": {
    "button": false,
    "new_sheet": false,
    "run_control": {
     "read_only": false
    }
   },
   "source": [
    "<h2 id=\"reading_data\">Reading the data in</h2>"
   ]
  },
  {
   "cell_type": "code",
   "execution_count": 4,
   "metadata": {
    "button": false,
    "new_sheet": false,
    "run_control": {
     "read_only": false
    }
   },
   "outputs": [
    {
     "data": {
      "text/html": [
       "<div>\n",
       "<style scoped>\n",
       "    .dataframe tbody tr th:only-of-type {\n",
       "        vertical-align: middle;\n",
       "    }\n",
       "\n",
       "    .dataframe tbody tr th {\n",
       "        vertical-align: top;\n",
       "    }\n",
       "\n",
       "    .dataframe thead th {\n",
       "        text-align: right;\n",
       "    }\n",
       "</style>\n",
       "<table border=\"1\" class=\"dataframe\">\n",
       "  <thead>\n",
       "    <tr style=\"text-align: right;\">\n",
       "      <th></th>\n",
       "      <th>Make</th>\n",
       "      <th>Model</th>\n",
       "      <th>Vehicle Class</th>\n",
       "      <th>Engine_Size</th>\n",
       "      <th>Cylinders</th>\n",
       "      <th>Transmission</th>\n",
       "      <th>Fuel</th>\n",
       "      <th>Fuel_Consumption_City</th>\n",
       "      <th>Fuel_Consumption_Hwy</th>\n",
       "      <th>Fuel_Consumption_Comb</th>\n",
       "      <th>Fuel_Consumption_Comb_mpg</th>\n",
       "      <th>CO2_Emissions</th>\n",
       "      <th>CO2_Rating</th>\n",
       "      <th>Smog_Rating</th>\n",
       "    </tr>\n",
       "  </thead>\n",
       "  <tbody>\n",
       "    <tr>\n",
       "      <th>879</th>\n",
       "      <td>Volvo</td>\n",
       "      <td>XC60 B6 AWD</td>\n",
       "      <td>SUV: Small</td>\n",
       "      <td>2.0</td>\n",
       "      <td>4</td>\n",
       "      <td>AS8</td>\n",
       "      <td>Z</td>\n",
       "      <td>11.0</td>\n",
       "      <td>8.7</td>\n",
       "      <td>9.9</td>\n",
       "      <td>29</td>\n",
       "      <td>232</td>\n",
       "      <td>5</td>\n",
       "      <td>7</td>\n",
       "    </tr>\n",
       "    <tr>\n",
       "      <th>880</th>\n",
       "      <td>Volvo</td>\n",
       "      <td>XC90 T5 AWD</td>\n",
       "      <td>SUV: Standard</td>\n",
       "      <td>2.0</td>\n",
       "      <td>4</td>\n",
       "      <td>AS8</td>\n",
       "      <td>Z</td>\n",
       "      <td>11.5</td>\n",
       "      <td>8.4</td>\n",
       "      <td>10.1</td>\n",
       "      <td>28</td>\n",
       "      <td>236</td>\n",
       "      <td>5</td>\n",
       "      <td>5</td>\n",
       "    </tr>\n",
       "    <tr>\n",
       "      <th>881</th>\n",
       "      <td>Volvo</td>\n",
       "      <td>XC90 T6 AWD</td>\n",
       "      <td>SUV: Standard</td>\n",
       "      <td>2.0</td>\n",
       "      <td>4</td>\n",
       "      <td>AS8</td>\n",
       "      <td>Z</td>\n",
       "      <td>12.4</td>\n",
       "      <td>8.9</td>\n",
       "      <td>10.8</td>\n",
       "      <td>26</td>\n",
       "      <td>252</td>\n",
       "      <td>5</td>\n",
       "      <td>7</td>\n",
       "    </tr>\n",
       "  </tbody>\n",
       "</table>\n",
       "</div>"
      ],
      "text/plain": [
       "      Make        Model  Vehicle Class  Engine_Size  Cylinders Transmission  \\\n",
       "879  Volvo  XC60 B6 AWD     SUV: Small          2.0          4          AS8   \n",
       "880  Volvo  XC90 T5 AWD  SUV: Standard          2.0          4          AS8   \n",
       "881  Volvo  XC90 T6 AWD  SUV: Standard          2.0          4          AS8   \n",
       "\n",
       "    Fuel  Fuel_Consumption_City  Fuel_Consumption_Hwy  Fuel_Consumption_Comb  \\\n",
       "879    Z                   11.0                   8.7                    9.9   \n",
       "880    Z                   11.5                   8.4                   10.1   \n",
       "881    Z                   12.4                   8.9                   10.8   \n",
       "\n",
       "     Fuel_Consumption_Comb_mpg  CO2_Emissions  CO2_Rating  Smog_Rating  \n",
       "879                         29            232           5            7  \n",
       "880                         28            236           5            5  \n",
       "881                         26            252           5            7  "
      ]
     },
     "execution_count": 4,
     "metadata": {},
     "output_type": "execute_result"
    }
   ],
   "source": [
    "emissions_df = pd.read_csv(\"Fuel_Consumption_Ratings.csv\", encoding='cp1252',\n",
    "                 nrows=882, usecols=[1,2,3,4,5,6,7,8,9,10,11,12,13,14], index_col=False)\n",
    "\n",
    "# take a look at the dataset\n",
    "emissions_df.tail(3)"
   ]
  },
  {
   "cell_type": "markdown",
   "metadata": {
    "button": false,
    "new_sheet": false,
    "run_control": {
     "read_only": false
    }
   },
   "source": [
    "<h2 id=\"data_exploration\">Data Exploration</h2>\n",
    "Lets first have a descriptive exploration on our data."
   ]
  },
  {
   "cell_type": "code",
   "execution_count": 5,
   "metadata": {
    "button": false,
    "new_sheet": false,
    "run_control": {
     "read_only": false
    }
   },
   "outputs": [
    {
     "data": {
      "text/html": [
       "<div>\n",
       "<style scoped>\n",
       "    .dataframe tbody tr th:only-of-type {\n",
       "        vertical-align: middle;\n",
       "    }\n",
       "\n",
       "    .dataframe tbody tr th {\n",
       "        vertical-align: top;\n",
       "    }\n",
       "\n",
       "    .dataframe thead th {\n",
       "        text-align: right;\n",
       "    }\n",
       "</style>\n",
       "<table border=\"1\" class=\"dataframe\">\n",
       "  <thead>\n",
       "    <tr style=\"text-align: right;\">\n",
       "      <th></th>\n",
       "      <th>Engine_Size</th>\n",
       "      <th>Cylinders</th>\n",
       "      <th>Fuel_Consumption_City</th>\n",
       "      <th>Fuel_Consumption_Hwy</th>\n",
       "      <th>Fuel_Consumption_Comb</th>\n",
       "      <th>Fuel_Consumption_Comb_mpg</th>\n",
       "      <th>CO2_Emissions</th>\n",
       "      <th>CO2_Rating</th>\n",
       "      <th>Smog_Rating</th>\n",
       "    </tr>\n",
       "  </thead>\n",
       "  <tbody>\n",
       "    <tr>\n",
       "      <th>count</th>\n",
       "      <td>882.000000</td>\n",
       "      <td>882.000000</td>\n",
       "      <td>882.000000</td>\n",
       "      <td>882.000000</td>\n",
       "      <td>882.000000</td>\n",
       "      <td>882.000000</td>\n",
       "      <td>882.000000</td>\n",
       "      <td>882.000000</td>\n",
       "      <td>882.000000</td>\n",
       "    </tr>\n",
       "    <tr>\n",
       "      <th>mean</th>\n",
       "      <td>3.117234</td>\n",
       "      <td>5.600907</td>\n",
       "      <td>12.392404</td>\n",
       "      <td>9.320295</td>\n",
       "      <td>11.009751</td>\n",
       "      <td>27.486395</td>\n",
       "      <td>257.041950</td>\n",
       "      <td>4.595238</td>\n",
       "      <td>5.004535</td>\n",
       "    </tr>\n",
       "    <tr>\n",
       "      <th>std</th>\n",
       "      <td>1.317316</td>\n",
       "      <td>1.941692</td>\n",
       "      <td>3.471466</td>\n",
       "      <td>2.306278</td>\n",
       "      <td>2.899504</td>\n",
       "      <td>7.802495</td>\n",
       "      <td>64.782264</td>\n",
       "      <td>1.479523</td>\n",
       "      <td>1.630436</td>\n",
       "    </tr>\n",
       "    <tr>\n",
       "      <th>min</th>\n",
       "      <td>1.200000</td>\n",
       "      <td>3.000000</td>\n",
       "      <td>4.000000</td>\n",
       "      <td>3.900000</td>\n",
       "      <td>4.000000</td>\n",
       "      <td>11.000000</td>\n",
       "      <td>94.000000</td>\n",
       "      <td>1.000000</td>\n",
       "      <td>1.000000</td>\n",
       "    </tr>\n",
       "    <tr>\n",
       "      <th>25%</th>\n",
       "      <td>2.000000</td>\n",
       "      <td>4.000000</td>\n",
       "      <td>10.100000</td>\n",
       "      <td>7.600000</td>\n",
       "      <td>9.000000</td>\n",
       "      <td>22.000000</td>\n",
       "      <td>211.000000</td>\n",
       "      <td>4.000000</td>\n",
       "      <td>3.000000</td>\n",
       "    </tr>\n",
       "    <tr>\n",
       "      <th>50%</th>\n",
       "      <td>3.000000</td>\n",
       "      <td>6.000000</td>\n",
       "      <td>12.100000</td>\n",
       "      <td>9.100000</td>\n",
       "      <td>10.700000</td>\n",
       "      <td>26.000000</td>\n",
       "      <td>254.000000</td>\n",
       "      <td>5.000000</td>\n",
       "      <td>5.000000</td>\n",
       "    </tr>\n",
       "    <tr>\n",
       "      <th>75%</th>\n",
       "      <td>3.600000</td>\n",
       "      <td>6.000000</td>\n",
       "      <td>14.500000</td>\n",
       "      <td>10.600000</td>\n",
       "      <td>12.700000</td>\n",
       "      <td>31.000000</td>\n",
       "      <td>298.000000</td>\n",
       "      <td>5.000000</td>\n",
       "      <td>6.000000</td>\n",
       "    </tr>\n",
       "    <tr>\n",
       "      <th>max</th>\n",
       "      <td>8.000000</td>\n",
       "      <td>16.000000</td>\n",
       "      <td>30.300000</td>\n",
       "      <td>20.900000</td>\n",
       "      <td>26.100000</td>\n",
       "      <td>71.000000</td>\n",
       "      <td>608.000000</td>\n",
       "      <td>10.000000</td>\n",
       "      <td>7.000000</td>\n",
       "    </tr>\n",
       "  </tbody>\n",
       "</table>\n",
       "</div>"
      ],
      "text/plain": [
       "       Engine_Size   Cylinders  Fuel_Consumption_City  Fuel_Consumption_Hwy  \\\n",
       "count   882.000000  882.000000             882.000000            882.000000   \n",
       "mean      3.117234    5.600907              12.392404              9.320295   \n",
       "std       1.317316    1.941692               3.471466              2.306278   \n",
       "min       1.200000    3.000000               4.000000              3.900000   \n",
       "25%       2.000000    4.000000              10.100000              7.600000   \n",
       "50%       3.000000    6.000000              12.100000              9.100000   \n",
       "75%       3.600000    6.000000              14.500000             10.600000   \n",
       "max       8.000000   16.000000              30.300000             20.900000   \n",
       "\n",
       "       Fuel_Consumption_Comb  Fuel_Consumption_Comb_mpg  CO2_Emissions  \\\n",
       "count             882.000000                 882.000000     882.000000   \n",
       "mean               11.009751                  27.486395     257.041950   \n",
       "std                 2.899504                   7.802495      64.782264   \n",
       "min                 4.000000                  11.000000      94.000000   \n",
       "25%                 9.000000                  22.000000     211.000000   \n",
       "50%                10.700000                  26.000000     254.000000   \n",
       "75%                12.700000                  31.000000     298.000000   \n",
       "max                26.100000                  71.000000     608.000000   \n",
       "\n",
       "       CO2_Rating  Smog_Rating  \n",
       "count  882.000000   882.000000  \n",
       "mean     4.595238     5.004535  \n",
       "std      1.479523     1.630436  \n",
       "min      1.000000     1.000000  \n",
       "25%      4.000000     3.000000  \n",
       "50%      5.000000     5.000000  \n",
       "75%      5.000000     6.000000  \n",
       "max     10.000000     7.000000  "
      ]
     },
     "execution_count": 5,
     "metadata": {},
     "output_type": "execute_result"
    }
   ],
   "source": [
    "# summarize the data\n",
    "emissions_df.describe()"
   ]
  },
  {
   "cell_type": "markdown",
   "metadata": {},
   "source": [
    "Lets select some features to explore more."
   ]
  },
  {
   "cell_type": "code",
   "execution_count": 6,
   "metadata": {
    "button": false,
    "new_sheet": false,
    "run_control": {
     "read_only": false
    }
   },
   "outputs": [
    {
     "data": {
      "text/html": [
       "<div>\n",
       "<style scoped>\n",
       "    .dataframe tbody tr th:only-of-type {\n",
       "        vertical-align: middle;\n",
       "    }\n",
       "\n",
       "    .dataframe tbody tr th {\n",
       "        vertical-align: top;\n",
       "    }\n",
       "\n",
       "    .dataframe thead th {\n",
       "        text-align: right;\n",
       "    }\n",
       "</style>\n",
       "<table border=\"1\" class=\"dataframe\">\n",
       "  <thead>\n",
       "    <tr style=\"text-align: right;\">\n",
       "      <th></th>\n",
       "      <th>Engine_Size</th>\n",
       "      <th>Cylinders</th>\n",
       "      <th>Fuel_Consumption_City</th>\n",
       "      <th>Fuel_Consumption_Hwy</th>\n",
       "      <th>Fuel_Consumption_Comb</th>\n",
       "      <th>CO2_Emissions</th>\n",
       "      <th>CO2_Rating</th>\n",
       "      <th>Smog_Rating</th>\n",
       "    </tr>\n",
       "  </thead>\n",
       "  <tbody>\n",
       "    <tr>\n",
       "      <th>199</th>\n",
       "      <td>5.3</td>\n",
       "      <td>8</td>\n",
       "      <td>15.1</td>\n",
       "      <td>11.3</td>\n",
       "      <td>13.4</td>\n",
       "      <td>314</td>\n",
       "      <td>3</td>\n",
       "      <td>6</td>\n",
       "    </tr>\n",
       "    <tr>\n",
       "      <th>879</th>\n",
       "      <td>2.0</td>\n",
       "      <td>4</td>\n",
       "      <td>11.0</td>\n",
       "      <td>8.7</td>\n",
       "      <td>9.9</td>\n",
       "      <td>232</td>\n",
       "      <td>5</td>\n",
       "      <td>7</td>\n",
       "    </tr>\n",
       "    <tr>\n",
       "      <th>844</th>\n",
       "      <td>2.5</td>\n",
       "      <td>4</td>\n",
       "      <td>6.6</td>\n",
       "      <td>6.5</td>\n",
       "      <td>6.6</td>\n",
       "      <td>154</td>\n",
       "      <td>7</td>\n",
       "      <td>7</td>\n",
       "    </tr>\n",
       "    <tr>\n",
       "      <th>90</th>\n",
       "      <td>3.0</td>\n",
       "      <td>6</td>\n",
       "      <td>14.5</td>\n",
       "      <td>10.2</td>\n",
       "      <td>12.6</td>\n",
       "      <td>292</td>\n",
       "      <td>4</td>\n",
       "      <td>5</td>\n",
       "    </tr>\n",
       "  </tbody>\n",
       "</table>\n",
       "</div>"
      ],
      "text/plain": [
       "     Engine_Size  Cylinders  Fuel_Consumption_City  Fuel_Consumption_Hwy  \\\n",
       "199          5.3          8                   15.1                  11.3   \n",
       "879          2.0          4                   11.0                   8.7   \n",
       "844          2.5          4                    6.6                   6.5   \n",
       "90           3.0          6                   14.5                  10.2   \n",
       "\n",
       "     Fuel_Consumption_Comb  CO2_Emissions  CO2_Rating  Smog_Rating  \n",
       "199                   13.4            314           3            6  \n",
       "879                    9.9            232           5            7  \n",
       "844                    6.6            154           7            7  \n",
       "90                    12.6            292           4            5  "
      ]
     },
     "execution_count": 6,
     "metadata": {},
     "output_type": "execute_result"
    }
   ],
   "source": [
    "emissions_df = emissions_df[['Engine_Size','Cylinders','Fuel_Consumption_City','Fuel_Consumption_Hwy','Fuel_Consumption_Comb','CO2_Emissions','CO2_Rating','Smog_Rating']]\n",
    "emissions_df.sample(4)"
   ]
  },
  {
   "cell_type": "markdown",
   "metadata": {},
   "source": [
    "we can plot each of these features:"
   ]
  },
  {
   "cell_type": "code",
   "execution_count": 7,
   "metadata": {
    "button": false,
    "new_sheet": false,
    "run_control": {
     "read_only": false
    }
   },
   "outputs": [
    {
     "data": {
      "image/png": "[encoded data removed]",
      "text/plain": [
       "<Figure size 432x288 with 4 Axes>"
      ]
     },
     "metadata": {
      "needs_background": "light"
     },
     "output_type": "display_data"
    }
   ],
   "source": [
    "viz = emissions_df[['Engine_Size','Cylinders','Fuel_Consumption_City','Fuel_Consumption_Hwy']]\n",
    "viz.hist()\n",
    "plt.show()"
   ]
  },
  {
   "cell_type": "markdown",
   "metadata": {},
   "source": [
    "Now, lets plot each of these features vs the Emission, to see how linear is their relation:"
   ]
  },
  {
   "cell_type": "code",
   "execution_count": 8,
   "metadata": {
    "button": false,
    "new_sheet": false,
    "run_control": {
     "read_only": false
    }
   },
   "outputs": [
    {
     "data": {
      "image/png": "[encoded data removed]",
      "text/plain": [
       "<Figure size 432x288 with 1 Axes>"
      ]
     },
     "metadata": {
      "needs_background": "light"
     },
     "output_type": "display_data"
    }
   ],
   "source": [
    "plt.scatter(emissions_df['Fuel_Consumption_City'], emissions_df['CO2_Emissions'],  color='blue')\n",
    "plt.xlabel(\"FUELCONSUMPTION_COMB\")\n",
    "plt.ylabel(\"Emission\")\n",
    "plt.show()"
   ]
  },
  {
   "cell_type": "code",
   "execution_count": 9,
   "metadata": {
    "button": false,
    "new_sheet": false,
    "run_control": {
     "read_only": false
    },
    "scrolled": true
   },
   "outputs": [
    {
     "data": {
      "image/png": "[encoded data removed]",
      "text/plain": [
       "<Figure size 432x288 with 1 Axes>"
      ]
     },
     "metadata": {
      "needs_background": "light"
     },
     "output_type": "display_data"
    }
   ],
   "source": [
    "plt.scatter(emissions_df['Engine_Size'], emissions_df['CO2_Emissions'],  color='blue')\n",
    "plt.xlabel(\"Engine size\")\n",
    "plt.ylabel(\"Emission\")\n",
    "plt.show()"
   ]
  },
  {
   "cell_type": "code",
   "execution_count": 10,
   "metadata": {
    "button": false,
    "new_sheet": false,
    "run_control": {
     "read_only": false
    }
   },
   "outputs": [
    {
     "data": {
      "image/png": "[encoded data removed]",
      "text/plain": [
       "<Figure size 432x288 with 1 Axes>"
      ]
     },
     "metadata": {
      "needs_background": "light"
     },
     "output_type": "display_data"
    }
   ],
   "source": [
    "plt.scatter(emissions_df['Cylinders'], emissions_df['CO2_Emissions'], color='blue')\n",
    "plt.xlabel('Cylinders')\n",
    "plt.ylabel('Emission')\n",
    "plt.show()"
   ]
  },
  {
   "cell_type": "code",
   "execution_count": 11,
   "metadata": {},
   "outputs": [
    {
     "data": {
      "text/plain": [
       "<AxesSubplot:>"
      ]
     },
     "execution_count": 11,
     "metadata": {},
     "output_type": "execute_result"
    },
    {
     "data": {
      "image/png": "[encoded data removed]",
      "text/plain": [
       "<Figure size 432x288 with 2 Axes>"
      ]
     },
     "metadata": {
      "needs_background": "light"
     },
     "output_type": "display_data"
    }
   ],
   "source": [
    "upp_mat = np.triu(emissions_df.corr())\n",
    "sns.heatmap(emissions_df.corr(), vmin = -1, vmax = +1, annot = True, cmap = 'coolwarm', mask = upp_mat)"
   ]
  },
  {
   "cell_type": "markdown",
   "metadata": {},
   "source": [
    "## Separate features and target in different datasets"
   ]
  },
  {
   "cell_type": "code",
   "execution_count": 12,
   "metadata": {},
   "outputs": [],
   "source": [
    "X =  emissions_df[['Engine_Size','Cylinders','Fuel_Consumption_City','Fuel_Consumption_Hwy']]\n",
    "y =  emissions_df['CO2_Emissions']"
   ]
  },
  {
   "cell_type": "markdown",
   "metadata": {},
   "source": [
    "### Apply Principal Component Analysis"
   ]
  },
  {
   "cell_type": "code",
   "execution_count": 13,
   "metadata": {},
   "outputs": [
    {
     "data": {
      "text/plain": [
       "PCA(n_components=3)"
      ]
     },
     "execution_count": 13,
     "metadata": {},
     "output_type": "execute_result"
    }
   ],
   "source": [
    "# n_components = min(n_muestras, n_feactures)\n",
    "pca = PCA(n_components=3)\n",
    "pca.fit(X)"
   ]
  },
  {
   "cell_type": "code",
   "execution_count": 14,
   "metadata": {},
   "outputs": [
    {
     "data": {
      "image/png": "[encoded data removed]",
      "text/plain": [
       "<Figure size 432x288 with 1 Axes>"
      ]
     },
     "metadata": {
      "needs_background": "light"
     },
     "output_type": "display_data"
    }
   ],
   "source": [
    "plt.plot(range(len(pca.explained_variance_)), pca.explained_variance_ratio_)\n",
    "plt.legend(['PCA'])\n",
    "plt.show()"
   ]
  },
  {
   "cell_type": "markdown",
   "metadata": {},
   "source": [
    "### Normalize"
   ]
  },
  {
   "cell_type": "code",
   "execution_count": 15,
   "metadata": {
    "button": false,
    "new_sheet": false,
    "run_control": {
     "read_only": false
    }
   },
   "outputs": [],
   "source": [
    "#X = StandardScaler().fit_transform(X)"
   ]
  },
  {
   "cell_type": "markdown",
   "metadata": {},
   "source": [
    "## The dataset is separated into a training set and a test set"
   ]
  },
  {
   "cell_type": "markdown",
   "metadata": {
    "button": false,
    "new_sheet": false,
    "run_control": {
     "read_only": false
    }
   },
   "source": [
    "### Creating train and test dataset\n",
    "Train/Test Split involves splitting the dataset into training and testing sets respectively, which are mutually exclusive. After which, you train with the training set and test with the testing set. \n",
    "This will provide a more accurate evaluation on out-of-sample accuracy because the testing dataset is not part of the dataset that have been used to train the data. It is more realistic for real world problems.\n",
    "\n",
    "This means that we know the outcome of each data point in this dataset, making it great to test with! And since this data has not been used to train the model, the model has no knowledge of the outcome of these data points. So, in essence, it is truly an out-of-sample testing.\n",
    "\n",
    "Lets split our dataset into train and test sets, 70% of the entire data for training, and the 30% for testing. "
   ]
  },
  {
   "cell_type": "code",
   "execution_count": 16,
   "metadata": {},
   "outputs": [],
   "source": [
    "X_train,X_test,y_train,y_test = train_test_split(X, y, test_size=0.3, random_state=42)"
   ]
  },
  {
   "cell_type": "markdown",
   "metadata": {
    "button": false,
    "new_sheet": false,
    "run_control": {
     "read_only": false
    }
   },
   "source": [
    "<h2 id=\"simple_regression\">Simple Regression Model</h2>\n",
    "Linear Regression fits a linear model with coefficients $\\theta = (\\theta_1, ..., \\theta_n)$ to minimize the 'residual sum of squares' between the independent x in the dataset, and the dependent y by the linear approximation. "
   ]
  },
  {
   "cell_type": "markdown",
   "metadata": {
    "button": false,
    "new_sheet": false,
    "run_control": {
     "read_only": false
    }
   },
   "source": [
    "## Model"
   ]
  },
  {
   "cell_type": "code",
   "execution_count": 17,
   "metadata": {
    "button": false,
    "new_sheet": false,
    "run_control": {
     "read_only": false
    }
   },
   "outputs": [],
   "source": [
    "stimators = {'Linear':LinearRegression(),\n",
    "            'Lasso': Lasso(alpha=0.02),\n",
    "            'Ridge': Ridge(alpha=1)}"
   ]
  },
  {
   "cell_type": "code",
   "execution_count": 18,
   "metadata": {},
   "outputs": [
    {
     "name": "stdout",
     "output_type": "stream",
     "text": [
      "****************************************************************\n",
      "Linear\n",
      "MSE: 7.5023996350735525\n",
      "R2-score: 0.95\n",
      "intecep: 21.737655663753117  Coeficient: [ 0.39502355  3.0100433  11.2690848   8.33262087]\n"
     ]
    },
    {
     "data": {
      "image/png": "[encoded data removed]",
      "text/plain": [
       "<Figure size 432x288 with 1 Axes>"
      ]
     },
     "metadata": {
      "needs_background": "light"
     },
     "output_type": "display_data"
    },
    {
     "name": "stdout",
     "output_type": "stream",
     "text": [
      "****************************************************************\n",
      "Lasso\n",
      "MSE: 7.504974519857291\n",
      "R2-score: 0.95\n",
      "intecep: 21.761803185442886  Coeficient: [ 0.37204819  3.00668214 11.28683681  8.31615104]\n"
     ]
    },
    {
     "data": {
      "image/png": "[encoded data removed]",
      "text/plain": [
       "<Figure size 432x288 with 1 Axes>"
      ]
     },
     "metadata": {
      "needs_background": "light"
     },
     "output_type": "display_data"
    },
    {
     "name": "stdout",
     "output_type": "stream",
     "text": [
      "****************************************************************\n",
      "Ridge\n",
      "MSE: 7.506425617426513\n",
      "R2-score: 0.95\n",
      "intecep: 21.773595935396145  Coeficient: [ 0.40899692  3.00574934 11.26711093  8.32930888]\n"
     ]
    },
    {
     "data": {
      "image/png": "[encoded data removed]",
      "text/plain": [
       "<Figure size 432x288 with 1 Axes>"
      ]
     },
     "metadata": {
      "needs_background": "light"
     },
     "output_type": "display_data"
    }
   ],
   "source": [
    "for name, stimator in stimators.items():\n",
    "    stimator.fit(X_train,y_train)\n",
    "    predictions = stimator.predict(X_test)\n",
    "    print('*'*64)\n",
    "    print(name)\n",
    "    print('MSE:', mean_absolute_error(y_test, predictions))\n",
    "    print(\"R2-score: %.2f\" % r2_score(y_test, predictions))\n",
    "    print('intecep:',stimator.intercept_,' Coeficient:',stimator.coef_)\n",
    "\n",
    "    plt.ylabel('Predicted Score')\n",
    "    plt.xlabel('Real Score')\n",
    "    plt.title('Predicted VS Real')\n",
    "    plt.scatter(y_test, predictions)\n",
    "    plt.plot(predictions, predictions,'r--')\n",
    "    plt.show()"
   ]
  },
  {
   "cell_type": "code",
   "execution_count": null,
   "metadata": {},
   "outputs": [],
   "source": []
  },
  {
   "cell_type": "markdown",
   "metadata": {},
   "source": [
    "As mentioned before, __Coefficient__ and __Intercept__ in the simple linear regression, are the parameters of the fit line. \n",
    "Given that it is a simple linear regression, with only 2 parameters, and knowing that the parameters are the intercept and slope of the line, sklearn can estimate them directly from our data. \n",
    "Notice that all of the data must be available to traverse and calculate the parameters.\n"
   ]
  },
  {
   "cell_type": "markdown",
   "metadata": {
    "button": false,
    "new_sheet": false,
    "run_control": {
     "read_only": false
    }
   },
   "source": [
    "## Evaluation\n",
    "we compare the actual values and predicted values to calculate the accuracy of a regression model. Evaluation metrics provide a key role in the development of a model, as it provides insight to areas that require improvement.\n",
    "\n",
    "There are different model evaluation metrics, lets use MSE here to calculate the accuracy of our model based on the test set: \n",
    "<ul>\n",
    "    <li> Mean absolute error: It is the mean of the absolute value of the errors. This is the easiest of the metrics to understand since it’s just average error.</li>\n",
    "    <li> Mean Squared Error (MSE): Mean Squared Error (MSE) is the mean of the squared error. It’s more popular than Mean absolute error because the focus is geared more towards large errors. This is due to the squared term exponentially increasing larger errors in comparison to smaller ones.</li>\n",
    "    <li> Root Mean Squared Error (RMSE): This is the square root of the Mean Square Error. </li>\n",
    "    <li> R-squared is not error, but is a popular metric for accuracy of your model. It represents how close the data are to the fitted regression line. The higher the R-squared, the better the model fits your data. Best possible score is 1.0 and it can be negative (because the model can be arbitrarily worse).</li>\n",
    "</ul>"
   ]
  },
  {
   "cell_type": "code",
   "execution_count": 19,
   "metadata": {},
   "outputs": [],
   "source": [
    "from sklearn.linear_model import LinearRegression\n",
    "from sklearn.linear_model import Ridge\n",
    "from sklearn.linear_model import Lasso\n",
    "from sklearn.linear_model import ElasticNet\n",
    "from sklearn.linear_model import RidgeCV\n",
    "from sklearn.linear_model import LassoCV\n",
    "from sklearn.linear_model import ElasticNetCV\n",
    "\n",
    "\n",
    "\n"
   ]
  },
  {
   "cell_type": "markdown",
   "metadata": {},
   "source": [
    "## Ridge"
   ]
  },
  {
   "cell_type": "code",
   "execution_count": 20,
   "metadata": {},
   "outputs": [
    {
     "data": {
      "image/png": "[encoded data removed]",
      "text/plain": [
       "<Figure size 504x276.48 with 1 Axes>"
      ]
     },
     "metadata": {
      "needs_background": "light"
     },
     "output_type": "display_data"
    },
    {
     "name": "stdout",
     "output_type": "stream",
     "text": [
      "Mejor valor de alpha encontrado: 87.03591361485148\n"
     ]
    }
   ],
   "source": [
    "# Creación y entrenamiento del modelo (con búsqueda por CV del valor óptimo alpha)\n",
    "# ==============================================================================\n",
    "# Por defecto RidgeCV utiliza el mean squared error\n",
    "modelo_Ridge = RidgeCV(\n",
    "            alphas          = np.logspace(-10, 2, 200),\n",
    "            fit_intercept   = True,\n",
    "            store_cv_values = True\n",
    "         )\n",
    "\n",
    "_ = modelo_Ridge.fit(X = X, y = y)\n",
    "\n",
    "# Evolución de los coeficientes en función de alpha\n",
    "# ==============================================================================\n",
    "alphas = modelo_Ridge.alphas\n",
    "coefs = []\n",
    "\n",
    "for alpha in alphas:\n",
    "    modelo_temp = Ridge(alpha=alpha, fit_intercept=False)\n",
    "    modelo_temp.fit(X_train, y_train)\n",
    "    coefs.append(modelo_temp.coef_.flatten())\n",
    "\n",
    "fig, ax = plt.subplots(figsize=(7, 3.84))\n",
    "ax.plot(alphas, coefs)\n",
    "ax.set_xscale('log')\n",
    "ax.set_xlabel('alpha')\n",
    "ax.set_ylabel('coeficientes')\n",
    "ax.set_title('Coeficientes del modelo en función de la regularización');\n",
    "plt.axis('tight')\n",
    "plt.show()\n",
    "\n",
    "# Mejor valor alpha encontrado\n",
    "# ==============================================================================\n",
    "print(f\"Mejor valor de alpha encontrado: {modelo_Ridge.alpha_}\")"
   ]
  },
  {
   "cell_type": "markdown",
   "metadata": {},
   "source": [
    "## Lasso"
   ]
  },
  {
   "cell_type": "code",
   "execution_count": 21,
   "metadata": {},
   "outputs": [
    {
     "data": {
      "image/png": "[encoded data removed]",
      "text/plain": [
       "<Figure size 504x276.48 with 1 Axes>"
      ]
     },
     "metadata": {
      "needs_background": "light"
     },
     "output_type": "display_data"
    },
    {
     "name": "stdout",
     "output_type": "stream",
     "text": [
      "Mejor valor de alpha encontrado: 0.6154545454545455\n"
     ]
    }
   ],
   "source": [
    "# Creación y entrenamiento del modelo (con búsqueda por CV del valor óptimo alpha)\n",
    "# ==============================================================================\n",
    "# Por defecto RidgeCV utiliza el mean squared error\n",
    "modelo_Lasso = LassoCV(\n",
    "            alphas          = np.linspace(0.01, 10, 100),\n",
    "            fit_intercept   = True\n",
    "         )\n",
    "\n",
    "_ = modelo_Lasso.fit(X = X, y = y)\n",
    "\n",
    "# Evolución de los coeficientes en función de alpha\n",
    "# ==============================================================================\n",
    "alphas = modelo_Lasso.alphas\n",
    "coefs = []\n",
    "\n",
    "for alpha in alphas:\n",
    "    modelo_temp = Lasso(alpha=alpha)\n",
    "    modelo_temp.fit(X_train, y_train)\n",
    "    coefs.append(modelo_temp.coef_.flatten())\n",
    "\n",
    "fig, ax = plt.subplots(figsize=(7, 3.84))\n",
    "ax.plot(alphas, coefs)\n",
    "ax.set_xscale('log')\n",
    "ax.set_xlabel('alpha')\n",
    "ax.set_ylabel('coeficientes')\n",
    "ax.set_title('Coeficientes del modelo en función de la regularización');\n",
    "plt.axis('tight')\n",
    "plt.show()\n",
    "\n",
    "# Mejor valor alpha encontrado\n",
    "# ==============================================================================\n",
    "print(f\"Mejor valor de alpha encontrado: {modelo_Lasso.alpha_}\")"
   ]
  },
  {
   "cell_type": "markdown",
   "metadata": {},
   "source": [
    "## ElasticNet"
   ]
  },
  {
   "cell_type": "code",
   "execution_count": 22,
   "metadata": {},
   "outputs": [
    {
     "data": {
      "image/png": "[encoded data removed]",
      "text/plain": [
       "<Figure size 504x276.48 with 1 Axes>"
      ]
     },
     "metadata": {
      "needs_background": "light"
     },
     "output_type": "display_data"
    },
    {
     "name": "stdout",
     "output_type": "stream",
     "text": [
      "Mejor valor de alpha encontrado: 0.31683417085427135\n"
     ]
    }
   ],
   "source": [
    "# Creación y entrenamiento del modelo (con búsqueda por CV del valor óptimo alpha)\n",
    "# ==============================================================================\n",
    "# Por defecto RidgeCV utiliza el mean squared error\n",
    "modelo_ElasticNet = ElasticNetCV(\n",
    "            l1_ratio        = [0.1, 0.5, 0.7, 0.9, 0.95, 0.99],\n",
    "            alphas          = np.linspace(0.05, 3, 200),\n",
    "            cv              = 5\n",
    "         )\n",
    "\n",
    "_ = modelo_ElasticNet.fit(X = X, y = y)\n",
    "\n",
    "# Evolución de los coeficientes en función de alpha\n",
    "# ==============================================================================\n",
    "alphas = modelo_ElasticNet.alphas\n",
    "coefs = []\n",
    "\n",
    "for alpha in alphas:\n",
    "    modelo_temp = ElasticNet(alpha=alpha)\n",
    "    modelo_temp.fit(X_train, y_train)\n",
    "    coefs.append(modelo_temp.coef_.flatten())\n",
    "\n",
    "fig, ax = plt.subplots(figsize=(7, 3.84))\n",
    "ax.plot(alphas, coefs)\n",
    "ax.set_xscale('log')\n",
    "ax.set_xlabel('alpha')\n",
    "ax.set_ylabel('coeficientes')\n",
    "ax.set_title('Coeficientes del modelo en función de la regularización');\n",
    "plt.axis('tight')\n",
    "plt.show()\n",
    "\n",
    "# Mejor valor alpha encontrado\n",
    "# ==============================================================================\n",
    "print(f\"Mejor valor de alpha encontrado: {modelo_ElasticNet.alpha_}\")"
   ]
  },
  {
   "cell_type": "markdown",
   "metadata": {},
   "source": [
    "## Install Boosting methods"
   ]
  },
  {
   "cell_type": "code",
   "execution_count": 103,
   "metadata": {},
   "outputs": [
    {
     "name": "stdout",
     "output_type": "stream",
     "text": [
      "Requirement already satisfied: lightgbm in /opt/conda/lib/python3.9/site-packages (3.3.2)\n",
      "Requirement already satisfied: numpy in /opt/conda/lib/python3.9/site-packages (from lightgbm) (1.19.5)\n",
      "Requirement already satisfied: scikit-learn!=0.22.0 in /opt/conda/lib/python3.9/site-packages (from lightgbm) (1.0.2)\n",
      "Requirement already satisfied: scipy in /opt/conda/lib/python3.9/site-packages (from lightgbm) (1.8.0)\n",
      "Requirement already satisfied: wheel in /opt/conda/lib/python3.9/site-packages (from lightgbm) (0.37.1)\n",
      "Requirement already satisfied: joblib>=0.11 in /opt/conda/lib/python3.9/site-packages (from scikit-learn!=0.22.0->lightgbm) (1.1.0)\n",
      "Requirement already satisfied: threadpoolctl>=2.0.0 in /opt/conda/lib/python3.9/site-packages (from scikit-learn!=0.22.0->lightgbm) (3.1.0)\n",
      "Requirement already satisfied: XGBoost in /opt/conda/lib/python3.9/site-packages (1.6.1)\n",
      "Requirement already satisfied: scipy in /opt/conda/lib/python3.9/site-packages (from XGBoost) (1.8.0)\n",
      "Requirement already satisfied: numpy in /opt/conda/lib/python3.9/site-packages (from XGBoost) (1.19.5)\n",
      "Requirement already satisfied: catboost in /opt/conda/lib/python3.9/site-packages (1.0.6)\n",
      "Requirement already satisfied: matplotlib in /opt/conda/lib/python3.9/site-packages (from catboost) (3.5.1)\n",
      "Requirement already satisfied: numpy>=1.16.0 in /opt/conda/lib/python3.9/site-packages (from catboost) (1.19.5)\n",
      "Requirement already satisfied: scipy in /opt/conda/lib/python3.9/site-packages (from catboost) (1.8.0)\n",
      "Requirement already satisfied: plotly in /opt/conda/lib/python3.9/site-packages (from catboost) (5.8.0)\n",
      "Requirement already satisfied: graphviz in /opt/conda/lib/python3.9/site-packages (from catboost) (0.20)\n",
      "Requirement already satisfied: six in /opt/conda/lib/python3.9/site-packages (from catboost) (1.15.0)\n",
      "Requirement already satisfied: pandas>=0.24.0 in /opt/conda/lib/python3.9/site-packages (from catboost) (1.4.1)\n",
      "Requirement already satisfied: python-dateutil>=2.8.1 in /opt/conda/lib/python3.9/site-packages (from pandas>=0.24.0->catboost) (2.8.2)\n",
      "Requirement already satisfied: pytz>=2020.1 in /opt/conda/lib/python3.9/site-packages (from pandas>=0.24.0->catboost) (2021.3)\n",
      "Requirement already satisfied: pillow>=6.2.0 in /opt/conda/lib/python3.9/site-packages (from matplotlib->catboost) (9.0.1)\n",
      "Requirement already satisfied: packaging>=20.0 in /opt/conda/lib/python3.9/site-packages (from matplotlib->catboost) (21.3)\n",
      "Requirement already satisfied: cycler>=0.10 in /opt/conda/lib/python3.9/site-packages (from matplotlib->catboost) (0.11.0)\n",
      "Requirement already satisfied: fonttools>=4.22.0 in /opt/conda/lib/python3.9/site-packages (from matplotlib->catboost) (4.29.1)\n",
      "Requirement already satisfied: pyparsing>=2.2.1 in /opt/conda/lib/python3.9/site-packages (from matplotlib->catboost) (3.0.7)\n",
      "Requirement already satisfied: kiwisolver>=1.0.1 in /opt/conda/lib/python3.9/site-packages (from matplotlib->catboost) (1.3.2)\n",
      "Requirement already satisfied: tenacity>=6.2.0 in /opt/conda/lib/python3.9/site-packages (from plotly->catboost) (8.0.1)\n"
     ]
    }
   ],
   "source": [
    "!pip install lightgbm\n",
    "!pip install XGBoost\n",
    "!pip3 install catboost"
   ]
  },
  {
   "cell_type": "markdown",
   "metadata": {},
   "source": [
    "## Tree"
   ]
  },
  {
   "cell_type": "code",
   "execution_count": 24,
   "metadata": {},
   "outputs": [],
   "source": [
    "from sklearn.tree import DecisionTreeRegressor"
   ]
  },
  {
   "cell_type": "code",
   "execution_count": 50,
   "metadata": {},
   "outputs": [
    {
     "name": "stdout",
     "output_type": "stream",
     "text": [
      "{'max_depth': None, 'max_features': None, 'splitter': 'random'}\n"
     ]
    }
   ],
   "source": [
    "parameters = {'splitter':['best', 'random'],\n",
    "              'max_depth':[None,3,6], \n",
    "              #'min_samples_split':[0.01,0.5,0.9],\n",
    "              'max_features':[None, 'auto', 'sqrt', 'log2']\n",
    "              #'n_estimators':[100,200,]\n",
    "             }\n",
    "\n",
    "tree_model = DecisionTreeRegressor()\n",
    "\n",
    "grid_tree = GridSearchCV(estimator = tree_model,\n",
    "                 param_grid = parameters,\n",
    "                 scoring='neg_root_mean_squared_error',\n",
    "        n_jobs     = multiprocessing.cpu_count() - 1,\n",
    "        cv         = RepeatedKFold(n_splits=5, n_repeats=1, random_state=123), \n",
    "        refit      = True,\n",
    "        verbose    = 0,\n",
    "        return_train_score = True)\n",
    "grid_tree.fit(X = X , y = y)\n",
    "print(grid_tree.best_params_)"
   ]
  },
  {
   "cell_type": "code",
   "execution_count": 51,
   "metadata": {},
   "outputs": [
    {
     "data": {
      "text/html": [
       "<div>\n",
       "<style scoped>\n",
       "    .dataframe tbody tr th:only-of-type {\n",
       "        vertical-align: middle;\n",
       "    }\n",
       "\n",
       "    .dataframe tbody tr th {\n",
       "        vertical-align: top;\n",
       "    }\n",
       "\n",
       "    .dataframe thead th {\n",
       "        text-align: right;\n",
       "    }\n",
       "</style>\n",
       "<table border=\"1\" class=\"dataframe\">\n",
       "  <thead>\n",
       "    <tr style=\"text-align: right;\">\n",
       "      <th></th>\n",
       "      <th>param_max_depth</th>\n",
       "      <th>param_max_features</th>\n",
       "      <th>param_splitter</th>\n",
       "      <th>mean_test_score</th>\n",
       "      <th>std_test_score</th>\n",
       "      <th>mean_train_score</th>\n",
       "      <th>std_train_score</th>\n",
       "    </tr>\n",
       "  </thead>\n",
       "  <tbody>\n",
       "    <tr>\n",
       "      <th>1</th>\n",
       "      <td>None</td>\n",
       "      <td>None</td>\n",
       "      <td>random</td>\n",
       "      <td>-10.655205</td>\n",
       "      <td>3.215448</td>\n",
       "      <td>-0.886907</td>\n",
       "      <td>0.336029</td>\n",
       "    </tr>\n",
       "    <tr>\n",
       "      <th>3</th>\n",
       "      <td>None</td>\n",
       "      <td>auto</td>\n",
       "      <td>random</td>\n",
       "      <td>-12.463079</td>\n",
       "      <td>3.803038</td>\n",
       "      <td>-0.884757</td>\n",
       "      <td>0.338316</td>\n",
       "    </tr>\n",
       "    <tr>\n",
       "      <th>4</th>\n",
       "      <td>None</td>\n",
       "      <td>sqrt</td>\n",
       "      <td>best</td>\n",
       "      <td>-12.495407</td>\n",
       "      <td>5.627311</td>\n",
       "      <td>-0.888224</td>\n",
       "      <td>0.327370</td>\n",
       "    </tr>\n",
       "    <tr>\n",
       "      <th>5</th>\n",
       "      <td>None</td>\n",
       "      <td>sqrt</td>\n",
       "      <td>random</td>\n",
       "      <td>-13.398345</td>\n",
       "      <td>3.231200</td>\n",
       "      <td>-0.886078</td>\n",
       "      <td>0.339041</td>\n",
       "    </tr>\n",
       "    <tr>\n",
       "      <th>2</th>\n",
       "      <td>None</td>\n",
       "      <td>auto</td>\n",
       "      <td>best</td>\n",
       "      <td>-13.527307</td>\n",
       "      <td>4.007500</td>\n",
       "      <td>-0.882848</td>\n",
       "      <td>0.337431</td>\n",
       "    </tr>\n",
       "  </tbody>\n",
       "</table>\n",
       "</div>"
      ],
      "text/plain": [
       "  param_max_depth param_max_features param_splitter  mean_test_score  \\\n",
       "1            None               None         random       -10.655205   \n",
       "3            None               auto         random       -12.463079   \n",
       "4            None               sqrt           best       -12.495407   \n",
       "5            None               sqrt         random       -13.398345   \n",
       "2            None               auto           best       -13.527307   \n",
       "\n",
       "   std_test_score  mean_train_score  std_train_score  \n",
       "1        3.215448         -0.886907         0.336029  \n",
       "3        3.803038         -0.884757         0.338316  \n",
       "4        5.627311         -0.888224         0.327370  \n",
       "5        3.231200         -0.886078         0.339041  \n",
       "2        4.007500         -0.882848         0.337431  "
      ]
     },
     "execution_count": 51,
     "metadata": {},
     "output_type": "execute_result"
    }
   ],
   "source": [
    "# Resultados\n",
    "# ==============================================================================\n",
    "resultados = pd.DataFrame(grid_tree.cv_results_)\n",
    "resultados.filter(regex = '(param.*|mean_t|std_t)') \\\n",
    "    .drop(columns = 'params') \\\n",
    "    .sort_values('mean_test_score', ascending = False) \\\n",
    "    .head(5)"
   ]
  },
  {
   "cell_type": "markdown",
   "metadata": {},
   "source": [
    "## lightgbm"
   ]
  },
  {
   "cell_type": "code",
   "execution_count": 52,
   "metadata": {},
   "outputs": [],
   "source": [
    "import lightgbm as lgb"
   ]
  },
  {
   "cell_type": "code",
   "execution_count": 98,
   "metadata": {},
   "outputs": [
    {
     "name": "stdout",
     "output_type": "stream",
     "text": [
      "{'boosting_type': 'gbdt', 'learning_rate': 0.04, 'n_estimators': 1500, 'num_leaves': 16, 'reg_alpha': 0.4}\n"
     ]
    }
   ],
   "source": [
    "parameters = {'num_leaves':[13,16,19],\n",
    "              'boosting_type':['gbdt','goss'], \n",
    "              'reg_alpha':[0,0.2,0.4],\n",
    "              'learning_rate':[0.05, 0.04,0.03],\n",
    "              'n_estimators':[1000,1500,2000,3000]\n",
    "             }\n",
    "\n",
    "lgb_model = lgb.LGBMRegressor()\n",
    "\n",
    "grid_lgb = GridSearchCV(estimator = lgb_model,\n",
    "                 param_grid = parameters,\n",
    "                 scoring='neg_root_mean_squared_error',\n",
    "        n_jobs     = multiprocessing.cpu_count() - 1,\n",
    "        cv         = RepeatedKFold(n_splits=5, n_repeats=1, random_state=123), \n",
    "        refit      = True,\n",
    "        verbose    = 0,\n",
    "        return_train_score = True)\n",
    "grid_lgb.fit(X = X , y = y)\n",
    "print(grid_lgb.best_params_)"
   ]
  },
  {
   "cell_type": "code",
   "execution_count": 99,
   "metadata": {},
   "outputs": [
    {
     "data": {
      "text/html": [
       "<div>\n",
       "<style scoped>\n",
       "    .dataframe tbody tr th:only-of-type {\n",
       "        vertical-align: middle;\n",
       "    }\n",
       "\n",
       "    .dataframe tbody tr th {\n",
       "        vertical-align: top;\n",
       "    }\n",
       "\n",
       "    .dataframe thead th {\n",
       "        text-align: right;\n",
       "    }\n",
       "</style>\n",
       "<table border=\"1\" class=\"dataframe\">\n",
       "  <thead>\n",
       "    <tr style=\"text-align: right;\">\n",
       "      <th></th>\n",
       "      <th>param_boosting_type</th>\n",
       "      <th>param_learning_rate</th>\n",
       "      <th>param_n_estimators</th>\n",
       "      <th>param_num_leaves</th>\n",
       "      <th>param_reg_alpha</th>\n",
       "      <th>mean_test_score</th>\n",
       "      <th>std_test_score</th>\n",
       "      <th>mean_train_score</th>\n",
       "      <th>std_train_score</th>\n",
       "    </tr>\n",
       "  </thead>\n",
       "  <tbody>\n",
       "    <tr>\n",
       "      <th>50</th>\n",
       "      <td>gbdt</td>\n",
       "      <td>0.04</td>\n",
       "      <td>1500</td>\n",
       "      <td>16</td>\n",
       "      <td>0.4</td>\n",
       "      <td>-12.327291</td>\n",
       "      <td>2.049461</td>\n",
       "      <td>-6.275996</td>\n",
       "      <td>0.830632</td>\n",
       "    </tr>\n",
       "    <tr>\n",
       "      <th>52</th>\n",
       "      <td>gbdt</td>\n",
       "      <td>0.04</td>\n",
       "      <td>1500</td>\n",
       "      <td>19</td>\n",
       "      <td>0.2</td>\n",
       "      <td>-12.332187</td>\n",
       "      <td>2.076627</td>\n",
       "      <td>-6.148576</td>\n",
       "      <td>0.838524</td>\n",
       "    </tr>\n",
       "    <tr>\n",
       "      <th>5</th>\n",
       "      <td>gbdt</td>\n",
       "      <td>0.05</td>\n",
       "      <td>1000</td>\n",
       "      <td>16</td>\n",
       "      <td>0.4</td>\n",
       "      <td>-12.343983</td>\n",
       "      <td>2.061520</td>\n",
       "      <td>-6.598084</td>\n",
       "      <td>0.859345</td>\n",
       "    </tr>\n",
       "    <tr>\n",
       "      <th>7</th>\n",
       "      <td>gbdt</td>\n",
       "      <td>0.05</td>\n",
       "      <td>1000</td>\n",
       "      <td>19</td>\n",
       "      <td>0.2</td>\n",
       "      <td>-12.354970</td>\n",
       "      <td>1.997047</td>\n",
       "      <td>-6.466449</td>\n",
       "      <td>0.873456</td>\n",
       "    </tr>\n",
       "    <tr>\n",
       "      <th>8</th>\n",
       "      <td>gbdt</td>\n",
       "      <td>0.05</td>\n",
       "      <td>1000</td>\n",
       "      <td>19</td>\n",
       "      <td>0.4</td>\n",
       "      <td>-12.355906</td>\n",
       "      <td>2.001455</td>\n",
       "      <td>-6.472142</td>\n",
       "      <td>0.879866</td>\n",
       "    </tr>\n",
       "  </tbody>\n",
       "</table>\n",
       "</div>"
      ],
      "text/plain": [
       "   param_boosting_type param_learning_rate param_n_estimators  \\\n",
       "50                gbdt                0.04               1500   \n",
       "52                gbdt                0.04               1500   \n",
       "5                 gbdt                0.05               1000   \n",
       "7                 gbdt                0.05               1000   \n",
       "8                 gbdt                0.05               1000   \n",
       "\n",
       "   param_num_leaves param_reg_alpha  mean_test_score  std_test_score  \\\n",
       "50               16             0.4       -12.327291        2.049461   \n",
       "52               19             0.2       -12.332187        2.076627   \n",
       "5                16             0.4       -12.343983        2.061520   \n",
       "7                19             0.2       -12.354970        1.997047   \n",
       "8                19             0.4       -12.355906        2.001455   \n",
       "\n",
       "    mean_train_score  std_train_score  \n",
       "50         -6.275996         0.830632  \n",
       "52         -6.148576         0.838524  \n",
       "5          -6.598084         0.859345  \n",
       "7          -6.466449         0.873456  \n",
       "8          -6.472142         0.879866  "
      ]
     },
     "execution_count": 99,
     "metadata": {},
     "output_type": "execute_result"
    }
   ],
   "source": [
    "# Resultados\n",
    "# ==============================================================================\n",
    "resultados = pd.DataFrame(grid_lgb.cv_results_)\n",
    "resultados.filter(regex = '(param.*|mean_t|std_t)') \\\n",
    "    .drop(columns = 'params') \\\n",
    "    .sort_values('mean_test_score', ascending = False) \\\n",
    "    .head(5)"
   ]
  },
  {
   "cell_type": "markdown",
   "metadata": {},
   "source": [
    "## xgboost"
   ]
  },
  {
   "cell_type": "code",
   "execution_count": 59,
   "metadata": {},
   "outputs": [],
   "source": [
    "from xgboost import XGBRegressor"
   ]
  },
  {
   "cell_type": "code",
   "execution_count": 129,
   "metadata": {},
   "outputs": [
    {
     "name": "stdout",
     "output_type": "stream",
     "text": [
      "{'colsample_bytree': 1, 'eta': 0.04, 'max_depth': 5, 'min_child_weight': 0, 'n_estimators': 1500, 'subsample': 1}\n"
     ]
    }
   ],
   "source": [
    "parameters = {'max_depth':[5,7,9],\n",
    "              'colsample_bytree':[0,0.5,1], \n",
    "              'subsample':[0,0.5,1],\n",
    "              'min_child_weight': [0,0.5,1],\n",
    "              'eta':[0.05,0.04,0.03],\n",
    "              'n_estimators':[800,1500,2000]\n",
    "             }\n",
    "\n",
    "XGB_model = XGBRegressor()\n",
    "\n",
    "grid_XGB = GridSearchCV(estimator = XGB_model,\n",
    "                 param_grid = parameters,\n",
    "                 scoring='neg_root_mean_squared_error',\n",
    "        n_jobs     = multiprocessing.cpu_count() - 1,\n",
    "        cv         = RepeatedKFold(n_splits=5, n_repeats=1, random_state=123), \n",
    "        refit      = True,\n",
    "        verbose    = 0,\n",
    "        return_train_score = True)\n",
    "grid_XGB.fit(X = X , y = y)\n",
    "print(grid_XGB.best_params_)"
   ]
  },
  {
   "cell_type": "code",
   "execution_count": 130,
   "metadata": {},
   "outputs": [
    {
     "data": {
      "text/html": [
       "<div>\n",
       "<style scoped>\n",
       "    .dataframe tbody tr th:only-of-type {\n",
       "        vertical-align: middle;\n",
       "    }\n",
       "\n",
       "    .dataframe tbody tr th {\n",
       "        vertical-align: top;\n",
       "    }\n",
       "\n",
       "    .dataframe thead th {\n",
       "        text-align: right;\n",
       "    }\n",
       "</style>\n",
       "<table border=\"1\" class=\"dataframe\">\n",
       "  <thead>\n",
       "    <tr style=\"text-align: right;\">\n",
       "      <th></th>\n",
       "      <th>param_colsample_bytree</th>\n",
       "      <th>param_eta</th>\n",
       "      <th>param_max_depth</th>\n",
       "      <th>param_min_child_weight</th>\n",
       "      <th>param_n_estimators</th>\n",
       "      <th>param_subsample</th>\n",
       "      <th>mean_test_score</th>\n",
       "      <th>std_test_score</th>\n",
       "      <th>mean_train_score</th>\n",
       "      <th>std_train_score</th>\n",
       "    </tr>\n",
       "  </thead>\n",
       "  <tbody>\n",
       "    <tr>\n",
       "      <th>590</th>\n",
       "      <td>1</td>\n",
       "      <td>0.04</td>\n",
       "      <td>5</td>\n",
       "      <td>1</td>\n",
       "      <td>1500</td>\n",
       "      <td>1</td>\n",
       "      <td>-10.077030</td>\n",
       "      <td>5.340060</td>\n",
       "      <td>-1.005201</td>\n",
       "      <td>0.298307</td>\n",
       "    </tr>\n",
       "    <tr>\n",
       "      <th>581</th>\n",
       "      <td>1</td>\n",
       "      <td>0.04</td>\n",
       "      <td>5</td>\n",
       "      <td>0.5</td>\n",
       "      <td>1500</td>\n",
       "      <td>1</td>\n",
       "      <td>-10.077030</td>\n",
       "      <td>5.340060</td>\n",
       "      <td>-1.005201</td>\n",
       "      <td>0.298307</td>\n",
       "    </tr>\n",
       "    <tr>\n",
       "      <th>572</th>\n",
       "      <td>1</td>\n",
       "      <td>0.04</td>\n",
       "      <td>5</td>\n",
       "      <td>0</td>\n",
       "      <td>1500</td>\n",
       "      <td>1</td>\n",
       "      <td>-10.077030</td>\n",
       "      <td>5.340060</td>\n",
       "      <td>-1.005201</td>\n",
       "      <td>0.298307</td>\n",
       "    </tr>\n",
       "    <tr>\n",
       "      <th>593</th>\n",
       "      <td>1</td>\n",
       "      <td>0.04</td>\n",
       "      <td>5</td>\n",
       "      <td>1</td>\n",
       "      <td>2000</td>\n",
       "      <td>1</td>\n",
       "      <td>-10.081293</td>\n",
       "      <td>5.341801</td>\n",
       "      <td>-0.933857</td>\n",
       "      <td>0.315527</td>\n",
       "    </tr>\n",
       "    <tr>\n",
       "      <th>584</th>\n",
       "      <td>1</td>\n",
       "      <td>0.04</td>\n",
       "      <td>5</td>\n",
       "      <td>0.5</td>\n",
       "      <td>2000</td>\n",
       "      <td>1</td>\n",
       "      <td>-10.081293</td>\n",
       "      <td>5.341801</td>\n",
       "      <td>-0.933857</td>\n",
       "      <td>0.315527</td>\n",
       "    </tr>\n",
       "  </tbody>\n",
       "</table>\n",
       "</div>"
      ],
      "text/plain": [
       "    param_colsample_bytree param_eta param_max_depth param_min_child_weight  \\\n",
       "590                      1      0.04               5                      1   \n",
       "581                      1      0.04               5                    0.5   \n",
       "572                      1      0.04               5                      0   \n",
       "593                      1      0.04               5                      1   \n",
       "584                      1      0.04               5                    0.5   \n",
       "\n",
       "    param_n_estimators param_subsample  mean_test_score  std_test_score  \\\n",
       "590               1500               1       -10.077030        5.340060   \n",
       "581               1500               1       -10.077030        5.340060   \n",
       "572               1500               1       -10.077030        5.340060   \n",
       "593               2000               1       -10.081293        5.341801   \n",
       "584               2000               1       -10.081293        5.341801   \n",
       "\n",
       "     mean_train_score  std_train_score  \n",
       "590         -1.005201         0.298307  \n",
       "581         -1.005201         0.298307  \n",
       "572         -1.005201         0.298307  \n",
       "593         -0.933857         0.315527  \n",
       "584         -0.933857         0.315527  "
      ]
     },
     "execution_count": 130,
     "metadata": {},
     "output_type": "execute_result"
    }
   ],
   "source": [
    "# Resultados\n",
    "# ==============================================================================\n",
    "resultados = pd.DataFrame(grid_XGB.cv_results_)\n",
    "resultados.filter(regex = '(param.*|mean_t|std_t)') \\\n",
    "    .drop(columns = 'params') \\\n",
    "    .sort_values('mean_test_score', ascending = False) \\\n",
    "    .head(5)"
   ]
  },
  {
   "cell_type": "markdown",
   "metadata": {},
   "source": [
    "## CatBoost"
   ]
  },
  {
   "cell_type": "code",
   "execution_count": 104,
   "metadata": {},
   "outputs": [],
   "source": [
    "from catboost import CatBoostRegressor"
   ]
  },
  {
   "cell_type": "code",
   "execution_count": 112,
   "metadata": {},
   "outputs": [
    {
     "name": "stdout",
     "output_type": "stream",
     "text": [
      "{'depth': 5, 'iterations': 1800, 'l2_leaf_reg': 0.5, 'learning_rate': 0.03}\n"
     ]
    }
   ],
   "source": [
    "parameters = {'depth'         : [3,4,5],\n",
    "              'learning_rate' : [0.03,0.04,0.05],\n",
    "              'iterations'    : [1500,1800,2100],\n",
    "              'l2_leaf_reg': [0.5,1]\n",
    "             }\n",
    "\n",
    "CAT_model = CatBoostRegressor(verbose=0)\n",
    "\n",
    "grid_CAT = GridSearchCV(estimator = CAT_model,\n",
    "                 param_grid = parameters,\n",
    "                 scoring='neg_root_mean_squared_error',\n",
    "        n_jobs     = multiprocessing.cpu_count() - 1,\n",
    "        cv         = RepeatedKFold(n_splits=5, n_repeats=1, random_state=123), \n",
    "        refit      = True,\n",
    "        verbose    = 0,\n",
    "        return_train_score = True)\n",
    "grid_CAT.fit(X = X , y = y)\n",
    "print(grid_CAT.best_params_)"
   ]
  },
  {
   "cell_type": "code",
   "execution_count": 113,
   "metadata": {},
   "outputs": [
    {
     "data": {
      "text/html": [
       "<div>\n",
       "<style scoped>\n",
       "    .dataframe tbody tr th:only-of-type {\n",
       "        vertical-align: middle;\n",
       "    }\n",
       "\n",
       "    .dataframe tbody tr th {\n",
       "        vertical-align: top;\n",
       "    }\n",
       "\n",
       "    .dataframe thead th {\n",
       "        text-align: right;\n",
       "    }\n",
       "</style>\n",
       "<table border=\"1\" class=\"dataframe\">\n",
       "  <thead>\n",
       "    <tr style=\"text-align: right;\">\n",
       "      <th></th>\n",
       "      <th>param_depth</th>\n",
       "      <th>param_iterations</th>\n",
       "      <th>param_l2_leaf_reg</th>\n",
       "      <th>param_learning_rate</th>\n",
       "      <th>mean_test_score</th>\n",
       "      <th>std_test_score</th>\n",
       "      <th>mean_train_score</th>\n",
       "      <th>std_train_score</th>\n",
       "    </tr>\n",
       "  </thead>\n",
       "  <tbody>\n",
       "    <tr>\n",
       "      <th>42</th>\n",
       "      <td>5</td>\n",
       "      <td>1800</td>\n",
       "      <td>0.5</td>\n",
       "      <td>0.03</td>\n",
       "      <td>-8.941961</td>\n",
       "      <td>4.149834</td>\n",
       "      <td>-1.630001</td>\n",
       "      <td>0.202971</td>\n",
       "    </tr>\n",
       "    <tr>\n",
       "      <th>48</th>\n",
       "      <td>5</td>\n",
       "      <td>2100</td>\n",
       "      <td>0.5</td>\n",
       "      <td>0.03</td>\n",
       "      <td>-8.945898</td>\n",
       "      <td>4.146758</td>\n",
       "      <td>-1.474067</td>\n",
       "      <td>0.202417</td>\n",
       "    </tr>\n",
       "    <tr>\n",
       "      <th>36</th>\n",
       "      <td>5</td>\n",
       "      <td>1500</td>\n",
       "      <td>0.5</td>\n",
       "      <td>0.03</td>\n",
       "      <td>-8.963530</td>\n",
       "      <td>4.129736</td>\n",
       "      <td>-1.852910</td>\n",
       "      <td>0.201873</td>\n",
       "    </tr>\n",
       "    <tr>\n",
       "      <th>38</th>\n",
       "      <td>5</td>\n",
       "      <td>1500</td>\n",
       "      <td>0.5</td>\n",
       "      <td>0.05</td>\n",
       "      <td>-9.092230</td>\n",
       "      <td>4.073677</td>\n",
       "      <td>-1.374705</td>\n",
       "      <td>0.216444</td>\n",
       "    </tr>\n",
       "    <tr>\n",
       "      <th>44</th>\n",
       "      <td>5</td>\n",
       "      <td>1800</td>\n",
       "      <td>0.5</td>\n",
       "      <td>0.05</td>\n",
       "      <td>-9.102178</td>\n",
       "      <td>4.064698</td>\n",
       "      <td>-1.249049</td>\n",
       "      <td>0.219132</td>\n",
       "    </tr>\n",
       "  </tbody>\n",
       "</table>\n",
       "</div>"
      ],
      "text/plain": [
       "   param_depth param_iterations param_l2_leaf_reg param_learning_rate  \\\n",
       "42           5             1800               0.5                0.03   \n",
       "48           5             2100               0.5                0.03   \n",
       "36           5             1500               0.5                0.03   \n",
       "38           5             1500               0.5                0.05   \n",
       "44           5             1800               0.5                0.05   \n",
       "\n",
       "    mean_test_score  std_test_score  mean_train_score  std_train_score  \n",
       "42        -8.941961        4.149834         -1.630001         0.202971  \n",
       "48        -8.945898        4.146758         -1.474067         0.202417  \n",
       "36        -8.963530        4.129736         -1.852910         0.201873  \n",
       "38        -9.092230        4.073677         -1.374705         0.216444  \n",
       "44        -9.102178        4.064698         -1.249049         0.219132  "
      ]
     },
     "execution_count": 113,
     "metadata": {},
     "output_type": "execute_result"
    }
   ],
   "source": [
    "# Resultados\n",
    "# ==============================================================================\n",
    "resultados = pd.DataFrame(grid_CAT.cv_results_)\n",
    "resultados.filter(regex = '(param.*|mean_t|std_t)') \\\n",
    "    .drop(columns = 'params') \\\n",
    "    .sort_values('mean_test_score', ascending = False) \\\n",
    "    .head(5)"
   ]
  },
  {
   "cell_type": "code",
   "execution_count": null,
   "metadata": {},
   "outputs": [],
   "source": []
  },
  {
   "cell_type": "markdown",
   "metadata": {},
   "source": [
    "## AdaBoost"
   ]
  },
  {
   "cell_type": "code",
   "execution_count": 64,
   "metadata": {},
   "outputs": [],
   "source": [
    "from sklearn.ensemble import AdaBoostRegressor"
   ]
  },
  {
   "cell_type": "code",
   "execution_count": 120,
   "metadata": {},
   "outputs": [
    {
     "name": "stdout",
     "output_type": "stream",
     "text": [
      "{'learning_rate': 0.03, 'loss': 'exponential', 'n_estimators': 700}\n"
     ]
    }
   ],
   "source": [
    "parameters = {'loss': ['linear', 'square', 'exponential'],\n",
    "              'learning_rate':[0.03,0.1,0.05,0.03],\n",
    "              'n_estimators':[500, 700, 900]\n",
    "             }\n",
    "\n",
    "ADA_model = AdaBoostRegressor()\n",
    "\n",
    "grid_ADA = GridSearchCV(estimator = ADA_model,\n",
    "                 param_grid = parameters,\n",
    "                 scoring='neg_root_mean_squared_error',\n",
    "        n_jobs     = multiprocessing.cpu_count() - 1,\n",
    "        cv         = RepeatedKFold(n_splits=5, n_repeats=1, random_state=123), \n",
    "        refit      = True,\n",
    "        verbose    = 0,\n",
    "        return_train_score = True)\n",
    "grid_ADA.fit(X = X , y = y)\n",
    "print(grid_ADA.best_params_)"
   ]
  },
  {
   "cell_type": "code",
   "execution_count": 121,
   "metadata": {},
   "outputs": [
    {
     "data": {
      "text/html": [
       "<div>\n",
       "<style scoped>\n",
       "    .dataframe tbody tr th:only-of-type {\n",
       "        vertical-align: middle;\n",
       "    }\n",
       "\n",
       "    .dataframe tbody tr th {\n",
       "        vertical-align: top;\n",
       "    }\n",
       "\n",
       "    .dataframe thead th {\n",
       "        text-align: right;\n",
       "    }\n",
       "</style>\n",
       "<table border=\"1\" class=\"dataframe\">\n",
       "  <thead>\n",
       "    <tr style=\"text-align: right;\">\n",
       "      <th></th>\n",
       "      <th>param_learning_rate</th>\n",
       "      <th>param_loss</th>\n",
       "      <th>param_n_estimators</th>\n",
       "      <th>mean_test_score</th>\n",
       "      <th>std_test_score</th>\n",
       "      <th>mean_train_score</th>\n",
       "      <th>std_train_score</th>\n",
       "    </tr>\n",
       "  </thead>\n",
       "  <tbody>\n",
       "    <tr>\n",
       "      <th>57</th>\n",
       "      <td>0.03</td>\n",
       "      <td>exponential</td>\n",
       "      <td>700</td>\n",
       "      <td>-15.797903</td>\n",
       "      <td>3.100549</td>\n",
       "      <td>-12.998234</td>\n",
       "      <td>0.392781</td>\n",
       "    </tr>\n",
       "    <tr>\n",
       "      <th>41</th>\n",
       "      <td>0.05</td>\n",
       "      <td>exponential</td>\n",
       "      <td>500</td>\n",
       "      <td>-15.814339</td>\n",
       "      <td>3.016409</td>\n",
       "      <td>-12.933997</td>\n",
       "      <td>0.396785</td>\n",
       "    </tr>\n",
       "    <tr>\n",
       "      <th>13</th>\n",
       "      <td>0.03</td>\n",
       "      <td>exponential</td>\n",
       "      <td>900</td>\n",
       "      <td>-15.857374</td>\n",
       "      <td>3.083488</td>\n",
       "      <td>-12.897105</td>\n",
       "      <td>0.395997</td>\n",
       "    </tr>\n",
       "    <tr>\n",
       "      <th>12</th>\n",
       "      <td>0.03</td>\n",
       "      <td>exponential</td>\n",
       "      <td>700</td>\n",
       "      <td>-15.899761</td>\n",
       "      <td>3.082308</td>\n",
       "      <td>-12.969053</td>\n",
       "      <td>0.473594</td>\n",
       "    </tr>\n",
       "    <tr>\n",
       "      <th>58</th>\n",
       "      <td>0.03</td>\n",
       "      <td>exponential</td>\n",
       "      <td>900</td>\n",
       "      <td>-15.929799</td>\n",
       "      <td>3.005070</td>\n",
       "      <td>-13.011353</td>\n",
       "      <td>0.442860</td>\n",
       "    </tr>\n",
       "  </tbody>\n",
       "</table>\n",
       "</div>"
      ],
      "text/plain": [
       "   param_learning_rate   param_loss param_n_estimators  mean_test_score  \\\n",
       "57                0.03  exponential                700       -15.797903   \n",
       "41                0.05  exponential                500       -15.814339   \n",
       "13                0.03  exponential                900       -15.857374   \n",
       "12                0.03  exponential                700       -15.899761   \n",
       "58                0.03  exponential                900       -15.929799   \n",
       "\n",
       "    std_test_score  mean_train_score  std_train_score  \n",
       "57        3.100549        -12.998234         0.392781  \n",
       "41        3.016409        -12.933997         0.396785  \n",
       "13        3.083488        -12.897105         0.395997  \n",
       "12        3.082308        -12.969053         0.473594  \n",
       "58        3.005070        -13.011353         0.442860  "
      ]
     },
     "execution_count": 121,
     "metadata": {},
     "output_type": "execute_result"
    }
   ],
   "source": [
    "# Resultados\n",
    "# ==============================================================================\n",
    "resultados = pd.DataFrame(grid_ADA.cv_results_)\n",
    "resultados.filter(regex = '(param.*|mean_t|std_t)') \\\n",
    "    .drop(columns = 'params') \\\n",
    "    .sort_values('mean_test_score', ascending = False) \\\n",
    "    .head(5)"
   ]
  },
  {
   "cell_type": "markdown",
   "metadata": {},
   "source": [
    "## All"
   ]
  },
  {
   "cell_type": "code",
   "execution_count": 74,
   "metadata": {},
   "outputs": [],
   "source": [
    "from timeit import default_timer as timer\n",
    "import timeit"
   ]
  },
  {
   "cell_type": "code",
   "execution_count": 131,
   "metadata": {},
   "outputs": [
    {
     "name": "stdout",
     "output_type": "stream",
     "text": [
      "Processing with: Linear\n",
      "Processing with: Lasso\n",
      "Processing with: Ridge\n",
      "Processing with: ElasticNet\n",
      "Processing with: Tree\n",
      "Processing with: LGBM\n",
      "Processing with: XGBoost\n",
      "Processing with: CATBoost\n",
      "Processing with: AdaBoost\n"
     ]
    }
   ],
   "source": [
    "ML_algorithm = []\n",
    "time = []\n",
    "RMSE_train = []\n",
    "RMSE_test = []\n",
    "r2_train = []\n",
    "r2_test = []\n",
    "\n",
    "stimators = {'Linear':LinearRegression(),\n",
    "             'Lasso': Lasso(alpha=0.61),\n",
    "             'Ridge': Ridge(alpha=87),\n",
    "             'ElasticNet': Ridge(alpha=0.31),\n",
    "             'Tree': DecisionTreeRegressor(max_depth=None, max_features=None, splitter= 'random'),\n",
    "             'LGBM': lgb.LGBMRegressor(boosting_type='gbdt', learning_rate=0.04, n_estimators=1500, num_leaves=16, reg_alpha=0.4),\n",
    "             'XGBoost': XGBRegressor(colsample_bytree=1, min_child_weight=0, eta=0.05, max_depth=7, n_estimators=800, subsample= 0.5),\n",
    "             'CATBoost': CatBoostRegressor(verbose=0, depth=5, learning_rate=0.03, iterations=1800, l2_leaf_reg=0.5),\n",
    "             'AdaBoost': AdaBoostRegressor(learning_rate=0.03, loss= 'exponential', n_estimators= 700)\n",
    "            }\n",
    "\n",
    "for name, stimator in stimators.items():\n",
    "    \n",
    "    time_aux = []\n",
    "    RMSE_train_aux = []\n",
    "    RMSE_test_aux = []\n",
    "    r2_train_aux = []\n",
    "    r2_test_aux = []\n",
    "    \n",
    "    print('Processing with:', name)\n",
    "    \n",
    "    for j in range(1,2):\n",
    "        \n",
    "        start = timer()\n",
    "        stimator.fit(X_train,y_train)\n",
    "        elapsed_time = timer() - start\n",
    "    \n",
    "        y_pred_train = stimator.predict(X_train)\n",
    "        y_pred_test = stimator.predict(X_test)\n",
    "                \n",
    "        time_aux.append(round(elapsed_time,3))\n",
    "        RMSE_train_aux.append(round(mse(y_train, y_pred_train, squared=False),3))\n",
    "        RMSE_test_aux.append(round(mse(y_test, y_pred_test, squared=False),3))\n",
    "        r2_train_aux.append(round(r2_score(y_train, y_pred_train),3))\n",
    "        r2_test_aux.append(round(r2_score(y_test, y_pred_test),3))\n",
    "        \n",
    "    ML_algorithm.append(name)\n",
    "    time.append(np.mean(time_aux))\n",
    "    RMSE_train.append(np.mean(RMSE_train_aux))\n",
    "    RMSE_test.append(np.mean(RMSE_test_aux))\n",
    "    r2_train.append(np.mean(r2_train_aux))\n",
    "    r2_test.append(np.mean(r2_test_aux))"
   ]
  },
  {
   "cell_type": "code",
   "execution_count": 132,
   "metadata": {},
   "outputs": [
    {
     "name": "stdout",
     "output_type": "stream",
     "text": [
      "        model  exec_time  RMSE_train  RMSE_test  r^2_train  r^2_test\n",
      "0      Linear      0.002      14.784     15.704      0.946     0.946\n",
      "1       Lasso      0.002      14.794     15.766      0.945     0.946\n",
      "2       Ridge      0.002      14.800     15.747      0.945     0.946\n",
      "3  ElasticNet      0.002      14.784     15.704      0.946     0.946\n",
      "4        Tree      0.002       0.186     13.522      1.000     0.960\n",
      "5        LGBM      0.446       5.934     15.543      0.991     0.947\n",
      "6     XGBoost      1.783       0.436     14.332      1.000     0.955\n",
      "7    CATBoost      0.523       1.277     11.835      1.000     0.969\n",
      "8    AdaBoost      0.696      12.152     15.881      0.963     0.945\n"
     ]
    }
   ],
   "source": [
    "df = pd.DataFrame()\n",
    "df['model'] = ML_algorithm\n",
    "df['exec_time'] = time\n",
    "df['RMSE_train'] = RMSE_train\n",
    "df['RMSE_test'] = RMSE_test\n",
    "df['r^2_train'] = r2_train\n",
    "df['r^2_test'] = r2_test\n",
    "\n",
    "print(df)"
   ]
  },
  {
   "cell_type": "code",
   "execution_count": 149,
   "metadata": {},
   "outputs": [
    {
     "data": {
      "image/png": "[encoded data removed]",
      "text/plain": [
       "<Figure size 792x648 with 1 Axes>"
      ]
     },
     "metadata": {},
     "output_type": "display_data"
    }
   ],
   "source": [
    "sns.set_theme(style=\"white\")\n",
    "sns.set_context(\"paper\", rc={\"font.size\":20,\"axes.titlesize\":16,\"axes.labelsize\":13})   \n",
    "\n",
    "\n",
    "sns.relplot(x=\"model\", y=\"exec_time\", alpha=.5, palette='r', s=200, color = 'black',\n",
    "            height=6, data=df) \\\n",
    "    .set(title='Tiempo de entrenamiento', xlabel='Modelo', ylabel='Tiempo de ejecución(s)',\n",
    "        ylim=(-0.05,0.8))\n",
    "plt.gcf().set_size_inches(11, 9)"
   ]
  },
  {
   "cell_type": "code",
   "execution_count": 150,
   "metadata": {},
   "outputs": [
    {
     "data": {
      "image/png": "[encoded data removed]",
      "text/plain": [
       "<Figure size 792x648 with 1 Axes>"
      ]
     },
     "metadata": {},
     "output_type": "display_data"
    }
   ],
   "source": [
    "sns.set_theme(style=\"white\")\n",
    "sns.set_context(\"paper\", rc={\"font.size\":20,\"axes.titlesize\":16,\"axes.labelsize\":13})   \n",
    "\n",
    "\n",
    "sns.relplot(x=\"model\", y=\"RMSE_test\", alpha=.5, palette='r', s=200, color = 'black',\n",
    "            height=6, data=df) \\\n",
    "    .set(title='RMSE por cada modelo', xlabel='Modelo', ylabel='RMSE',\n",
    "        ylim=(10,16))\n",
    "plt.gcf().set_size_inches(11, 9)"
   ]
  },
  {
   "cell_type": "code",
   "execution_count": 153,
   "metadata": {},
   "outputs": [
    {
     "data": {
      "image/png": "[encoded data removed]",
      "text/plain": [
       "<Figure size 792x648 with 1 Axes>"
      ]
     },
     "metadata": {},
     "output_type": "display_data"
    }
   ],
   "source": [
    "sns.set_theme(style=\"white\")\n",
    "sns.set_context(\"paper\", rc={\"font.size\":20,\"axes.titlesize\":16,\"axes.labelsize\":13})   \n",
    "\n",
    "sns.relplot(x=\"model\", y=\"r^2_test\", alpha=.5, palette='r', s=200, color = 'black',\n",
    "            height=6, data=df) \\\n",
    "    .set(title='R^2 por cada modelo', xlabel='Modelo', ylabel='R^2',\n",
    "        ylim=(0.92,1))\n",
    "plt.gcf().set_size_inches(11, 9)"
   ]
  }
 ],
 "metadata": {
  "kernelspec": {
   "display_name": "Python 3 (ipykernel)",
   "language": "python",
   "name": "python3"
  },
  "language_info": {
   "codemirror_mode": {
    "name": "ipython",
    "version": 3
   },
   "file_extension": ".py",
   "mimetype": "text/x-python",
   "name": "python",
   "nbconvert_exporter": "python",
   "pygments_lexer": "ipython3",
   "version": "3.9.7"
  },
  "widgets": {
   "state": {},
   "version": "1.1.2"
  }
 },
 "nbformat": 4,
 "nbformat_minor": 4
}
