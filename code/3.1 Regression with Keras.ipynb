{
 "cells": [
  {
   "cell_type": "markdown",
   "metadata": {
    "button": false,
    "new_sheet": false,
    "run_control": {
     "read_only": false
    }
   },
   "source": [
    "<a href=\"https://www.javeriana.edu.co/inicio\"><img src = \"https://www.javeriana.edu.co/construye-futuro/wp-content/uploads/2021/02/javeriana-web-logo-edu.png\" width = 600, align = \"center\"></a>\n",
    "\n",
    "<h1>Regression Models with Neural Network</h1>"
   ]
  },
  {
   "cell_type": "markdown",
   "metadata": {
    "button": false,
    "new_sheet": false,
    "run_control": {
     "read_only": false
    }
   },
   "source": [
    "## Table of Contents\n",
    "\n",
    "<div class=\"alert alert-block alert-info\" style=\"margin-top: 20px\">\n",
    "\n",
    "<font size = 3>\n",
    "    \n",
    "1. <a href=\"#item31\">Download and Clean Dataset</a>  \n",
    "2. <a href=\"#item32\">Import Keras</a>  \n",
    "3. <a href=\"#item33\">Build a Neural Network</a>  \n",
    "4. <a href=\"#item34\">Train and Test the Network</a>  \n",
    "\n",
    "</font>\n",
    "</div>"
   ]
  },
  {
   "cell_type": "markdown",
   "metadata": {
    "button": false,
    "new_sheet": false,
    "run_control": {
     "read_only": false
    }
   },
   "source": [
    "<a id=\"item31\"></a>"
   ]
  },
  {
   "cell_type": "markdown",
   "metadata": {
    "button": false,
    "new_sheet": false,
    "run_control": {
     "read_only": false
    }
   },
   "source": [
    "## Download and Clean Dataset"
   ]
  },
  {
   "cell_type": "markdown",
   "metadata": {
    "button": false,
    "new_sheet": false,
    "run_control": {
     "read_only": false
    }
   },
   "source": [
    "Let's start by importing the <em>pandas</em> and the Numpy libraries."
   ]
  },
  {
   "cell_type": "code",
   "execution_count": 196,
   "metadata": {},
   "outputs": [],
   "source": [
    "#!pip3 install python-time"
   ]
  },
  {
   "cell_type": "code",
   "execution_count": 336,
   "metadata": {
    "button": false,
    "new_sheet": false,
    "run_control": {
     "read_only": false
    }
   },
   "outputs": [],
   "source": [
    "import pandas as pd\n",
    "import numpy as np\n",
    "import tensorflow as tf\n",
    "import matplotlib.pyplot as plt\n",
    "%matplotlib inline\n",
    "\n",
    "from sklearn.preprocessing import StandardScaler\n",
    "from sklearn.model_selection import train_test_split\n",
    "from sklearn.metrics import r2_score, mean_absolute_error\n",
    "from math import sqrt\n",
    "\n",
    "import tensorflow as tf\n",
    "from keras import optimizers\n",
    "from tensorflow.keras.optimizers import SGD\n",
    "\n",
    "\n",
    "\n",
    "import time"
   ]
  },
  {
   "cell_type": "markdown",
   "metadata": {
    "button": false,
    "new_sheet": false,
    "run_control": {
     "read_only": false
    }
   },
   "source": [
    "\n",
    "<h2 id=\"understanding_data\">Understanding the Data</h2>\n",
    "\n",
    "### `MY2022_Fuel_Consumption_Ratings.csv`:\n",
    "We have downloaded a fuel consumption dataset, **`MY2022 Fuel Consumption Ratings.csv`**, which contains model-specific fuel consumption ratings and estimated carbon dioxide emissions for new light-duty vehicles for retail sale in Canada. [Dataset source](https://open.canada.ca/data/en/dataset/98f1a129-f628-4ce4-b24d-6f16bf24dd64)\n",
    "\n",
    "- **MODELYEAR** e.g. 2022\n",
    "- **MAKE** e.g. Acura\n",
    "- **MODEL** e.g. ILX\n",
    "- **VEHICLE CLASS** e.g. Compact\n",
    "- **ENGINE SIZE** e.g. 2.4\n",
    "- **CYLINDERS** e.g 4\n",
    "- **TRANSMISSION** e.g. AM8\n",
    "- **FUEL** e.g. Z\n",
    "\n",
    "- **FUEL CONSUMPTION in CITY(L/100 km)** e.g. 9.9\n",
    "- **FUEL CONSUMPTION in HWY (L/100 km)** e.g. 7\n",
    "- **FUEL CONSUMPTION COMB (L/100 km)** e.g. 8.6\n",
    "- **CO2 EMISSIONS (g/km)** e.g. 200   --> 6\n",
    "- **SMOG** e.g. 3"
   ]
  },
  {
   "cell_type": "markdown",
   "metadata": {
    "button": false,
    "new_sheet": false,
    "run_control": {
     "read_only": false
    }
   },
   "source": [
    "Let's download the data and read it into a <em>pandas</em> dataframe."
   ]
  },
  {
   "cell_type": "code",
   "execution_count": 224,
   "metadata": {
    "button": false,
    "new_sheet": false,
    "run_control": {
     "read_only": false
    }
   },
   "outputs": [
    {
     "data": {
      "text/html": [
       "<div>\n",
       "<style scoped>\n",
       "    .dataframe tbody tr th:only-of-type {\n",
       "        vertical-align: middle;\n",
       "    }\n",
       "\n",
       "    .dataframe tbody tr th {\n",
       "        vertical-align: top;\n",
       "    }\n",
       "\n",
       "    .dataframe thead th {\n",
       "        text-align: right;\n",
       "    }\n",
       "</style>\n",
       "<table border=\"1\" class=\"dataframe\">\n",
       "  <thead>\n",
       "    <tr style=\"text-align: right;\">\n",
       "      <th></th>\n",
       "      <th>Model_year</th>\n",
       "      <th>Make</th>\n",
       "      <th>Model</th>\n",
       "      <th>Vehicle Class</th>\n",
       "      <th>Engine_Size</th>\n",
       "      <th>Cylinders</th>\n",
       "      <th>Transmission</th>\n",
       "      <th>Fuel</th>\n",
       "      <th>Fuel_Consumption_City</th>\n",
       "      <th>Fuel_Consumption_Hwy</th>\n",
       "      <th>Fuel_Consumption_Comb</th>\n",
       "      <th>Fuel_Consumption_Comb_mpg</th>\n",
       "      <th>CO2_Emissions</th>\n",
       "      <th>CO2_Rating</th>\n",
       "      <th>Smog_Rating</th>\n",
       "    </tr>\n",
       "  </thead>\n",
       "  <tbody>\n",
       "    <tr>\n",
       "      <th>0</th>\n",
       "      <td>2022</td>\n",
       "      <td>Acura</td>\n",
       "      <td>ILX</td>\n",
       "      <td>Compact</td>\n",
       "      <td>2.4</td>\n",
       "      <td>4</td>\n",
       "      <td>AM8</td>\n",
       "      <td>Z</td>\n",
       "      <td>9.9</td>\n",
       "      <td>7.0</td>\n",
       "      <td>8.6</td>\n",
       "      <td>33</td>\n",
       "      <td>200</td>\n",
       "      <td>6.0</td>\n",
       "      <td>3.0</td>\n",
       "    </tr>\n",
       "    <tr>\n",
       "      <th>1</th>\n",
       "      <td>2022</td>\n",
       "      <td>Acura</td>\n",
       "      <td>MDX SH-AWD</td>\n",
       "      <td>SUV: Small</td>\n",
       "      <td>3.5</td>\n",
       "      <td>6</td>\n",
       "      <td>AS10</td>\n",
       "      <td>Z</td>\n",
       "      <td>12.6</td>\n",
       "      <td>9.4</td>\n",
       "      <td>11.2</td>\n",
       "      <td>25</td>\n",
       "      <td>263</td>\n",
       "      <td>4.0</td>\n",
       "      <td>5.0</td>\n",
       "    </tr>\n",
       "    <tr>\n",
       "      <th>2</th>\n",
       "      <td>2022</td>\n",
       "      <td>Acura</td>\n",
       "      <td>RDX SH-AWD</td>\n",
       "      <td>SUV: Small</td>\n",
       "      <td>2.0</td>\n",
       "      <td>4</td>\n",
       "      <td>AS10</td>\n",
       "      <td>Z</td>\n",
       "      <td>11.0</td>\n",
       "      <td>8.6</td>\n",
       "      <td>9.9</td>\n",
       "      <td>29</td>\n",
       "      <td>232</td>\n",
       "      <td>5.0</td>\n",
       "      <td>6.0</td>\n",
       "    </tr>\n",
       "    <tr>\n",
       "      <th>3</th>\n",
       "      <td>2022</td>\n",
       "      <td>Acura</td>\n",
       "      <td>RDX SH-AWD A-SPEC</td>\n",
       "      <td>SUV: Small</td>\n",
       "      <td>2.0</td>\n",
       "      <td>4</td>\n",
       "      <td>AS10</td>\n",
       "      <td>Z</td>\n",
       "      <td>11.3</td>\n",
       "      <td>9.1</td>\n",
       "      <td>10.3</td>\n",
       "      <td>27</td>\n",
       "      <td>242</td>\n",
       "      <td>5.0</td>\n",
       "      <td>6.0</td>\n",
       "    </tr>\n",
       "    <tr>\n",
       "      <th>4</th>\n",
       "      <td>2022</td>\n",
       "      <td>Acura</td>\n",
       "      <td>TLX SH-AWD</td>\n",
       "      <td>Compact</td>\n",
       "      <td>2.0</td>\n",
       "      <td>4</td>\n",
       "      <td>AS10</td>\n",
       "      <td>Z</td>\n",
       "      <td>11.2</td>\n",
       "      <td>8.0</td>\n",
       "      <td>9.8</td>\n",
       "      <td>29</td>\n",
       "      <td>230</td>\n",
       "      <td>5.0</td>\n",
       "      <td>7.0</td>\n",
       "    </tr>\n",
       "  </tbody>\n",
       "</table>\n",
       "</div>"
      ],
      "text/plain": [
       "   Model_year   Make              Model Vehicle Class  Engine_Size  Cylinders  \\\n",
       "0        2022  Acura                ILX       Compact          2.4          4   \n",
       "1        2022  Acura         MDX SH-AWD    SUV: Small          3.5          6   \n",
       "2        2022  Acura         RDX SH-AWD    SUV: Small          2.0          4   \n",
       "3        2022  Acura  RDX SH-AWD A-SPEC    SUV: Small          2.0          4   \n",
       "4        2022  Acura         TLX SH-AWD       Compact          2.0          4   \n",
       "\n",
       "  Transmission Fuel  Fuel_Consumption_City  Fuel_Consumption_Hwy  \\\n",
       "0          AM8    Z                    9.9                   7.0   \n",
       "1         AS10    Z                   12.6                   9.4   \n",
       "2         AS10    Z                   11.0                   8.6   \n",
       "3         AS10    Z                   11.3                   9.1   \n",
       "4         AS10    Z                   11.2                   8.0   \n",
       "\n",
       "   Fuel_Consumption_Comb  Fuel_Consumption_Comb_mpg  CO2_Emissions  \\\n",
       "0                    8.6                         33            200   \n",
       "1                   11.2                         25            263   \n",
       "2                    9.9                         29            232   \n",
       "3                   10.3                         27            242   \n",
       "4                    9.8                         29            230   \n",
       "\n",
       "   CO2_Rating  Smog_Rating  \n",
       "0         6.0          3.0  \n",
       "1         4.0          5.0  \n",
       "2         5.0          6.0  \n",
       "3         5.0          6.0  \n",
       "4         5.0          7.0  "
      ]
     },
     "execution_count": 224,
     "metadata": {},
     "output_type": "execute_result"
    }
   ],
   "source": [
    "emissions_df = pd.read_csv(\"Fuel_Consumption_Ratings.csv\", encoding='cp1252', index_col=False)\n",
    "emissions_df.head()"
   ]
  },
  {
   "cell_type": "markdown",
   "metadata": {
    "button": false,
    "new_sheet": false,
    "run_control": {
     "read_only": false
    }
   },
   "source": [
    "So the first concrete sample has 540 cubic meter of cement, 0 cubic meter of blast furnace slag, 0 cubic meter of fly ash, 162 cubic meter of water, 2.5 cubic meter of superplaticizer, 1040 cubic meter of coarse aggregate, 676 cubic meter of fine aggregate. Such a concrete mix which is 28 days old, has a compressive strength of 79.99 MPa. "
   ]
  },
  {
   "cell_type": "markdown",
   "metadata": {
    "button": false,
    "new_sheet": false,
    "run_control": {
     "read_only": false
    }
   },
   "source": [
    "#### Let's check how many data points we have."
   ]
  },
  {
   "cell_type": "code",
   "execution_count": 225,
   "metadata": {
    "button": false,
    "new_sheet": false,
    "run_control": {
     "read_only": false
    }
   },
   "outputs": [
    {
     "data": {
      "text/plain": [
       "(26082, 15)"
      ]
     },
     "execution_count": 225,
     "metadata": {},
     "output_type": "execute_result"
    }
   ],
   "source": [
    "emissions_df.shape"
   ]
  },
  {
   "cell_type": "markdown",
   "metadata": {
    "button": false,
    "new_sheet": false,
    "run_control": {
     "read_only": false
    }
   },
   "source": [
    "So, there are approximately 1000 samples to train our model on. Because of the few samples, we have to be careful not to overfit the training data."
   ]
  },
  {
   "cell_type": "markdown",
   "metadata": {
    "button": false,
    "new_sheet": false,
    "run_control": {
     "read_only": false
    }
   },
   "source": [
    "Let's check the dataset for any missing values."
   ]
  },
  {
   "cell_type": "code",
   "execution_count": 226,
   "metadata": {
    "button": false,
    "new_sheet": false,
    "run_control": {
     "read_only": false
    }
   },
   "outputs": [
    {
     "data": {
      "text/html": [
       "<div>\n",
       "<style scoped>\n",
       "    .dataframe tbody tr th:only-of-type {\n",
       "        vertical-align: middle;\n",
       "    }\n",
       "\n",
       "    .dataframe tbody tr th {\n",
       "        vertical-align: top;\n",
       "    }\n",
       "\n",
       "    .dataframe thead th {\n",
       "        text-align: right;\n",
       "    }\n",
       "</style>\n",
       "<table border=\"1\" class=\"dataframe\">\n",
       "  <thead>\n",
       "    <tr style=\"text-align: right;\">\n",
       "      <th></th>\n",
       "      <th>Model_year</th>\n",
       "      <th>Engine_Size</th>\n",
       "      <th>Cylinders</th>\n",
       "      <th>Fuel_Consumption_City</th>\n",
       "      <th>Fuel_Consumption_Hwy</th>\n",
       "      <th>Fuel_Consumption_Comb</th>\n",
       "      <th>Fuel_Consumption_Comb_mpg</th>\n",
       "      <th>CO2_Emissions</th>\n",
       "      <th>CO2_Rating</th>\n",
       "      <th>Smog_Rating</th>\n",
       "    </tr>\n",
       "  </thead>\n",
       "  <tbody>\n",
       "    <tr>\n",
       "      <th>count</th>\n",
       "      <td>26082.000000</td>\n",
       "      <td>26082.000000</td>\n",
       "      <td>26082.000000</td>\n",
       "      <td>26082.000000</td>\n",
       "      <td>26082.000000</td>\n",
       "      <td>26082.000000</td>\n",
       "      <td>26082.000000</td>\n",
       "      <td>26082.000000</td>\n",
       "      <td>7091.000000</td>\n",
       "      <td>5981.000000</td>\n",
       "    </tr>\n",
       "    <tr>\n",
       "      <th>mean</th>\n",
       "      <td>2009.548117</td>\n",
       "      <td>3.351422</td>\n",
       "      <td>5.840848</td>\n",
       "      <td>13.885496</td>\n",
       "      <td>10.030059</td>\n",
       "      <td>12.150633</td>\n",
       "      <td>24.859788</td>\n",
       "      <td>276.040143</td>\n",
       "      <td>4.672261</td>\n",
       "      <td>4.680154</td>\n",
       "    </tr>\n",
       "    <tr>\n",
       "      <th>std</th>\n",
       "      <td>7.696901</td>\n",
       "      <td>1.339966</td>\n",
       "      <td>1.797079</td>\n",
       "      <td>3.744483</td>\n",
       "      <td>2.596957</td>\n",
       "      <td>3.191725</td>\n",
       "      <td>6.694963</td>\n",
       "      <td>65.858372</td>\n",
       "      <td>1.638325</td>\n",
       "      <td>1.786007</td>\n",
       "    </tr>\n",
       "    <tr>\n",
       "      <th>min</th>\n",
       "      <td>1995.000000</td>\n",
       "      <td>0.800000</td>\n",
       "      <td>2.000000</td>\n",
       "      <td>4.000000</td>\n",
       "      <td>3.900000</td>\n",
       "      <td>4.000000</td>\n",
       "      <td>10.000000</td>\n",
       "      <td>94.000000</td>\n",
       "      <td>1.000000</td>\n",
       "      <td>1.000000</td>\n",
       "    </tr>\n",
       "    <tr>\n",
       "      <th>25%</th>\n",
       "      <td>2004.000000</td>\n",
       "      <td>2.300000</td>\n",
       "      <td>4.000000</td>\n",
       "      <td>11.300000</td>\n",
       "      <td>8.300000</td>\n",
       "      <td>10.000000</td>\n",
       "      <td>20.000000</td>\n",
       "      <td>230.000000</td>\n",
       "      <td>4.000000</td>\n",
       "      <td>3.000000</td>\n",
       "    </tr>\n",
       "    <tr>\n",
       "      <th>50%</th>\n",
       "      <td>2010.000000</td>\n",
       "      <td>3.000000</td>\n",
       "      <td>6.000000</td>\n",
       "      <td>13.400000</td>\n",
       "      <td>9.600000</td>\n",
       "      <td>11.700000</td>\n",
       "      <td>24.000000</td>\n",
       "      <td>269.000000</td>\n",
       "      <td>5.000000</td>\n",
       "      <td>5.000000</td>\n",
       "    </tr>\n",
       "    <tr>\n",
       "      <th>75%</th>\n",
       "      <td>2016.000000</td>\n",
       "      <td>4.200000</td>\n",
       "      <td>8.000000</td>\n",
       "      <td>16.000000</td>\n",
       "      <td>11.400000</td>\n",
       "      <td>13.900000</td>\n",
       "      <td>28.000000</td>\n",
       "      <td>315.000000</td>\n",
       "      <td>6.000000</td>\n",
       "      <td>6.000000</td>\n",
       "    </tr>\n",
       "    <tr>\n",
       "      <th>max</th>\n",
       "      <td>2022.000000</td>\n",
       "      <td>8.400000</td>\n",
       "      <td>16.000000</td>\n",
       "      <td>33.300000</td>\n",
       "      <td>22.100000</td>\n",
       "      <td>27.500000</td>\n",
       "      <td>71.000000</td>\n",
       "      <td>633.000000</td>\n",
       "      <td>10.000000</td>\n",
       "      <td>8.000000</td>\n",
       "    </tr>\n",
       "  </tbody>\n",
       "</table>\n",
       "</div>"
      ],
      "text/plain": [
       "         Model_year   Engine_Size     Cylinders  Fuel_Consumption_City  \\\n",
       "count  26082.000000  26082.000000  26082.000000           26082.000000   \n",
       "mean    2009.548117      3.351422      5.840848              13.885496   \n",
       "std        7.696901      1.339966      1.797079               3.744483   \n",
       "min     1995.000000      0.800000      2.000000               4.000000   \n",
       "25%     2004.000000      2.300000      4.000000              11.300000   \n",
       "50%     2010.000000      3.000000      6.000000              13.400000   \n",
       "75%     2016.000000      4.200000      8.000000              16.000000   \n",
       "max     2022.000000      8.400000     16.000000              33.300000   \n",
       "\n",
       "       Fuel_Consumption_Hwy  Fuel_Consumption_Comb  Fuel_Consumption_Comb_mpg  \\\n",
       "count          26082.000000           26082.000000               26082.000000   \n",
       "mean              10.030059              12.150633                  24.859788   \n",
       "std                2.596957               3.191725                   6.694963   \n",
       "min                3.900000               4.000000                  10.000000   \n",
       "25%                8.300000              10.000000                  20.000000   \n",
       "50%                9.600000              11.700000                  24.000000   \n",
       "75%               11.400000              13.900000                  28.000000   \n",
       "max               22.100000              27.500000                  71.000000   \n",
       "\n",
       "       CO2_Emissions   CO2_Rating  Smog_Rating  \n",
       "count   26082.000000  7091.000000  5981.000000  \n",
       "mean      276.040143     4.672261     4.680154  \n",
       "std        65.858372     1.638325     1.786007  \n",
       "min        94.000000     1.000000     1.000000  \n",
       "25%       230.000000     4.000000     3.000000  \n",
       "50%       269.000000     5.000000     5.000000  \n",
       "75%       315.000000     6.000000     6.000000  \n",
       "max       633.000000    10.000000     8.000000  "
      ]
     },
     "execution_count": 226,
     "metadata": {},
     "output_type": "execute_result"
    }
   ],
   "source": [
    "emissions_df.describe()"
   ]
  },
  {
   "cell_type": "code",
   "execution_count": 227,
   "metadata": {
    "button": false,
    "new_sheet": false,
    "run_control": {
     "read_only": false
    }
   },
   "outputs": [
    {
     "data": {
      "text/plain": [
       "Model_year                       0\n",
       "Make                             0\n",
       "Model                            0\n",
       "Vehicle Class                    0\n",
       "Engine_Size                      0\n",
       "Cylinders                        0\n",
       "Transmission                     0\n",
       "Fuel                             0\n",
       "Fuel_Consumption_City            0\n",
       "Fuel_Consumption_Hwy             0\n",
       "Fuel_Consumption_Comb            0\n",
       "Fuel_Consumption_Comb_mpg        0\n",
       "CO2_Emissions                    0\n",
       "CO2_Rating                   18991\n",
       "Smog_Rating                  20101\n",
       "dtype: int64"
      ]
     },
     "execution_count": 227,
     "metadata": {},
     "output_type": "execute_result"
    }
   ],
   "source": [
    "emissions_df.isnull().sum()"
   ]
  },
  {
   "cell_type": "markdown",
   "metadata": {
    "button": false,
    "new_sheet": false,
    "run_control": {
     "read_only": false
    }
   },
   "source": [
    "The data looks very clean and is ready to be used to build our model."
   ]
  },
  {
   "cell_type": "markdown",
   "metadata": {
    "button": false,
    "new_sheet": false,
    "run_control": {
     "read_only": false
    }
   },
   "source": [
    "#### Split data into predictors and target"
   ]
  },
  {
   "cell_type": "markdown",
   "metadata": {},
   "source": [
    "The target variable in this problem is the concrete sample strength. Therefore, our predictors will be all the other columns."
   ]
  },
  {
   "cell_type": "code",
   "execution_count": 228,
   "metadata": {
    "button": false,
    "new_sheet": false,
    "run_control": {
     "read_only": false
    }
   },
   "outputs": [],
   "source": [
    "predictors =  emissions_df[['Engine_Size','Cylinders','Fuel_Consumption_City','Fuel_Consumption_Hwy']]\n",
    "target =  emissions_df['CO2_Emissions']"
   ]
  },
  {
   "cell_type": "markdown",
   "metadata": {
    "button": false,
    "new_sheet": false,
    "run_control": {
     "read_only": false
    }
   },
   "source": [
    "<a id=\"item2\"></a>"
   ]
  },
  {
   "cell_type": "markdown",
   "metadata": {
    "button": false,
    "new_sheet": false,
    "run_control": {
     "read_only": false
    }
   },
   "source": [
    "Let's do a quick sanity check of the predictors and the target dataframes."
   ]
  },
  {
   "cell_type": "code",
   "execution_count": 229,
   "metadata": {
    "button": false,
    "new_sheet": false,
    "run_control": {
     "read_only": false
    }
   },
   "outputs": [
    {
     "data": {
      "text/html": [
       "<div>\n",
       "<style scoped>\n",
       "    .dataframe tbody tr th:only-of-type {\n",
       "        vertical-align: middle;\n",
       "    }\n",
       "\n",
       "    .dataframe tbody tr th {\n",
       "        vertical-align: top;\n",
       "    }\n",
       "\n",
       "    .dataframe thead th {\n",
       "        text-align: right;\n",
       "    }\n",
       "</style>\n",
       "<table border=\"1\" class=\"dataframe\">\n",
       "  <thead>\n",
       "    <tr style=\"text-align: right;\">\n",
       "      <th></th>\n",
       "      <th>Engine_Size</th>\n",
       "      <th>Cylinders</th>\n",
       "      <th>Fuel_Consumption_City</th>\n",
       "      <th>Fuel_Consumption_Hwy</th>\n",
       "    </tr>\n",
       "  </thead>\n",
       "  <tbody>\n",
       "    <tr>\n",
       "      <th>0</th>\n",
       "      <td>2.4</td>\n",
       "      <td>4</td>\n",
       "      <td>9.9</td>\n",
       "      <td>7.0</td>\n",
       "    </tr>\n",
       "    <tr>\n",
       "      <th>1</th>\n",
       "      <td>3.5</td>\n",
       "      <td>6</td>\n",
       "      <td>12.6</td>\n",
       "      <td>9.4</td>\n",
       "    </tr>\n",
       "    <tr>\n",
       "      <th>2</th>\n",
       "      <td>2.0</td>\n",
       "      <td>4</td>\n",
       "      <td>11.0</td>\n",
       "      <td>8.6</td>\n",
       "    </tr>\n",
       "    <tr>\n",
       "      <th>3</th>\n",
       "      <td>2.0</td>\n",
       "      <td>4</td>\n",
       "      <td>11.3</td>\n",
       "      <td>9.1</td>\n",
       "    </tr>\n",
       "    <tr>\n",
       "      <th>4</th>\n",
       "      <td>2.0</td>\n",
       "      <td>4</td>\n",
       "      <td>11.2</td>\n",
       "      <td>8.0</td>\n",
       "    </tr>\n",
       "  </tbody>\n",
       "</table>\n",
       "</div>"
      ],
      "text/plain": [
       "   Engine_Size  Cylinders  Fuel_Consumption_City  Fuel_Consumption_Hwy\n",
       "0          2.4          4                    9.9                   7.0\n",
       "1          3.5          6                   12.6                   9.4\n",
       "2          2.0          4                   11.0                   8.6\n",
       "3          2.0          4                   11.3                   9.1\n",
       "4          2.0          4                   11.2                   8.0"
      ]
     },
     "execution_count": 229,
     "metadata": {},
     "output_type": "execute_result"
    }
   ],
   "source": [
    "predictors.head()"
   ]
  },
  {
   "cell_type": "code",
   "execution_count": 230,
   "metadata": {
    "button": false,
    "new_sheet": false,
    "run_control": {
     "read_only": false
    }
   },
   "outputs": [
    {
     "data": {
      "text/plain": [
       "0    200\n",
       "1    263\n",
       "2    232\n",
       "3    242\n",
       "4    230\n",
       "Name: CO2_Emissions, dtype: int64"
      ]
     },
     "execution_count": 230,
     "metadata": {},
     "output_type": "execute_result"
    }
   ],
   "source": [
    "target.head()"
   ]
  },
  {
   "cell_type": "markdown",
   "metadata": {
    "button": false,
    "new_sheet": false,
    "run_control": {
     "read_only": false
    }
   },
   "source": [
    "Finally, the last step is to normalize the data by substracting the mean and dividing by the standard deviation."
   ]
  },
  {
   "cell_type": "code",
   "execution_count": 231,
   "metadata": {
    "button": false,
    "new_sheet": false,
    "run_control": {
     "read_only": false
    }
   },
   "outputs": [],
   "source": [
    "predictors_train,predictors_test,target_train,target_test = train_test_split(predictors, target, test_size=0.3, random_state=42)"
   ]
  },
  {
   "cell_type": "code",
   "execution_count": 232,
   "metadata": {},
   "outputs": [],
   "source": [
    "predictors_train = StandardScaler().fit_transform(predictors_train)\n",
    "predictors_test = StandardScaler().fit_transform(predictors_test)"
   ]
  },
  {
   "cell_type": "markdown",
   "metadata": {},
   "source": [
    "Let's save the number of predictors to *n_cols* since we will need this number when building our network."
   ]
  },
  {
   "cell_type": "code",
   "execution_count": 233,
   "metadata": {
    "button": false,
    "new_sheet": false,
    "run_control": {
     "read_only": false
    }
   },
   "outputs": [],
   "source": [
    "n_cols = predictors_train.shape[1] # number of predictors"
   ]
  },
  {
   "cell_type": "markdown",
   "metadata": {
    "button": false,
    "new_sheet": false,
    "run_control": {
     "read_only": false
    }
   },
   "source": [
    "<a id=\"item1\"></a>"
   ]
  },
  {
   "cell_type": "markdown",
   "metadata": {},
   "source": [
    "<a id='item32'></a>"
   ]
  },
  {
   "cell_type": "markdown",
   "metadata": {
    "button": false,
    "new_sheet": false,
    "run_control": {
     "read_only": false
    }
   },
   "source": [
    "## Import Keras"
   ]
  },
  {
   "cell_type": "markdown",
   "metadata": {
    "button": false,
    "new_sheet": false,
    "run_control": {
     "read_only": false
    }
   },
   "source": [
    "Recall from the videos that Keras normally runs on top of a low-level library such as TensorFlow. This means that to be able to use the Keras library, you will have to install TensorFlow first and when you import the Keras library, it will be explicitly displayed what backend was used to install the Keras library. In CC Labs, we used TensorFlow as the backend to install Keras, so it should clearly print that when we import Keras."
   ]
  },
  {
   "cell_type": "markdown",
   "metadata": {
    "button": false,
    "new_sheet": false,
    "run_control": {
     "read_only": false
    }
   },
   "source": [
    "#### Let's go ahead and import the Keras library"
   ]
  },
  {
   "cell_type": "code",
   "execution_count": 234,
   "metadata": {},
   "outputs": [],
   "source": [
    "#!pip install keras\n",
    "#!pip install tensorflow"
   ]
  },
  {
   "cell_type": "code",
   "execution_count": 235,
   "metadata": {
    "button": false,
    "new_sheet": false,
    "run_control": {
     "read_only": false
    }
   },
   "outputs": [],
   "source": [
    "import keras"
   ]
  },
  {
   "cell_type": "markdown",
   "metadata": {
    "button": false,
    "new_sheet": false,
    "run_control": {
     "read_only": false
    }
   },
   "source": [
    "As you can see, the TensorFlow backend was used to install the Keras library."
   ]
  },
  {
   "cell_type": "markdown",
   "metadata": {
    "button": false,
    "new_sheet": false,
    "run_control": {
     "read_only": false
    }
   },
   "source": [
    "Let's import the rest of the packages from the Keras library that we will need to build our regressoin model."
   ]
  },
  {
   "cell_type": "code",
   "execution_count": 236,
   "metadata": {
    "button": false,
    "new_sheet": false,
    "run_control": {
     "read_only": false
    }
   },
   "outputs": [],
   "source": [
    "from keras.models import Sequential\n",
    "from keras.layers import Dense"
   ]
  },
  {
   "cell_type": "markdown",
   "metadata": {},
   "source": [
    "<a id='item33'></a>"
   ]
  },
  {
   "cell_type": "markdown",
   "metadata": {
    "button": false,
    "new_sheet": false,
    "run_control": {
     "read_only": false
    }
   },
   "source": [
    "## Build a Neural Network"
   ]
  },
  {
   "cell_type": "markdown",
   "metadata": {
    "button": false,
    "new_sheet": false,
    "run_control": {
     "read_only": false
    }
   },
   "source": [
    "Let's define a function that defines our regression model for us so that we can conveniently call it to create our model."
   ]
  },
  {
   "cell_type": "code",
   "execution_count": 237,
   "metadata": {
    "button": false,
    "new_sheet": false,
    "run_control": {
     "read_only": false
    }
   },
   "outputs": [],
   "source": [
    "# define regression model\n",
    "def regression_model(N,activation='relu',optimizer='adam'):\n",
    "    # create model\n",
    "    model = Sequential()\n",
    "    model.add(Dense(N, activation=activation, input_shape=(n_cols,)))\n",
    "    #model.add(Dense(10, activation='relu'))\n",
    "    model.add(Dense(1))\n",
    "    \n",
    "    # compile model\n",
    "    model.compile(optimizer=optimizer, loss='mean_squared_error', metrics=[tf.keras.metrics.RootMeanSquaredError()])\n",
    "    return model"
   ]
  },
  {
   "cell_type": "markdown",
   "metadata": {},
   "source": [
    "The above function create a model that has two hidden layers, each of 50 hidden units."
   ]
  },
  {
   "cell_type": "markdown",
   "metadata": {
    "button": false,
    "new_sheet": false,
    "run_control": {
     "read_only": false
    }
   },
   "source": [
    "<a id=\"item4\"></a>"
   ]
  },
  {
   "cell_type": "markdown",
   "metadata": {},
   "source": [
    "<a id='item34'></a>"
   ]
  },
  {
   "cell_type": "markdown",
   "metadata": {
    "button": false,
    "new_sheet": false,
    "run_control": {
     "read_only": false
    }
   },
   "source": [
    "## Train and Test the Network"
   ]
  },
  {
   "cell_type": "markdown",
   "metadata": {},
   "source": [
    "Let's call the function now to create our model."
   ]
  },
  {
   "cell_type": "code",
   "execution_count": 238,
   "metadata": {
    "button": false,
    "new_sheet": false,
    "run_control": {
     "read_only": false
    }
   },
   "outputs": [
    {
     "name": "stdout",
     "output_type": "stream",
     "text": [
      "Model: \"sequential_49\"\n",
      "_________________________________________________________________\n",
      "Layer (type)                 Output Shape              Param #   \n",
      "=================================================================\n",
      "dense_97 (Dense)             (None, 1)                 5         \n",
      "_________________________________________________________________\n",
      "dense_98 (Dense)             (None, 1)                 2         \n",
      "=================================================================\n",
      "Total params: 7\n",
      "Trainable params: 7\n",
      "Non-trainable params: 0\n",
      "_________________________________________________________________\n"
     ]
    }
   ],
   "source": [
    "# build the model\n",
    "model = regression_model(1)\n",
    "model.summary()"
   ]
  },
  {
   "cell_type": "markdown",
   "metadata": {},
   "source": [
    "Next, we will train and test the model at the same time using the *fit* method. We will leave out 30% of the data for validation and we will train the model for 100 epochs."
   ]
  },
  {
   "cell_type": "code",
   "execution_count": 403,
   "metadata": {
    "scrolled": true
   },
   "outputs": [],
   "source": [
    "\n",
    "history = model.fit(predictors_train, target_train, epochs=5, verbose=False, validation_data=(predictors_test, target_test))\n"
   ]
  },
  {
   "cell_type": "code",
   "execution_count": 240,
   "metadata": {},
   "outputs": [],
   "source": [
    "# Evaluate model\n",
    "train_score = model.evaluate(predictors_train, target_train, verbose=False)\n",
    "test_score = model.evaluate(predictors_test, target_test, verbose=False)"
   ]
  },
  {
   "cell_type": "code",
   "execution_count": 241,
   "metadata": {},
   "outputs": [
    {
     "name": "stdout",
     "output_type": "stream",
     "text": [
      "Validation [MSE,RMSE]: [60509.09375, 245.9859619140625]\n",
      "Training: [MSE,RMSE] [60268.8515625, 245.4971466064453]\n",
      "--------------------\n",
      "First 5 samples validation: [79182.78125, 75936.7421875, 71371.046875, 66098.34375, 60509.09375]\n",
      "First 5 samples training: [79849.828125, 77475.1953125, 73523.25, 68557.078125, 63084.3828125]\n"
     ]
    }
   ],
   "source": [
    "print(\"Validation [MSE,RMSE]:\", test_score)\n",
    "print(\"Training: [MSE,RMSE]\", train_score)\n",
    "print(\"--------------------\")\n",
    "print(\"First 5 samples validation:\", history.history[\"val_loss\"][0:5])\n",
    "print(\"First 5 samples training:\", history.history[\"loss\"][0:5])"
   ]
  },
  {
   "cell_type": "code",
   "execution_count": 242,
   "metadata": {},
   "outputs": [
    {
     "data": {
      "text/plain": [
       "245.4971466064453"
      ]
     },
     "execution_count": 242,
     "metadata": {},
     "output_type": "execute_result"
    }
   ],
   "source": [
    "train_score[1]"
   ]
  },
  {
   "cell_type": "code",
   "execution_count": 243,
   "metadata": {},
   "outputs": [
    {
     "data": {
      "text/plain": [
       "<matplotlib.legend.Legend at 0x7f5a03548040>"
      ]
     },
     "execution_count": 243,
     "metadata": {},
     "output_type": "execute_result"
    },
    {
     "data": {
      "image/png": "[encoded data removed]",
      "text/plain": [
       "<Figure size 864x720 with 1 Axes>"
      ]
     },
     "metadata": {
      "needs_background": "light"
     },
     "output_type": "display_data"
    }
   ],
   "source": [
    "fig = plt.figure(figsize=(12, 10))\n",
    "\n",
    "plt.subplot(211)  \n",
    "plt.plot(history.history['root_mean_squared_error'])  \n",
    "plt.plot(history.history['val_root_mean_squared_error'])  \n",
    "plt.title('model loss')  \n",
    "plt.ylabel('loss')  \n",
    "plt.xlabel('epoch')  \n",
    "plt.legend(['train', 'test'], loc='upper left')"
   ]
  },
  {
   "cell_type": "code",
   "execution_count": 244,
   "metadata": {},
   "outputs": [
    {
     "name": "stdout",
     "output_type": "stream",
     "text": [
      "RMSE: 243.077\n",
      "R2-score: -12.707\n"
     ]
    }
   ],
   "source": [
    "y_pred = model.predict(predictors_test, batch_size=None, verbose=False, steps=None, workers=1, use_multiprocessing=False)\n",
    "print('RMSE: %.3f'% mean_absolute_error(target_test, y_pred))\n",
    "print(\"R2-score: %.3f\" % r2_score(target_test, y_pred))"
   ]
  },
  {
   "cell_type": "code",
   "execution_count": 245,
   "metadata": {},
   "outputs": [
    {
     "name": "stdout",
     "output_type": "stream",
     "text": [
      "RMSE: 242.632\n",
      "R2-score: -13.003\n"
     ]
    }
   ],
   "source": [
    "y_pred = model.predict(predictors_train, batch_size=None, verbose=False, steps=None, workers=1, use_multiprocessing=False)\n",
    "print('RMSE: %.3f'% mean_absolute_error(target_train, y_pred))\n",
    "print(\"R2-score: %.3f\" % r2_score(target_train, y_pred))"
   ]
  },
  {
   "cell_type": "code",
   "execution_count": 361,
   "metadata": {},
   "outputs": [],
   "source": [
    "from timeit import default_timer as timer\n",
    "import timeit"
   ]
  },
  {
   "cell_type": "markdown",
   "metadata": {},
   "source": [
    "### Automatic test"
   ]
  },
  {
   "cell_type": "code",
   "execution_count": 400,
   "metadata": {},
   "outputs": [
    {
     "name": "stdout",
     "output_type": "stream",
     "text": [
      "Processing with: <keras.optimizer_v2.gradient_descent.SGD object at 0x7f58a5f61310> optimizer\n",
      "Processing with: <keras.optimizer_v2.rmsprop.RMSprop object at 0x7f58a67cdd30> optimizer\n",
      "Processing with: <keras.optimizer_v2.adam.Adam object at 0x7f58a5f61280> optimizer\n",
      "Processing with: <keras.optimizer_v2.adadelta.Adadelta object at 0x7f5895e47d00> optimizer\n",
      "Processing with: <keras.optimizer_v2.adagrad.Adagrad object at 0x7f58a5f615e0> optimizer\n",
      "Processing with: <keras.optimizer_v2.adamax.Adamax object at 0x7f58a6ee9cd0> optimizer\n",
      "Processing with: <keras.optimizer_v2.nadam.Nadam object at 0x7f58a5f61100> optimizer\n",
      "Processing with: <keras.optimizer_v2.ftrl.Ftrl object at 0x7f58a5f619a0> optimizer\n"
     ]
    }
   ],
   "source": [
    "num_neuronas = []\n",
    "time = []\n",
    "RMSE_train = []\n",
    "RMSE_test = []\n",
    "r2_train = []\n",
    "r2_test = []\n",
    "\n",
    "sgd = SGD(learning_rate=0.0001, decay=1e-6, momentum=0.9, nesterov=True, name='SGD')\n",
    "RMSprop = tf.keras.optimizers.RMSprop(learning_rate=0.01, rho=0.9, momentum=0.0, epsilon=1e-07, centered=False, name=\"RMSprop\")\n",
    "Adam = tf.keras.optimizers.Adam(learning_rate=0.01, beta_1=0.9, beta_2=0.999, epsilon=1e-07, amsgrad=False, name=\"Adam\")\n",
    "Adadelta = tf.keras.optimizers.Adadelta(learning_rate=0.1, rho=0.85, epsilon=1e-06, name=\"Adadelta\")\n",
    "Adagrad = tf.keras.optimizers.Adagrad( learning_rate=0.2, initial_accumulator_value=0.1, epsilon=1e-07, name=\"Adagrad\")\n",
    "Adamax = tf.keras.optimizers.Adamax(learning_rate=0.01, beta_1=0.9, beta_2=0.999, epsilon=1e-06, name=\"Adamax\")\n",
    "Nadam = tf.keras.optimizers.Nadam(learning_rate=0.005, beta_1=0.9, beta_2=0.999, epsilon=1e-07, name=\"Nadam\")\n",
    "Ftrl = tf.keras.optimizers.Ftrl(learning_rate=0.2, learning_rate_power=-0.5, initial_accumulator_value=0.1,\n",
    "                                l1_regularization_strength=0.0, l2_regularization_strength=0.0, name=\"Ftrl\",\n",
    "                                l2_shrinkage_regularization_strength=0.0, beta=0.0)\n",
    "\n",
    "optimizers = [sgd,RMSprop,Adam,Adadelta,Adagrad,Adamax,Nadam,Ftrl]\n",
    "#optimizers = [Adagrad,Adamax,Nadam,Ftrl]\n",
    "\n",
    "for i in optimizers:\n",
    "    \n",
    "    time_aux = []\n",
    "    RMSE_train_aux = []\n",
    "    RMSE_test_aux = []\n",
    "    r2_train_aux = []\n",
    "    r2_test_aux = []\n",
    "    \n",
    "    print('Processing with:', i, 'optimizer')\n",
    "    \n",
    "    for j in range(1,2):\n",
    "        \n",
    "        model = regression_model(3,activation='relu',optimizer=i)\n",
    "        start = timer()\n",
    "        model.fit(predictors_train, target_train, epochs=50, verbose=False, validation_data=(predictors_test, target_test))\n",
    "        elapsed_time = timer() - start\n",
    "        \n",
    "        train_score = model.evaluate(predictors_train, target_train, verbose=False)\n",
    "        test_score = model.evaluate(predictors_test, target_test, verbose=False)\n",
    "    \n",
    "        y_pred_train = model.predict(predictors_train, batch_size=None, verbose=False, steps=None, workers=1, use_multiprocessing=False)\n",
    "        y_pred_test = model.predict(predictors_test, batch_size=None, verbose=False, steps=None, workers=1, use_multiprocessing=False)\n",
    "                \n",
    "        time_aux.append(round(elapsed_time,3))\n",
    "        RMSE_train_aux.append(round(train_score[1],3))\n",
    "        RMSE_test_aux.append(round(test_score[1],3))\n",
    "        r2_train_aux.append(round(r2_score(target_train, y_pred_train),3))\n",
    "        r2_test_aux.append(round(r2_score(target_test, y_pred_test),3))\n",
    "    \n",
    "    #%timeit -n 1 -r 10 model.fit(predictors_train, target_train, epochs=5, verbose=False, validation_data=(predictors_test, target_test))\n",
    "    \n",
    "    num_neuronas.append(i)\n",
    "    time.append(np.mean(time_aux))\n",
    "    RMSE_train.append(np.mean(RMSE_train_aux))\n",
    "    RMSE_test.append(np.mean(RMSE_test_aux))\n",
    "    r2_train.append(np.mean(r2_train_aux))\n",
    "    r2_test.append(np.mean(r2_test_aux))\n",
    "                "
   ]
  },
  {
   "cell_type": "code",
   "execution_count": 401,
   "metadata": {},
   "outputs": [
    {
     "name": "stdout",
     "output_type": "stream",
     "text": [
      "                                           optimizer  exec_time  RMSE_train  \\\n",
      "0  <keras.optimizer_v2.gradient_descent.SGD objec...     43.575      18.742   \n",
      "1  <keras.optimizer_v2.rmsprop.RMSprop object at ...     43.320      22.185   \n",
      "2  <keras.optimizer_v2.adam.Adam object at 0x7f58...     43.319      17.866   \n",
      "3  <keras.optimizer_v2.adadelta.Adadelta object a...     44.454      22.178   \n",
      "4  <keras.optimizer_v2.adagrad.Adagrad object at ...     42.314      18.109   \n",
      "5  <keras.optimizer_v2.adamax.Adamax object at 0x...     43.287      17.850   \n",
      "6  <keras.optimizer_v2.nadam.Nadam object at 0x7f...     43.898      22.071   \n",
      "7  <keras.optimizer_v2.ftrl.Ftrl object at 0x7f58...     41.710      22.077   \n",
      "\n",
      "   RMSE_test  r^2_train  r^2_test  \n",
      "0     19.723      0.918     0.912  \n",
      "1     22.427      0.886     0.886  \n",
      "2     18.614      0.926     0.922  \n",
      "3     22.510      0.886     0.885  \n",
      "4     18.884      0.924     0.919  \n",
      "5     18.675      0.926     0.921  \n",
      "6     22.423      0.887     0.886  \n",
      "7     22.438      0.887     0.886  \n"
     ]
    }
   ],
   "source": [
    "df = pd.DataFrame()\n",
    "df['optimizer'] = num_neuronas\n",
    "df['exec_time'] = time\n",
    "df['RMSE_train'] = RMSE_train\n",
    "df['RMSE_test'] = RMSE_test\n",
    "df['r^2_train'] = r2_train\n",
    "df['r^2_test'] = r2_test\n",
    "\n",
    "print(df)"
   ]
  },
  {
   "cell_type": "code",
   "execution_count": 402,
   "metadata": {},
   "outputs": [],
   "source": [
    "df.to_csv('dataframes/optimiz.csv', index=False)"
   ]
  },
  {
   "cell_type": "code",
   "execution_count": null,
   "metadata": {},
   "outputs": [],
   "source": []
  },
  {
   "cell_type": "markdown",
   "metadata": {},
   "source": [
    "## Analisis"
   ]
  },
  {
   "cell_type": "markdown",
   "metadata": {
    "tags": []
   },
   "source": [
    "### Variando solo neuronas de entrada "
   ]
  },
  {
   "cell_type": "markdown",
   "metadata": {},
   "source": [
    "### 1: 50 epoch, 5 iteracioones por cada modelo para promediar valores, optimizer='adam', variable neuronas de entrada\n",
    "### 1: 50 epoch, 5 iteracioones por cada modelo para promediar valores, neu_input = 3, variable optimizers\n"
   ]
  },
  {
   "cell_type": "code",
   "execution_count": null,
   "metadata": {},
   "outputs": [],
   "source": []
  }
 ],
 "metadata": {
  "kernelspec": {
   "display_name": "Python 3 (ipykernel)",
   "language": "python",
   "name": "python3"
  },
  "language_info": {
   "codemirror_mode": {
    "name": "ipython",
    "version": 3
   },
   "file_extension": ".py",
   "mimetype": "text/x-python",
   "name": "python",
   "nbconvert_exporter": "python",
   "pygments_lexer": "ipython3",
   "version": "3.9.7"
  }
 },
 "nbformat": 4,
 "nbformat_minor": 4
}
