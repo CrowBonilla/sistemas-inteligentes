{
 "cells": [
  {
   "cell_type": "markdown",
   "metadata": {
    "button": false,
    "new_sheet": false,
    "run_control": {
     "read_only": false
    }
   },
   "source": [
    "<a href=\"https://www.javeriana.edu.co/inicio\"><img src = \"https://www.javeriana.edu.co/construye-futuro/wp-content/uploads/2021/02/javeriana-web-logo-edu.png\" width = 600, align = \"center\"></a>\n",
    "\n",
    "<h1>Regression Models with Neural Network</h1>"
   ]
  },
  {
   "cell_type": "markdown",
   "metadata": {
    "button": false,
    "new_sheet": false,
    "run_control": {
     "read_only": false
    }
   },
   "source": [
    "## Table of Contents\n",
    "\n",
    "<div class=\"alert alert-block alert-info\" style=\"margin-top: 20px\">\n",
    "\n",
    "<font size = 3>\n",
    "    \n",
    "1. <a href=\"#item31\">Download and Clean Dataset</a>  \n",
    "2. <a href=\"#item32\">Import Keras</a>  \n",
    "3. <a href=\"#item33\">Build a Neural Network</a>  \n",
    "4. <a href=\"#item34\">Train and Test the Network</a>  \n",
    "\n",
    "</font>\n",
    "</div>"
   ]
  },
  {
   "cell_type": "markdown",
   "metadata": {
    "button": false,
    "new_sheet": false,
    "run_control": {
     "read_only": false
    }
   },
   "source": [
    "<a id=\"item31\"></a>"
   ]
  },
  {
   "cell_type": "markdown",
   "metadata": {
    "button": false,
    "new_sheet": false,
    "run_control": {
     "read_only": false
    }
   },
   "source": [
    "## Download and Clean Dataset"
   ]
  },
  {
   "cell_type": "markdown",
   "metadata": {
    "button": false,
    "new_sheet": false,
    "run_control": {
     "read_only": false
    }
   },
   "source": [
    "Let's start by importing the <em>pandas</em> and the Numpy libraries."
   ]
  },
  {
   "cell_type": "code",
   "execution_count": 1,
   "metadata": {
    "button": false,
    "new_sheet": false,
    "run_control": {
     "read_only": false
    }
   },
   "outputs": [],
   "source": [
    "import pandas as pd\n",
    "import numpy as np\n",
    "import tensorflow as tf\n",
    "import matplotlib.pyplot as plt\n",
    "%matplotlib inline\n",
    "\n",
    "from sklearn.preprocessing import StandardScaler\n",
    "from sklearn.model_selection import train_test_split\n",
    "from sklearn.metrics import r2_score"
   ]
  },
  {
   "cell_type": "markdown",
   "metadata": {
    "button": false,
    "new_sheet": false,
    "run_control": {
     "read_only": false
    }
   },
   "source": [
    "\n",
    "<h2 id=\"understanding_data\">Understanding the Data</h2>\n",
    "\n",
    "### `MY2022_Fuel_Consumption_Ratings.csv`:\n",
    "We have downloaded a fuel consumption dataset, **`MY2022 Fuel Consumption Ratings.csv`**, which contains model-specific fuel consumption ratings and estimated carbon dioxide emissions for new light-duty vehicles for retail sale in Canada. [Dataset source](https://open.canada.ca/data/en/dataset/98f1a129-f628-4ce4-b24d-6f16bf24dd64)\n",
    "\n",
    "- **MODELYEAR** e.g. 2022\n",
    "- **MAKE** e.g. Acura\n",
    "- **MODEL** e.g. ILX\n",
    "- **VEHICLE CLASS** e.g. Compact\n",
    "- **ENGINE SIZE** e.g. 2.4\n",
    "- **CYLINDERS** e.g 4\n",
    "- **TRANSMISSION** e.g. AM8\n",
    "- **FUEL** e.g. Z\n",
    "\n",
    "- **FUEL CONSUMPTION in CITY(L/100 km)** e.g. 9.9\n",
    "- **FUEL CONSUMPTION in HWY (L/100 km)** e.g. 7\n",
    "- **FUEL CONSUMPTION COMB (L/100 km)** e.g. 8.6\n",
    "- **CO2 EMISSIONS (g/km)** e.g. 200   --> 6\n",
    "- **SMOG** e.g. 3"
   ]
  },
  {
   "cell_type": "markdown",
   "metadata": {
    "button": false,
    "new_sheet": false,
    "run_control": {
     "read_only": false
    }
   },
   "source": [
    "Let's download the data and read it into a <em>pandas</em> dataframe."
   ]
  },
  {
   "cell_type": "code",
   "execution_count": 2,
   "metadata": {
    "button": false,
    "new_sheet": false,
    "run_control": {
     "read_only": false
    }
   },
   "outputs": [
    {
     "data": {
      "text/html": [
       "<div>\n",
       "<style scoped>\n",
       "    .dataframe tbody tr th:only-of-type {\n",
       "        vertical-align: middle;\n",
       "    }\n",
       "\n",
       "    .dataframe tbody tr th {\n",
       "        vertical-align: top;\n",
       "    }\n",
       "\n",
       "    .dataframe thead th {\n",
       "        text-align: right;\n",
       "    }\n",
       "</style>\n",
       "<table border=\"1\" class=\"dataframe\">\n",
       "  <thead>\n",
       "    <tr style=\"text-align: right;\">\n",
       "      <th></th>\n",
       "      <th>Make</th>\n",
       "      <th>Model</th>\n",
       "      <th>Vehicle Class</th>\n",
       "      <th>Engine_Size</th>\n",
       "      <th>Cylinders</th>\n",
       "      <th>Transmission</th>\n",
       "      <th>Fuel</th>\n",
       "      <th>Fuel_Consumption_City</th>\n",
       "      <th>Fuel_Consumption_Hwy</th>\n",
       "      <th>Fuel_Consumption_Comb</th>\n",
       "      <th>Fuel_Consumption_Comb_mpg</th>\n",
       "      <th>CO2_Emissions</th>\n",
       "      <th>CO2_Rating</th>\n",
       "      <th>Smog_Rating</th>\n",
       "    </tr>\n",
       "  </thead>\n",
       "  <tbody>\n",
       "    <tr>\n",
       "      <th>0</th>\n",
       "      <td>Acura</td>\n",
       "      <td>ILX</td>\n",
       "      <td>Compact</td>\n",
       "      <td>2.4</td>\n",
       "      <td>4</td>\n",
       "      <td>AM8</td>\n",
       "      <td>Z</td>\n",
       "      <td>9.9</td>\n",
       "      <td>7.0</td>\n",
       "      <td>8.6</td>\n",
       "      <td>33</td>\n",
       "      <td>200</td>\n",
       "      <td>6</td>\n",
       "      <td>3</td>\n",
       "    </tr>\n",
       "    <tr>\n",
       "      <th>1</th>\n",
       "      <td>Acura</td>\n",
       "      <td>MDX SH-AWD</td>\n",
       "      <td>SUV: Small</td>\n",
       "      <td>3.5</td>\n",
       "      <td>6</td>\n",
       "      <td>AS10</td>\n",
       "      <td>Z</td>\n",
       "      <td>12.6</td>\n",
       "      <td>9.4</td>\n",
       "      <td>11.2</td>\n",
       "      <td>25</td>\n",
       "      <td>263</td>\n",
       "      <td>4</td>\n",
       "      <td>5</td>\n",
       "    </tr>\n",
       "    <tr>\n",
       "      <th>2</th>\n",
       "      <td>Acura</td>\n",
       "      <td>RDX SH-AWD</td>\n",
       "      <td>SUV: Small</td>\n",
       "      <td>2.0</td>\n",
       "      <td>4</td>\n",
       "      <td>AS10</td>\n",
       "      <td>Z</td>\n",
       "      <td>11.0</td>\n",
       "      <td>8.6</td>\n",
       "      <td>9.9</td>\n",
       "      <td>29</td>\n",
       "      <td>232</td>\n",
       "      <td>5</td>\n",
       "      <td>6</td>\n",
       "    </tr>\n",
       "    <tr>\n",
       "      <th>3</th>\n",
       "      <td>Acura</td>\n",
       "      <td>RDX SH-AWD A-SPEC</td>\n",
       "      <td>SUV: Small</td>\n",
       "      <td>2.0</td>\n",
       "      <td>4</td>\n",
       "      <td>AS10</td>\n",
       "      <td>Z</td>\n",
       "      <td>11.3</td>\n",
       "      <td>9.1</td>\n",
       "      <td>10.3</td>\n",
       "      <td>27</td>\n",
       "      <td>242</td>\n",
       "      <td>5</td>\n",
       "      <td>6</td>\n",
       "    </tr>\n",
       "    <tr>\n",
       "      <th>4</th>\n",
       "      <td>Acura</td>\n",
       "      <td>TLX SH-AWD</td>\n",
       "      <td>Compact</td>\n",
       "      <td>2.0</td>\n",
       "      <td>4</td>\n",
       "      <td>AS10</td>\n",
       "      <td>Z</td>\n",
       "      <td>11.2</td>\n",
       "      <td>8.0</td>\n",
       "      <td>9.8</td>\n",
       "      <td>29</td>\n",
       "      <td>230</td>\n",
       "      <td>5</td>\n",
       "      <td>7</td>\n",
       "    </tr>\n",
       "  </tbody>\n",
       "</table>\n",
       "</div>"
      ],
      "text/plain": [
       "    Make              Model Vehicle Class  Engine_Size  Cylinders  \\\n",
       "0  Acura                ILX       Compact          2.4          4   \n",
       "1  Acura         MDX SH-AWD    SUV: Small          3.5          6   \n",
       "2  Acura         RDX SH-AWD    SUV: Small          2.0          4   \n",
       "3  Acura  RDX SH-AWD A-SPEC    SUV: Small          2.0          4   \n",
       "4  Acura         TLX SH-AWD       Compact          2.0          4   \n",
       "\n",
       "  Transmission Fuel  Fuel_Consumption_City  Fuel_Consumption_Hwy  \\\n",
       "0          AM8    Z                    9.9                   7.0   \n",
       "1         AS10    Z                   12.6                   9.4   \n",
       "2         AS10    Z                   11.0                   8.6   \n",
       "3         AS10    Z                   11.3                   9.1   \n",
       "4         AS10    Z                   11.2                   8.0   \n",
       "\n",
       "   Fuel_Consumption_Comb  Fuel_Consumption_Comb_mpg  CO2_Emissions  \\\n",
       "0                    8.6                         33            200   \n",
       "1                   11.2                         25            263   \n",
       "2                    9.9                         29            232   \n",
       "3                   10.3                         27            242   \n",
       "4                    9.8                         29            230   \n",
       "\n",
       "   CO2_Rating  Smog_Rating  \n",
       "0           6            3  \n",
       "1           4            5  \n",
       "2           5            6  \n",
       "3           5            6  \n",
       "4           5            7  "
      ]
     },
     "execution_count": 2,
     "metadata": {},
     "output_type": "execute_result"
    }
   ],
   "source": [
    "emissions_df = pd.read_csv(\"MY2022_Fuel_Consumption_Ratings.csv\", encoding='cp1252',\n",
    "                 nrows=882, usecols=[1,2,3,4,5,6,7,8,9,10,11,12,13,14], index_col=False)\n",
    "emissions_df.head()"
   ]
  },
  {
   "cell_type": "markdown",
   "metadata": {
    "button": false,
    "new_sheet": false,
    "run_control": {
     "read_only": false
    }
   },
   "source": [
    "So the first concrete sample has 540 cubic meter of cement, 0 cubic meter of blast furnace slag, 0 cubic meter of fly ash, 162 cubic meter of water, 2.5 cubic meter of superplaticizer, 1040 cubic meter of coarse aggregate, 676 cubic meter of fine aggregate. Such a concrete mix which is 28 days old, has a compressive strength of 79.99 MPa. "
   ]
  },
  {
   "cell_type": "markdown",
   "metadata": {
    "button": false,
    "new_sheet": false,
    "run_control": {
     "read_only": false
    }
   },
   "source": [
    "#### Let's check how many data points we have."
   ]
  },
  {
   "cell_type": "code",
   "execution_count": 3,
   "metadata": {
    "button": false,
    "new_sheet": false,
    "run_control": {
     "read_only": false
    }
   },
   "outputs": [
    {
     "data": {
      "text/plain": [
       "(882, 14)"
      ]
     },
     "execution_count": 3,
     "metadata": {},
     "output_type": "execute_result"
    }
   ],
   "source": [
    "emissions_df.shape"
   ]
  },
  {
   "cell_type": "markdown",
   "metadata": {
    "button": false,
    "new_sheet": false,
    "run_control": {
     "read_only": false
    }
   },
   "source": [
    "So, there are approximately 1000 samples to train our model on. Because of the few samples, we have to be careful not to overfit the training data."
   ]
  },
  {
   "cell_type": "markdown",
   "metadata": {
    "button": false,
    "new_sheet": false,
    "run_control": {
     "read_only": false
    }
   },
   "source": [
    "Let's check the dataset for any missing values."
   ]
  },
  {
   "cell_type": "code",
   "execution_count": 4,
   "metadata": {
    "button": false,
    "new_sheet": false,
    "run_control": {
     "read_only": false
    }
   },
   "outputs": [
    {
     "data": {
      "text/html": [
       "<div>\n",
       "<style scoped>\n",
       "    .dataframe tbody tr th:only-of-type {\n",
       "        vertical-align: middle;\n",
       "    }\n",
       "\n",
       "    .dataframe tbody tr th {\n",
       "        vertical-align: top;\n",
       "    }\n",
       "\n",
       "    .dataframe thead th {\n",
       "        text-align: right;\n",
       "    }\n",
       "</style>\n",
       "<table border=\"1\" class=\"dataframe\">\n",
       "  <thead>\n",
       "    <tr style=\"text-align: right;\">\n",
       "      <th></th>\n",
       "      <th>Engine_Size</th>\n",
       "      <th>Cylinders</th>\n",
       "      <th>Fuel_Consumption_City</th>\n",
       "      <th>Fuel_Consumption_Hwy</th>\n",
       "      <th>Fuel_Consumption_Comb</th>\n",
       "      <th>Fuel_Consumption_Comb_mpg</th>\n",
       "      <th>CO2_Emissions</th>\n",
       "      <th>CO2_Rating</th>\n",
       "      <th>Smog_Rating</th>\n",
       "    </tr>\n",
       "  </thead>\n",
       "  <tbody>\n",
       "    <tr>\n",
       "      <th>count</th>\n",
       "      <td>882.000000</td>\n",
       "      <td>882.000000</td>\n",
       "      <td>882.000000</td>\n",
       "      <td>882.000000</td>\n",
       "      <td>882.000000</td>\n",
       "      <td>882.000000</td>\n",
       "      <td>882.000000</td>\n",
       "      <td>882.000000</td>\n",
       "      <td>882.000000</td>\n",
       "    </tr>\n",
       "    <tr>\n",
       "      <th>mean</th>\n",
       "      <td>3.117234</td>\n",
       "      <td>5.600907</td>\n",
       "      <td>12.392404</td>\n",
       "      <td>9.320295</td>\n",
       "      <td>11.009751</td>\n",
       "      <td>27.486395</td>\n",
       "      <td>257.041950</td>\n",
       "      <td>4.595238</td>\n",
       "      <td>5.004535</td>\n",
       "    </tr>\n",
       "    <tr>\n",
       "      <th>std</th>\n",
       "      <td>1.317316</td>\n",
       "      <td>1.941692</td>\n",
       "      <td>3.471466</td>\n",
       "      <td>2.306278</td>\n",
       "      <td>2.899504</td>\n",
       "      <td>7.802495</td>\n",
       "      <td>64.782264</td>\n",
       "      <td>1.479523</td>\n",
       "      <td>1.630436</td>\n",
       "    </tr>\n",
       "    <tr>\n",
       "      <th>min</th>\n",
       "      <td>1.200000</td>\n",
       "      <td>3.000000</td>\n",
       "      <td>4.000000</td>\n",
       "      <td>3.900000</td>\n",
       "      <td>4.000000</td>\n",
       "      <td>11.000000</td>\n",
       "      <td>94.000000</td>\n",
       "      <td>1.000000</td>\n",
       "      <td>1.000000</td>\n",
       "    </tr>\n",
       "    <tr>\n",
       "      <th>25%</th>\n",
       "      <td>2.000000</td>\n",
       "      <td>4.000000</td>\n",
       "      <td>10.100000</td>\n",
       "      <td>7.600000</td>\n",
       "      <td>9.000000</td>\n",
       "      <td>22.000000</td>\n",
       "      <td>211.000000</td>\n",
       "      <td>4.000000</td>\n",
       "      <td>3.000000</td>\n",
       "    </tr>\n",
       "    <tr>\n",
       "      <th>50%</th>\n",
       "      <td>3.000000</td>\n",
       "      <td>6.000000</td>\n",
       "      <td>12.100000</td>\n",
       "      <td>9.100000</td>\n",
       "      <td>10.700000</td>\n",
       "      <td>26.000000</td>\n",
       "      <td>254.000000</td>\n",
       "      <td>5.000000</td>\n",
       "      <td>5.000000</td>\n",
       "    </tr>\n",
       "    <tr>\n",
       "      <th>75%</th>\n",
       "      <td>3.600000</td>\n",
       "      <td>6.000000</td>\n",
       "      <td>14.500000</td>\n",
       "      <td>10.600000</td>\n",
       "      <td>12.700000</td>\n",
       "      <td>31.000000</td>\n",
       "      <td>298.000000</td>\n",
       "      <td>5.000000</td>\n",
       "      <td>6.000000</td>\n",
       "    </tr>\n",
       "    <tr>\n",
       "      <th>max</th>\n",
       "      <td>8.000000</td>\n",
       "      <td>16.000000</td>\n",
       "      <td>30.300000</td>\n",
       "      <td>20.900000</td>\n",
       "      <td>26.100000</td>\n",
       "      <td>71.000000</td>\n",
       "      <td>608.000000</td>\n",
       "      <td>10.000000</td>\n",
       "      <td>7.000000</td>\n",
       "    </tr>\n",
       "  </tbody>\n",
       "</table>\n",
       "</div>"
      ],
      "text/plain": [
       "       Engine_Size   Cylinders  Fuel_Consumption_City  Fuel_Consumption_Hwy  \\\n",
       "count   882.000000  882.000000             882.000000            882.000000   \n",
       "mean      3.117234    5.600907              12.392404              9.320295   \n",
       "std       1.317316    1.941692               3.471466              2.306278   \n",
       "min       1.200000    3.000000               4.000000              3.900000   \n",
       "25%       2.000000    4.000000              10.100000              7.600000   \n",
       "50%       3.000000    6.000000              12.100000              9.100000   \n",
       "75%       3.600000    6.000000              14.500000             10.600000   \n",
       "max       8.000000   16.000000              30.300000             20.900000   \n",
       "\n",
       "       Fuel_Consumption_Comb  Fuel_Consumption_Comb_mpg  CO2_Emissions  \\\n",
       "count             882.000000                 882.000000     882.000000   \n",
       "mean               11.009751                  27.486395     257.041950   \n",
       "std                 2.899504                   7.802495      64.782264   \n",
       "min                 4.000000                  11.000000      94.000000   \n",
       "25%                 9.000000                  22.000000     211.000000   \n",
       "50%                10.700000                  26.000000     254.000000   \n",
       "75%                12.700000                  31.000000     298.000000   \n",
       "max                26.100000                  71.000000     608.000000   \n",
       "\n",
       "       CO2_Rating  Smog_Rating  \n",
       "count  882.000000   882.000000  \n",
       "mean     4.595238     5.004535  \n",
       "std      1.479523     1.630436  \n",
       "min      1.000000     1.000000  \n",
       "25%      4.000000     3.000000  \n",
       "50%      5.000000     5.000000  \n",
       "75%      5.000000     6.000000  \n",
       "max     10.000000     7.000000  "
      ]
     },
     "execution_count": 4,
     "metadata": {},
     "output_type": "execute_result"
    }
   ],
   "source": [
    "emissions_df.describe()"
   ]
  },
  {
   "cell_type": "code",
   "execution_count": 5,
   "metadata": {
    "button": false,
    "new_sheet": false,
    "run_control": {
     "read_only": false
    }
   },
   "outputs": [
    {
     "data": {
      "text/plain": [
       "Make                         0\n",
       "Model                        0\n",
       "Vehicle Class                0\n",
       "Engine_Size                  0\n",
       "Cylinders                    0\n",
       "Transmission                 0\n",
       "Fuel                         0\n",
       "Fuel_Consumption_City        0\n",
       "Fuel_Consumption_Hwy         0\n",
       "Fuel_Consumption_Comb        0\n",
       "Fuel_Consumption_Comb_mpg    0\n",
       "CO2_Emissions                0\n",
       "CO2_Rating                   0\n",
       "Smog_Rating                  0\n",
       "dtype: int64"
      ]
     },
     "execution_count": 5,
     "metadata": {},
     "output_type": "execute_result"
    }
   ],
   "source": [
    "emissions_df.isnull().sum()"
   ]
  },
  {
   "cell_type": "markdown",
   "metadata": {
    "button": false,
    "new_sheet": false,
    "run_control": {
     "read_only": false
    }
   },
   "source": [
    "The data looks very clean and is ready to be used to build our model."
   ]
  },
  {
   "cell_type": "markdown",
   "metadata": {
    "button": false,
    "new_sheet": false,
    "run_control": {
     "read_only": false
    }
   },
   "source": [
    "#### Split data into predictors and target"
   ]
  },
  {
   "cell_type": "markdown",
   "metadata": {},
   "source": [
    "The target variable in this problem is the concrete sample strength. Therefore, our predictors will be all the other columns."
   ]
  },
  {
   "cell_type": "code",
   "execution_count": 6,
   "metadata": {
    "button": false,
    "new_sheet": false,
    "run_control": {
     "read_only": false
    }
   },
   "outputs": [],
   "source": [
    "predictors =  emissions_df[['Engine_Size','Cylinders','Fuel_Consumption_City','Fuel_Consumption_Hwy']]\n",
    "target =  emissions_df['CO2_Emissions']"
   ]
  },
  {
   "cell_type": "markdown",
   "metadata": {
    "button": false,
    "new_sheet": false,
    "run_control": {
     "read_only": false
    }
   },
   "source": [
    "<a id=\"item2\"></a>"
   ]
  },
  {
   "cell_type": "markdown",
   "metadata": {
    "button": false,
    "new_sheet": false,
    "run_control": {
     "read_only": false
    }
   },
   "source": [
    "Let's do a quick sanity check of the predictors and the target dataframes."
   ]
  },
  {
   "cell_type": "code",
   "execution_count": 7,
   "metadata": {
    "button": false,
    "new_sheet": false,
    "run_control": {
     "read_only": false
    }
   },
   "outputs": [
    {
     "data": {
      "text/html": [
       "<div>\n",
       "<style scoped>\n",
       "    .dataframe tbody tr th:only-of-type {\n",
       "        vertical-align: middle;\n",
       "    }\n",
       "\n",
       "    .dataframe tbody tr th {\n",
       "        vertical-align: top;\n",
       "    }\n",
       "\n",
       "    .dataframe thead th {\n",
       "        text-align: right;\n",
       "    }\n",
       "</style>\n",
       "<table border=\"1\" class=\"dataframe\">\n",
       "  <thead>\n",
       "    <tr style=\"text-align: right;\">\n",
       "      <th></th>\n",
       "      <th>Engine_Size</th>\n",
       "      <th>Cylinders</th>\n",
       "      <th>Fuel_Consumption_City</th>\n",
       "      <th>Fuel_Consumption_Hwy</th>\n",
       "    </tr>\n",
       "  </thead>\n",
       "  <tbody>\n",
       "    <tr>\n",
       "      <th>0</th>\n",
       "      <td>2.4</td>\n",
       "      <td>4</td>\n",
       "      <td>9.9</td>\n",
       "      <td>7.0</td>\n",
       "    </tr>\n",
       "    <tr>\n",
       "      <th>1</th>\n",
       "      <td>3.5</td>\n",
       "      <td>6</td>\n",
       "      <td>12.6</td>\n",
       "      <td>9.4</td>\n",
       "    </tr>\n",
       "    <tr>\n",
       "      <th>2</th>\n",
       "      <td>2.0</td>\n",
       "      <td>4</td>\n",
       "      <td>11.0</td>\n",
       "      <td>8.6</td>\n",
       "    </tr>\n",
       "    <tr>\n",
       "      <th>3</th>\n",
       "      <td>2.0</td>\n",
       "      <td>4</td>\n",
       "      <td>11.3</td>\n",
       "      <td>9.1</td>\n",
       "    </tr>\n",
       "    <tr>\n",
       "      <th>4</th>\n",
       "      <td>2.0</td>\n",
       "      <td>4</td>\n",
       "      <td>11.2</td>\n",
       "      <td>8.0</td>\n",
       "    </tr>\n",
       "  </tbody>\n",
       "</table>\n",
       "</div>"
      ],
      "text/plain": [
       "   Engine_Size  Cylinders  Fuel_Consumption_City  Fuel_Consumption_Hwy\n",
       "0          2.4          4                    9.9                   7.0\n",
       "1          3.5          6                   12.6                   9.4\n",
       "2          2.0          4                   11.0                   8.6\n",
       "3          2.0          4                   11.3                   9.1\n",
       "4          2.0          4                   11.2                   8.0"
      ]
     },
     "execution_count": 7,
     "metadata": {},
     "output_type": "execute_result"
    }
   ],
   "source": [
    "predictors.head()"
   ]
  },
  {
   "cell_type": "code",
   "execution_count": 8,
   "metadata": {
    "button": false,
    "new_sheet": false,
    "run_control": {
     "read_only": false
    }
   },
   "outputs": [
    {
     "data": {
      "text/plain": [
       "0    200\n",
       "1    263\n",
       "2    232\n",
       "3    242\n",
       "4    230\n",
       "Name: CO2_Emissions, dtype: int64"
      ]
     },
     "execution_count": 8,
     "metadata": {},
     "output_type": "execute_result"
    }
   ],
   "source": [
    "target.head()"
   ]
  },
  {
   "cell_type": "markdown",
   "metadata": {
    "button": false,
    "new_sheet": false,
    "run_control": {
     "read_only": false
    }
   },
   "source": [
    "Finally, the last step is to normalize the data by substracting the mean and dividing by the standard deviation."
   ]
  },
  {
   "cell_type": "code",
   "execution_count": 9,
   "metadata": {
    "button": false,
    "new_sheet": false,
    "run_control": {
     "read_only": false
    }
   },
   "outputs": [],
   "source": [
    "predictors_train,predictors_test,target_train,target_test = train_test_split(predictors, target, test_size=0.3, random_state=42)"
   ]
  },
  {
   "cell_type": "code",
   "execution_count": 10,
   "metadata": {},
   "outputs": [
    {
     "data": {
      "text/plain": [
       "array([[-0.87734126, -0.85294125, -1.02783519, -0.83166966],\n",
       "       [-0.87734126, -0.85294125, -1.23329757, -1.31868795],\n",
       "       [-0.12003914,  0.16992513,  0.58651208,  0.36373887],\n",
       "       ...,\n",
       "       [-0.87734126, -0.85294125, -0.20598567, -0.47747454],\n",
       "       [-0.4986902 , -0.85294125, -0.70496574, -0.96449283],\n",
       "       [ 0.94018384,  1.1927915 ,  1.05614038,  0.71793399]])"
      ]
     },
     "execution_count": 10,
     "metadata": {},
     "output_type": "execute_result"
    }
   ],
   "source": [
    "predictors_train = StandardScaler().fit_transform(predictors_train)\n",
    "predictors_test = StandardScaler().fit_transform(predictors_test)\n",
    "predictors_train"
   ]
  },
  {
   "cell_type": "markdown",
   "metadata": {},
   "source": [
    "Let's save the number of predictors to *n_cols* since we will need this number when building our network."
   ]
  },
  {
   "cell_type": "code",
   "execution_count": 11,
   "metadata": {
    "button": false,
    "new_sheet": false,
    "run_control": {
     "read_only": false
    }
   },
   "outputs": [],
   "source": [
    "n_cols = predictors_train.shape[1] # number of predictors"
   ]
  },
  {
   "cell_type": "markdown",
   "metadata": {
    "button": false,
    "new_sheet": false,
    "run_control": {
     "read_only": false
    }
   },
   "source": [
    "<a id=\"item1\"></a>"
   ]
  },
  {
   "cell_type": "markdown",
   "metadata": {},
   "source": [
    "<a id='item32'></a>"
   ]
  },
  {
   "cell_type": "markdown",
   "metadata": {
    "button": false,
    "new_sheet": false,
    "run_control": {
     "read_only": false
    }
   },
   "source": [
    "## Import Keras"
   ]
  },
  {
   "cell_type": "markdown",
   "metadata": {
    "button": false,
    "new_sheet": false,
    "run_control": {
     "read_only": false
    }
   },
   "source": [
    "Recall from the videos that Keras normally runs on top of a low-level library such as TensorFlow. This means that to be able to use the Keras library, you will have to install TensorFlow first and when you import the Keras library, it will be explicitly displayed what backend was used to install the Keras library. In CC Labs, we used TensorFlow as the backend to install Keras, so it should clearly print that when we import Keras."
   ]
  },
  {
   "cell_type": "markdown",
   "metadata": {
    "button": false,
    "new_sheet": false,
    "run_control": {
     "read_only": false
    }
   },
   "source": [
    "#### Let's go ahead and import the Keras library"
   ]
  },
  {
   "cell_type": "code",
   "execution_count": 12,
   "metadata": {},
   "outputs": [],
   "source": [
    "#!pip install keras\n",
    "#!pip install tensorflow"
   ]
  },
  {
   "cell_type": "code",
   "execution_count": 13,
   "metadata": {
    "button": false,
    "new_sheet": false,
    "run_control": {
     "read_only": false
    }
   },
   "outputs": [],
   "source": [
    "import keras"
   ]
  },
  {
   "cell_type": "markdown",
   "metadata": {
    "button": false,
    "new_sheet": false,
    "run_control": {
     "read_only": false
    }
   },
   "source": [
    "As you can see, the TensorFlow backend was used to install the Keras library."
   ]
  },
  {
   "cell_type": "markdown",
   "metadata": {
    "button": false,
    "new_sheet": false,
    "run_control": {
     "read_only": false
    }
   },
   "source": [
    "Let's import the rest of the packages from the Keras library that we will need to build our regressoin model."
   ]
  },
  {
   "cell_type": "code",
   "execution_count": 14,
   "metadata": {
    "button": false,
    "new_sheet": false,
    "run_control": {
     "read_only": false
    }
   },
   "outputs": [],
   "source": [
    "from keras.models import Sequential\n",
    "from keras.layers import Dense"
   ]
  },
  {
   "cell_type": "markdown",
   "metadata": {},
   "source": [
    "<a id='item33'></a>"
   ]
  },
  {
   "cell_type": "markdown",
   "metadata": {
    "button": false,
    "new_sheet": false,
    "run_control": {
     "read_only": false
    }
   },
   "source": [
    "## Build a Neural Network"
   ]
  },
  {
   "cell_type": "markdown",
   "metadata": {
    "button": false,
    "new_sheet": false,
    "run_control": {
     "read_only": false
    }
   },
   "source": [
    "Let's define a function that defines our regression model for us so that we can conveniently call it to create our model."
   ]
  },
  {
   "cell_type": "code",
   "execution_count": 15,
   "metadata": {
    "button": false,
    "new_sheet": false,
    "run_control": {
     "read_only": false
    }
   },
   "outputs": [],
   "source": [
    "# define regression model\n",
    "def regression_model():\n",
    "    # create model\n",
    "    model = Sequential()\n",
    "    model.add(Dense(10, activation='relu', input_shape=(n_cols,)))\n",
    "    model.add(Dense(10, activation='relu'))\n",
    "    model.add(Dense(1))\n",
    "    \n",
    "    # compile model\n",
    "    model.compile(optimizer='adam', loss='mean_squared_error', metrics=[tf.keras.metrics.RootMeanSquaredError()])\n",
    "    return model"
   ]
  },
  {
   "cell_type": "markdown",
   "metadata": {},
   "source": [
    "The above function create a model that has two hidden layers, each of 50 hidden units."
   ]
  },
  {
   "cell_type": "markdown",
   "metadata": {
    "button": false,
    "new_sheet": false,
    "run_control": {
     "read_only": false
    }
   },
   "source": [
    "<a id=\"item4\"></a>"
   ]
  },
  {
   "cell_type": "markdown",
   "metadata": {},
   "source": [
    "<a id='item34'></a>"
   ]
  },
  {
   "cell_type": "markdown",
   "metadata": {
    "button": false,
    "new_sheet": false,
    "run_control": {
     "read_only": false
    }
   },
   "source": [
    "## Train and Test the Network"
   ]
  },
  {
   "cell_type": "markdown",
   "metadata": {},
   "source": [
    "Let's call the function now to create our model."
   ]
  },
  {
   "cell_type": "code",
   "execution_count": 16,
   "metadata": {
    "button": false,
    "new_sheet": false,
    "run_control": {
     "read_only": false
    }
   },
   "outputs": [
    {
     "name": "stdout",
     "output_type": "stream",
     "text": [
      "Model: \"sequential\"\n",
      "_________________________________________________________________\n",
      "Layer (type)                 Output Shape              Param #   \n",
      "=================================================================\n",
      "dense (Dense)                (None, 10)                50        \n",
      "_________________________________________________________________\n",
      "dense_1 (Dense)              (None, 10)                110       \n",
      "_________________________________________________________________\n",
      "dense_2 (Dense)              (None, 1)                 11        \n",
      "=================================================================\n",
      "Total params: 171\n",
      "Trainable params: 171\n",
      "Non-trainable params: 0\n",
      "_________________________________________________________________\n"
     ]
    },
    {
     "name": "stderr",
     "output_type": "stream",
     "text": [
      "2022-02-27 03:12:28.834864: W tensorflow/stream_executor/platform/default/dso_loader.cc:64] Could not load dynamic library 'libcuda.so.1'; dlerror: libcuda.so.1: cannot open shared object file: No such file or directory\n",
      "2022-02-27 03:12:28.834900: W tensorflow/stream_executor/cuda/cuda_driver.cc:269] failed call to cuInit: UNKNOWN ERROR (303)\n",
      "2022-02-27 03:12:28.834933: I tensorflow/stream_executor/cuda/cuda_diagnostics.cc:163] no NVIDIA GPU device is present: /dev/nvidia0 does not exist\n",
      "2022-02-27 03:12:28.836148: I tensorflow/core/platform/cpu_feature_guard.cc:142] This TensorFlow binary is optimized with oneAPI Deep Neural Network Library (oneDNN) to use the following CPU instructions in performance-critical operations:  SSE4.1 SSE4.2 AVX AVX2 FMA\n",
      "To enable them in other operations, rebuild TensorFlow with the appropriate compiler flags.\n"
     ]
    }
   ],
   "source": [
    "# build the model\n",
    "model = regression_model()\n",
    "model.summary()"
   ]
  },
  {
   "cell_type": "markdown",
   "metadata": {},
   "source": [
    "Next, we will train and test the model at the same time using the *fit* method. We will leave out 30% of the data for validation and we will train the model for 100 epochs."
   ]
  },
  {
   "cell_type": "code",
   "execution_count": 17,
   "metadata": {
    "scrolled": true
   },
   "outputs": [
    {
     "name": "stderr",
     "output_type": "stream",
     "text": [
      "2022-02-27 03:12:29.033356: I tensorflow/compiler/mlir/mlir_graph_optimization_pass.cc:185] None of the MLIR Optimization Passes are enabled (registered 2)\n"
     ]
    },
    {
     "name": "stdout",
     "output_type": "stream",
     "text": [
      "Epoch 1/200\n",
      "20/20 [==============================] - 0s 8ms/step - loss: 70820.9922 - root_mean_squared_error: 266.1221 - val_loss: 67853.7422 - val_root_mean_squared_error: 260.4875\n",
      "Epoch 2/200\n",
      "20/20 [==============================] - 0s 3ms/step - loss: 70695.1328 - root_mean_squared_error: 265.8856 - val_loss: 67715.5469 - val_root_mean_squared_error: 260.2221\n",
      "Epoch 3/200\n",
      "20/20 [==============================] - 0s 2ms/step - loss: 70543.2188 - root_mean_squared_error: 265.5997 - val_loss: 67547.2578 - val_root_mean_squared_error: 259.8986\n",
      "Epoch 4/200\n",
      "20/20 [==============================] - 0s 2ms/step - loss: 70356.3438 - root_mean_squared_error: 265.2477 - val_loss: 67333.6016 - val_root_mean_squared_error: 259.4872\n",
      "Epoch 5/200\n",
      "20/20 [==============================] - 0s 2ms/step - loss: 70120.0391 - root_mean_squared_error: 264.8019 - val_loss: 67073.7656 - val_root_mean_squared_error: 258.9860\n",
      "Epoch 6/200\n",
      "20/20 [==============================] - 0s 2ms/step - loss: 69831.7344 - root_mean_squared_error: 264.2570 - val_loss: 66756.0859 - val_root_mean_squared_error: 258.3720\n",
      "Epoch 7/200\n",
      "20/20 [==============================] - 0s 2ms/step - loss: 69474.7422 - root_mean_squared_error: 263.5806 - val_loss: 66360.0938 - val_root_mean_squared_error: 257.6045\n",
      "Epoch 8/200\n",
      "20/20 [==============================] - 0s 3ms/step - loss: 69035.8281 - root_mean_squared_error: 262.7467 - val_loss: 65876.7734 - val_root_mean_squared_error: 256.6647\n",
      "Epoch 9/200\n",
      "20/20 [==============================] - 0s 2ms/step - loss: 68497.8047 - root_mean_squared_error: 261.7209 - val_loss: 65268.3398 - val_root_mean_squared_error: 255.4767\n",
      "Epoch 10/200\n",
      "20/20 [==============================] - 0s 3ms/step - loss: 67819.4844 - root_mean_squared_error: 260.4218 - val_loss: 64509.8398 - val_root_mean_squared_error: 253.9879\n",
      "Epoch 11/200\n",
      "20/20 [==============================] - 0s 2ms/step - loss: 66991.5781 - root_mean_squared_error: 258.8273 - val_loss: 63596.6797 - val_root_mean_squared_error: 252.1838\n",
      "Epoch 12/200\n",
      "20/20 [==============================] - 0s 2ms/step - loss: 65995.6172 - root_mean_squared_error: 256.8961 - val_loss: 62502.4258 - val_root_mean_squared_error: 250.0049\n",
      "Epoch 13/200\n",
      "20/20 [==============================] - 0s 2ms/step - loss: 64804.3242 - root_mean_squared_error: 254.5669 - val_loss: 61244.6680 - val_root_mean_squared_error: 247.4766\n",
      "Epoch 14/200\n",
      "20/20 [==============================] - 0s 2ms/step - loss: 63432.4414 - root_mean_squared_error: 251.8580 - val_loss: 59785.6602 - val_root_mean_squared_error: 244.5111\n",
      "Epoch 15/200\n",
      "20/20 [==============================] - 0s 2ms/step - loss: 61859.4570 - root_mean_squared_error: 248.7156 - val_loss: 58082.7500 - val_root_mean_squared_error: 241.0036\n",
      "Epoch 16/200\n",
      "20/20 [==============================] - 0s 2ms/step - loss: 60072.6211 - root_mean_squared_error: 245.0972 - val_loss: 56198.6562 - val_root_mean_squared_error: 237.0626\n",
      "Epoch 17/200\n",
      "20/20 [==============================] - 0s 2ms/step - loss: 58087.0000 - root_mean_squared_error: 241.0125 - val_loss: 54117.0156 - val_root_mean_squared_error: 232.6306\n",
      "Epoch 18/200\n",
      "20/20 [==============================] - 0s 2ms/step - loss: 55855.9141 - root_mean_squared_error: 236.3386 - val_loss: 51809.0078 - val_root_mean_squared_error: 227.6159\n",
      "Epoch 19/200\n",
      "20/20 [==============================] - 0s 2ms/step - loss: 53423.7148 - root_mean_squared_error: 231.1357 - val_loss: 49246.5977 - val_root_mean_squared_error: 221.9157\n",
      "Epoch 20/200\n",
      "20/20 [==============================] - 0s 3ms/step - loss: 50754.4023 - root_mean_squared_error: 225.2874 - val_loss: 46523.0391 - val_root_mean_squared_error: 215.6920\n",
      "Epoch 21/200\n",
      "20/20 [==============================] - 0s 2ms/step - loss: 47937.2305 - root_mean_squared_error: 218.9457 - val_loss: 43648.0391 - val_root_mean_squared_error: 208.9211\n",
      "Epoch 22/200\n",
      "20/20 [==============================] - 0s 2ms/step - loss: 44960.4922 - root_mean_squared_error: 212.0389 - val_loss: 40737.4922 - val_root_mean_squared_error: 201.8353\n",
      "Epoch 23/200\n",
      "20/20 [==============================] - 0s 2ms/step - loss: 41990.7188 - root_mean_squared_error: 204.9164 - val_loss: 37708.2930 - val_root_mean_squared_error: 194.1862\n",
      "Epoch 24/200\n",
      "20/20 [==============================] - 0s 2ms/step - loss: 38917.1836 - root_mean_squared_error: 197.2744 - val_loss: 34715.2773 - val_root_mean_squared_error: 186.3204\n",
      "Epoch 25/200\n",
      "20/20 [==============================] - 0s 2ms/step - loss: 35905.3438 - root_mean_squared_error: 189.4871 - val_loss: 31829.5547 - val_root_mean_squared_error: 178.4084\n",
      "Epoch 26/200\n",
      "20/20 [==============================] - 0s 2ms/step - loss: 32987.1016 - root_mean_squared_error: 181.6235 - val_loss: 28994.7461 - val_root_mean_squared_error: 170.2784\n",
      "Epoch 27/200\n",
      "20/20 [==============================] - 0s 3ms/step - loss: 30173.6992 - root_mean_squared_error: 173.7058 - val_loss: 26361.7949 - val_root_mean_squared_error: 162.3632\n",
      "Epoch 28/200\n",
      "20/20 [==============================] - 0s 3ms/step - loss: 27567.7988 - root_mean_squared_error: 166.0355 - val_loss: 23888.6191 - val_root_mean_squared_error: 154.5594\n",
      "Epoch 29/200\n",
      "20/20 [==============================] - 0s 2ms/step - loss: 25153.7227 - root_mean_squared_error: 158.5993 - val_loss: 21729.4141 - val_root_mean_squared_error: 147.4090\n",
      "Epoch 30/200\n",
      "20/20 [==============================] - 0s 2ms/step - loss: 23001.3770 - root_mean_squared_error: 151.6620 - val_loss: 19722.0605 - val_root_mean_squared_error: 140.4353\n",
      "Epoch 31/200\n",
      "20/20 [==============================] - 0s 2ms/step - loss: 21048.9551 - root_mean_squared_error: 145.0826 - val_loss: 18030.0625 - val_root_mean_squared_error: 134.2761\n",
      "Epoch 32/200\n",
      "20/20 [==============================] - 0s 2ms/step - loss: 19402.0273 - root_mean_squared_error: 139.2912 - val_loss: 16578.6172 - val_root_mean_squared_error: 128.7580\n",
      "Epoch 33/200\n",
      "20/20 [==============================] - 0s 2ms/step - loss: 17972.1562 - root_mean_squared_error: 134.0603 - val_loss: 15374.7021 - val_root_mean_squared_error: 123.9948\n",
      "Epoch 34/200\n",
      "20/20 [==============================] - 0s 2ms/step - loss: 16779.7773 - root_mean_squared_error: 129.5368 - val_loss: 14366.1426 - val_root_mean_squared_error: 119.8588\n",
      "Epoch 35/200\n",
      "20/20 [==============================] - 0s 2ms/step - loss: 15788.9883 - root_mean_squared_error: 125.6542 - val_loss: 13543.8057 - val_root_mean_squared_error: 116.3779\n",
      "Epoch 36/200\n",
      "20/20 [==============================] - 0s 2ms/step - loss: 14954.5459 - root_mean_squared_error: 122.2888 - val_loss: 12883.4863 - val_root_mean_squared_error: 113.5054\n",
      "Epoch 37/200\n",
      "20/20 [==============================] - 0s 2ms/step - loss: 14250.7344 - root_mean_squared_error: 119.3764 - val_loss: 12356.4551 - val_root_mean_squared_error: 111.1596\n",
      "Epoch 38/200\n",
      "20/20 [==============================] - 0s 2ms/step - loss: 13693.2734 - root_mean_squared_error: 117.0183 - val_loss: 11878.3906 - val_root_mean_squared_error: 108.9880\n",
      "Epoch 39/200\n",
      "20/20 [==============================] - 0s 2ms/step - loss: 13167.8438 - root_mean_squared_error: 114.7512 - val_loss: 11497.8223 - val_root_mean_squared_error: 107.2279\n",
      "Epoch 40/200\n",
      "20/20 [==============================] - 0s 2ms/step - loss: 12746.3154 - root_mean_squared_error: 112.8996 - val_loss: 11159.7178 - val_root_mean_squared_error: 105.6396\n",
      "Epoch 41/200\n",
      "20/20 [==============================] - 0s 2ms/step - loss: 12342.5781 - root_mean_squared_error: 111.0972 - val_loss: 10843.7695 - val_root_mean_squared_error: 104.1334\n",
      "Epoch 42/200\n",
      "20/20 [==============================] - 0s 2ms/step - loss: 11971.1787 - root_mean_squared_error: 109.4129 - val_loss: 10541.0273 - val_root_mean_squared_error: 102.6695\n",
      "Epoch 43/200\n",
      "20/20 [==============================] - 0s 2ms/step - loss: 11607.9688 - root_mean_squared_error: 107.7403 - val_loss: 10269.3193 - val_root_mean_squared_error: 101.3376\n",
      "Epoch 44/200\n",
      "20/20 [==============================] - 0s 1ms/step - loss: 11285.9629 - root_mean_squared_error: 106.2354 - val_loss: 9992.0420 - val_root_mean_squared_error: 99.9602\n",
      "Epoch 45/200\n",
      "20/20 [==============================] - 0s 2ms/step - loss: 10953.8662 - root_mean_squared_error: 104.6607 - val_loss: 9737.6328 - val_root_mean_squared_error: 98.6794\n",
      "Epoch 46/200\n",
      "20/20 [==============================] - 0s 2ms/step - loss: 10660.8281 - root_mean_squared_error: 103.2513 - val_loss: 9460.0420 - val_root_mean_squared_error: 97.2627\n",
      "Epoch 47/200\n",
      "20/20 [==============================] - 0s 2ms/step - loss: 10335.9521 - root_mean_squared_error: 101.6659 - val_loss: 9190.5488 - val_root_mean_squared_error: 95.8673\n",
      "Epoch 48/200\n",
      "20/20 [==============================] - 0s 3ms/step - loss: 10015.0117 - root_mean_squared_error: 100.0750 - val_loss: 8924.5596 - val_root_mean_squared_error: 94.4699\n",
      "Epoch 49/200\n",
      "20/20 [==============================] - 0s 2ms/step - loss: 9707.7793 - root_mean_squared_error: 98.5281 - val_loss: 8672.1582 - val_root_mean_squared_error: 93.1244\n",
      "Epoch 50/200\n",
      "20/20 [==============================] - 0s 2ms/step - loss: 9414.8965 - root_mean_squared_error: 97.0304 - val_loss: 8410.5879 - val_root_mean_squared_error: 91.7093\n",
      "Epoch 51/200\n",
      "20/20 [==============================] - 0s 2ms/step - loss: 9114.2451 - root_mean_squared_error: 95.4686 - val_loss: 8144.6943 - val_root_mean_squared_error: 90.2480\n",
      "Epoch 52/200\n",
      "20/20 [==============================] - 0s 2ms/step - loss: 8814.2021 - root_mean_squared_error: 93.8840 - val_loss: 7885.2363 - val_root_mean_squared_error: 88.7989\n",
      "Epoch 53/200\n",
      "20/20 [==============================] - 0s 2ms/step - loss: 8520.0283 - root_mean_squared_error: 92.3040 - val_loss: 7626.0918 - val_root_mean_squared_error: 87.3275\n",
      "Epoch 54/200\n",
      "20/20 [==============================] - 0s 2ms/step - loss: 8237.1895 - root_mean_squared_error: 90.7590 - val_loss: 7379.8306 - val_root_mean_squared_error: 85.9059\n",
      "Epoch 55/200\n",
      "20/20 [==============================] - 0s 1ms/step - loss: 7962.5347 - root_mean_squared_error: 89.2330 - val_loss: 7121.1489 - val_root_mean_squared_error: 84.3869\n",
      "Epoch 56/200\n",
      "20/20 [==============================] - 0s 2ms/step - loss: 7680.1387 - root_mean_squared_error: 87.6364 - val_loss: 6887.9883 - val_root_mean_squared_error: 82.9939\n",
      "Epoch 57/200\n",
      "20/20 [==============================] - 0s 2ms/step - loss: 7408.2554 - root_mean_squared_error: 86.0712 - val_loss: 6641.9814 - val_root_mean_squared_error: 81.4984\n",
      "Epoch 58/200\n",
      "20/20 [==============================] - 0s 2ms/step - loss: 7140.9102 - root_mean_squared_error: 84.5039 - val_loss: 6405.8877 - val_root_mean_squared_error: 80.0368\n",
      "Epoch 59/200\n",
      "20/20 [==============================] - 0s 2ms/step - loss: 6882.0391 - root_mean_squared_error: 82.9581 - val_loss: 6178.1890 - val_root_mean_squared_error: 78.6015\n",
      "Epoch 60/200\n",
      "20/20 [==============================] - 0s 2ms/step - loss: 6627.4668 - root_mean_squared_error: 81.4093 - val_loss: 5924.2397 - val_root_mean_squared_error: 76.9691\n",
      "Epoch 61/200\n",
      "20/20 [==============================] - 0s 2ms/step - loss: 6374.4937 - root_mean_squared_error: 79.8404 - val_loss: 5703.1948 - val_root_mean_squared_error: 75.5195\n",
      "Epoch 62/200\n",
      "20/20 [==============================] - 0s 2ms/step - loss: 6129.3804 - root_mean_squared_error: 78.2904 - val_loss: 5468.2300 - val_root_mean_squared_error: 73.9475\n",
      "Epoch 63/200\n",
      "20/20 [==============================] - 0s 2ms/step - loss: 5882.4624 - root_mean_squared_error: 76.6972 - val_loss: 5243.8130 - val_root_mean_squared_error: 72.4142\n",
      "Epoch 64/200\n",
      "20/20 [==============================] - 0s 2ms/step - loss: 5644.2822 - root_mean_squared_error: 75.1284 - val_loss: 5031.5576 - val_root_mean_squared_error: 70.9335\n",
      "Epoch 65/200\n",
      "20/20 [==============================] - 0s 2ms/step - loss: 5417.2563 - root_mean_squared_error: 73.6020 - val_loss: 4836.0469 - val_root_mean_squared_error: 69.5417\n",
      "Epoch 66/200\n",
      "20/20 [==============================] - 0s 2ms/step - loss: 5207.0176 - root_mean_squared_error: 72.1597 - val_loss: 4629.8560 - val_root_mean_squared_error: 68.0430\n",
      "Epoch 67/200\n",
      "20/20 [==============================] - 0s 3ms/step - loss: 4990.5415 - root_mean_squared_error: 70.6438 - val_loss: 4444.8794 - val_root_mean_squared_error: 66.6699\n",
      "Epoch 68/200\n",
      "20/20 [==============================] - 0s 2ms/step - loss: 4795.5840 - root_mean_squared_error: 69.2502 - val_loss: 4268.8477 - val_root_mean_squared_error: 65.3364\n",
      "Epoch 69/200\n",
      "20/20 [==============================] - 0s 2ms/step - loss: 4593.7129 - root_mean_squared_error: 67.7769 - val_loss: 4091.0227 - val_root_mean_squared_error: 63.9611\n",
      "Epoch 70/200\n",
      "20/20 [==============================] - 0s 3ms/step - loss: 4407.6284 - root_mean_squared_error: 66.3900 - val_loss: 3918.1826 - val_root_mean_squared_error: 62.5954\n",
      "Epoch 71/200\n",
      "20/20 [==============================] - 0s 2ms/step - loss: 4215.5312 - root_mean_squared_error: 64.9271 - val_loss: 3760.0100 - val_root_mean_squared_error: 61.3189\n",
      "Epoch 72/200\n",
      "20/20 [==============================] - 0s 2ms/step - loss: 4033.6143 - root_mean_squared_error: 63.5107 - val_loss: 3593.9343 - val_root_mean_squared_error: 59.9494\n",
      "Epoch 73/200\n",
      "20/20 [==============================] - 0s 2ms/step - loss: 3857.3850 - root_mean_squared_error: 62.1078 - val_loss: 3439.3821 - val_root_mean_squared_error: 58.6462\n",
      "Epoch 74/200\n",
      "20/20 [==============================] - 0s 2ms/step - loss: 3695.0110 - root_mean_squared_error: 60.7866 - val_loss: 3297.6145 - val_root_mean_squared_error: 57.4249\n",
      "Epoch 75/200\n",
      "20/20 [==============================] - 0s 2ms/step - loss: 3522.1860 - root_mean_squared_error: 59.3480 - val_loss: 3142.6877 - val_root_mean_squared_error: 56.0597\n",
      "Epoch 76/200\n",
      "20/20 [==============================] - 0s 3ms/step - loss: 3367.0371 - root_mean_squared_error: 58.0262 - val_loss: 3002.5833 - val_root_mean_squared_error: 54.7958\n",
      "Epoch 77/200\n",
      "20/20 [==============================] - 0s 2ms/step - loss: 3220.2114 - root_mean_squared_error: 56.7469 - val_loss: 2864.1895 - val_root_mean_squared_error: 53.5181\n",
      "Epoch 78/200\n",
      "20/20 [==============================] - 0s 2ms/step - loss: 3080.4783 - root_mean_squared_error: 55.5021 - val_loss: 2753.0479 - val_root_mean_squared_error: 52.4695\n",
      "Epoch 79/200\n",
      "20/20 [==============================] - 0s 2ms/step - loss: 2941.2898 - root_mean_squared_error: 54.2337 - val_loss: 2619.5764 - val_root_mean_squared_error: 51.1818\n",
      "Epoch 80/200\n",
      "20/20 [==============================] - 0s 2ms/step - loss: 2805.9304 - root_mean_squared_error: 52.9710 - val_loss: 2501.3025 - val_root_mean_squared_error: 50.0130\n",
      "Epoch 81/200\n",
      "20/20 [==============================] - 0s 2ms/step - loss: 2684.6375 - root_mean_squared_error: 51.8135 - val_loss: 2393.0110 - val_root_mean_squared_error: 48.9184\n",
      "Epoch 82/200\n",
      "20/20 [==============================] - 0s 2ms/step - loss: 2568.1875 - root_mean_squared_error: 50.6773 - val_loss: 2272.0149 - val_root_mean_squared_error: 47.6657\n",
      "Epoch 83/200\n",
      "20/20 [==============================] - 0s 2ms/step - loss: 2447.4753 - root_mean_squared_error: 49.4720 - val_loss: 2170.7104 - val_root_mean_squared_error: 46.5909\n",
      "Epoch 84/200\n",
      "20/20 [==============================] - 0s 2ms/step - loss: 2335.0649 - root_mean_squared_error: 48.3225 - val_loss: 2068.8462 - val_root_mean_squared_error: 45.4846\n",
      "Epoch 85/200\n",
      "20/20 [==============================] - 0s 2ms/step - loss: 2230.8569 - root_mean_squared_error: 47.2319 - val_loss: 1967.4723 - val_root_mean_squared_error: 44.3562\n",
      "Epoch 86/200\n",
      "20/20 [==============================] - 0s 2ms/step - loss: 2122.4548 - root_mean_squared_error: 46.0701 - val_loss: 1869.0630 - val_root_mean_squared_error: 43.2327\n",
      "Epoch 87/200\n",
      "20/20 [==============================] - 0s 2ms/step - loss: 2018.5223 - root_mean_squared_error: 44.9280 - val_loss: 1773.2953 - val_root_mean_squared_error: 42.1105\n",
      "Epoch 88/200\n",
      "20/20 [==============================] - 0s 2ms/step - loss: 1924.4998 - root_mean_squared_error: 43.8691 - val_loss: 1695.9474 - val_root_mean_squared_error: 41.1819\n",
      "Epoch 89/200\n",
      "20/20 [==============================] - 0s 2ms/step - loss: 1836.0934 - root_mean_squared_error: 42.8497 - val_loss: 1615.5585 - val_root_mean_squared_error: 40.1940\n",
      "Epoch 90/200\n",
      "20/20 [==============================] - 0s 2ms/step - loss: 1751.1235 - root_mean_squared_error: 41.8464 - val_loss: 1542.4215 - val_root_mean_squared_error: 39.2737\n",
      "Epoch 91/200\n",
      "20/20 [==============================] - 0s 2ms/step - loss: 1670.7151 - root_mean_squared_error: 40.8744 - val_loss: 1465.6257 - val_root_mean_squared_error: 38.2835\n",
      "Epoch 92/200\n",
      "20/20 [==============================] - 0s 2ms/step - loss: 1589.7697 - root_mean_squared_error: 39.8719 - val_loss: 1400.5243 - val_root_mean_squared_error: 37.4236\n",
      "Epoch 93/200\n",
      "20/20 [==============================] - 0s 3ms/step - loss: 1518.8491 - root_mean_squared_error: 38.9724 - val_loss: 1329.9670 - val_root_mean_squared_error: 36.4687\n",
      "Epoch 94/200\n",
      "20/20 [==============================] - 0s 2ms/step - loss: 1441.5580 - root_mean_squared_error: 37.9679 - val_loss: 1269.3781 - val_root_mean_squared_error: 35.6283\n",
      "Epoch 95/200\n",
      "20/20 [==============================] - 0s 2ms/step - loss: 1374.4764 - root_mean_squared_error: 37.0739 - val_loss: 1206.4144 - val_root_mean_squared_error: 34.7335\n",
      "Epoch 96/200\n",
      "20/20 [==============================] - 0s 2ms/step - loss: 1308.4775 - root_mean_squared_error: 36.1729 - val_loss: 1154.1613 - val_root_mean_squared_error: 33.9729\n",
      "Epoch 97/200\n",
      "20/20 [==============================] - 0s 2ms/step - loss: 1248.8232 - root_mean_squared_error: 35.3387 - val_loss: 1094.4884 - val_root_mean_squared_error: 33.0831\n",
      "Epoch 98/200\n",
      "20/20 [==============================] - 0s 2ms/step - loss: 1189.6039 - root_mean_squared_error: 34.4906 - val_loss: 1050.8145 - val_root_mean_squared_error: 32.4163\n",
      "Epoch 99/200\n",
      "20/20 [==============================] - 0s 2ms/step - loss: 1141.7642 - root_mean_squared_error: 33.7900 - val_loss: 1001.9028 - val_root_mean_squared_error: 31.6528\n",
      "Epoch 100/200\n",
      "20/20 [==============================] - 0s 2ms/step - loss: 1087.5370 - root_mean_squared_error: 32.9778 - val_loss: 963.1929 - val_root_mean_squared_error: 31.0353\n",
      "Epoch 101/200\n",
      "20/20 [==============================] - 0s 2ms/step - loss: 1042.8073 - root_mean_squared_error: 32.2925 - val_loss: 928.8335 - val_root_mean_squared_error: 30.4768\n",
      "Epoch 102/200\n",
      "20/20 [==============================] - 0s 3ms/step - loss: 1001.0781 - root_mean_squared_error: 31.6398 - val_loss: 892.3372 - val_root_mean_squared_error: 29.8720\n",
      "Epoch 103/200\n",
      "20/20 [==============================] - 0s 2ms/step - loss: 963.5960 - root_mean_squared_error: 31.0418 - val_loss: 856.4881 - val_root_mean_squared_error: 29.2658\n",
      "Epoch 104/200\n",
      "20/20 [==============================] - 0s 2ms/step - loss: 924.1632 - root_mean_squared_error: 30.4001 - val_loss: 827.6693 - val_root_mean_squared_error: 28.7692\n",
      "Epoch 105/200\n",
      "20/20 [==============================] - 0s 2ms/step - loss: 892.2156 - root_mean_squared_error: 29.8700 - val_loss: 800.9071 - val_root_mean_squared_error: 28.3003\n",
      "Epoch 106/200\n",
      "20/20 [==============================] - 0s 3ms/step - loss: 857.2137 - root_mean_squared_error: 29.2782 - val_loss: 776.3490 - val_root_mean_squared_error: 27.8630\n",
      "Epoch 107/200\n",
      "20/20 [==============================] - 0s 2ms/step - loss: 827.7628 - root_mean_squared_error: 28.7709 - val_loss: 750.7423 - val_root_mean_squared_error: 27.3997\n",
      "Epoch 108/200\n",
      "20/20 [==============================] - 0s 2ms/step - loss: 800.3156 - root_mean_squared_error: 28.2899 - val_loss: 731.8326 - val_root_mean_squared_error: 27.0524\n",
      "Epoch 109/200\n",
      "20/20 [==============================] - 0s 2ms/step - loss: 774.3398 - root_mean_squared_error: 27.8270 - val_loss: 713.2585 - val_root_mean_squared_error: 26.7069\n",
      "Epoch 110/200\n",
      "20/20 [==============================] - 0s 2ms/step - loss: 749.8228 - root_mean_squared_error: 27.3829 - val_loss: 692.9489 - val_root_mean_squared_error: 26.3239\n",
      "Epoch 111/200\n",
      "20/20 [==============================] - 0s 2ms/step - loss: 729.3127 - root_mean_squared_error: 27.0058 - val_loss: 672.9036 - val_root_mean_squared_error: 25.9404\n",
      "Epoch 112/200\n",
      "20/20 [==============================] - 0s 2ms/step - loss: 707.6304 - root_mean_squared_error: 26.6013 - val_loss: 657.8754 - val_root_mean_squared_error: 25.6491\n",
      "Epoch 113/200\n",
      "20/20 [==============================] - 0s 2ms/step - loss: 687.0458 - root_mean_squared_error: 26.2116 - val_loss: 641.7568 - val_root_mean_squared_error: 25.3329\n",
      "Epoch 114/200\n",
      "20/20 [==============================] - 0s 2ms/step - loss: 668.2033 - root_mean_squared_error: 25.8496 - val_loss: 626.1296 - val_root_mean_squared_error: 25.0226\n",
      "Epoch 115/200\n",
      "20/20 [==============================] - 0s 2ms/step - loss: 651.0246 - root_mean_squared_error: 25.5152 - val_loss: 609.0645 - val_root_mean_squared_error: 24.6792\n",
      "Epoch 116/200\n",
      "20/20 [==============================] - 0s 2ms/step - loss: 629.8859 - root_mean_squared_error: 25.0975 - val_loss: 592.9509 - val_root_mean_squared_error: 24.3506\n",
      "Epoch 117/200\n",
      "20/20 [==============================] - 0s 3ms/step - loss: 615.3195 - root_mean_squared_error: 24.8056 - val_loss: 581.2476 - val_root_mean_squared_error: 24.1091\n",
      "Epoch 118/200\n",
      "20/20 [==============================] - 0s 3ms/step - loss: 598.8214 - root_mean_squared_error: 24.4708 - val_loss: 565.1998 - val_root_mean_squared_error: 23.7739\n",
      "Epoch 119/200\n",
      "20/20 [==============================] - 0s 2ms/step - loss: 585.5239 - root_mean_squared_error: 24.1976 - val_loss: 553.4468 - val_root_mean_squared_error: 23.5255\n",
      "Epoch 120/200\n",
      "20/20 [==============================] - 0s 2ms/step - loss: 569.7263 - root_mean_squared_error: 23.8689 - val_loss: 542.3228 - val_root_mean_squared_error: 23.2878\n",
      "Epoch 121/200\n",
      "20/20 [==============================] - 0s 2ms/step - loss: 557.3210 - root_mean_squared_error: 23.6076 - val_loss: 535.7864 - val_root_mean_squared_error: 23.1471\n",
      "Epoch 122/200\n",
      "20/20 [==============================] - 0s 3ms/step - loss: 545.8376 - root_mean_squared_error: 23.3632 - val_loss: 524.6001 - val_root_mean_squared_error: 22.9042\n",
      "Epoch 123/200\n",
      "20/20 [==============================] - 0s 3ms/step - loss: 535.7168 - root_mean_squared_error: 23.1456 - val_loss: 515.1411 - val_root_mean_squared_error: 22.6967\n",
      "Epoch 124/200\n",
      "20/20 [==============================] - 0s 2ms/step - loss: 522.6850 - root_mean_squared_error: 22.8623 - val_loss: 505.9683 - val_root_mean_squared_error: 22.4937\n",
      "Epoch 125/200\n",
      "20/20 [==============================] - 0s 2ms/step - loss: 511.6207 - root_mean_squared_error: 22.6190 - val_loss: 498.6394 - val_root_mean_squared_error: 22.3302\n",
      "Epoch 126/200\n",
      "20/20 [==============================] - 0s 3ms/step - loss: 500.7296 - root_mean_squared_error: 22.3770 - val_loss: 488.3529 - val_root_mean_squared_error: 22.0987\n",
      "Epoch 127/200\n",
      "20/20 [==============================] - 0s 2ms/step - loss: 491.5547 - root_mean_squared_error: 22.1710 - val_loss: 480.4673 - val_root_mean_squared_error: 21.9196\n",
      "Epoch 128/200\n",
      "20/20 [==============================] - 0s 2ms/step - loss: 480.1732 - root_mean_squared_error: 21.9129 - val_loss: 473.5797 - val_root_mean_squared_error: 21.7619\n",
      "Epoch 129/200\n",
      "20/20 [==============================] - 0s 2ms/step - loss: 470.8045 - root_mean_squared_error: 21.6980 - val_loss: 465.7559 - val_root_mean_squared_error: 21.5814\n",
      "Epoch 130/200\n",
      "20/20 [==============================] - 0s 2ms/step - loss: 462.0801 - root_mean_squared_error: 21.4960 - val_loss: 460.0546 - val_root_mean_squared_error: 21.4489\n",
      "Epoch 131/200\n",
      "20/20 [==============================] - 0s 2ms/step - loss: 452.1947 - root_mean_squared_error: 21.2649 - val_loss: 451.9381 - val_root_mean_squared_error: 21.2588\n",
      "Epoch 132/200\n",
      "20/20 [==============================] - 0s 2ms/step - loss: 446.2293 - root_mean_squared_error: 21.1241 - val_loss: 443.2432 - val_root_mean_squared_error: 21.0533\n",
      "Epoch 133/200\n",
      "20/20 [==============================] - 0s 2ms/step - loss: 437.8127 - root_mean_squared_error: 20.9240 - val_loss: 436.0300 - val_root_mean_squared_error: 20.8813\n",
      "Epoch 134/200\n",
      "20/20 [==============================] - 0s 2ms/step - loss: 425.5457 - root_mean_squared_error: 20.6288 - val_loss: 427.9233 - val_root_mean_squared_error: 20.6863\n",
      "Epoch 135/200\n",
      "20/20 [==============================] - 0s 2ms/step - loss: 417.4251 - root_mean_squared_error: 20.4310 - val_loss: 423.7334 - val_root_mean_squared_error: 20.5848\n",
      "Epoch 136/200\n",
      "20/20 [==============================] - 0s 2ms/step - loss: 409.2121 - root_mean_squared_error: 20.2290 - val_loss: 417.9870 - val_root_mean_squared_error: 20.4447\n",
      "Epoch 137/200\n",
      "20/20 [==============================] - 0s 2ms/step - loss: 401.8179 - root_mean_squared_error: 20.0454 - val_loss: 414.3640 - val_root_mean_squared_error: 20.3559\n",
      "Epoch 138/200\n",
      "20/20 [==============================] - 0s 2ms/step - loss: 394.6127 - root_mean_squared_error: 19.8649 - val_loss: 409.3179 - val_root_mean_squared_error: 20.2316\n",
      "Epoch 139/200\n",
      "20/20 [==============================] - 0s 3ms/step - loss: 386.8704 - root_mean_squared_error: 19.6690 - val_loss: 402.5942 - val_root_mean_squared_error: 20.0647\n",
      "Epoch 140/200\n",
      "20/20 [==============================] - 0s 2ms/step - loss: 379.4193 - root_mean_squared_error: 19.4787 - val_loss: 396.2703 - val_root_mean_squared_error: 19.9065\n",
      "Epoch 141/200\n",
      "20/20 [==============================] - 0s 2ms/step - loss: 372.8041 - root_mean_squared_error: 19.3081 - val_loss: 393.4788 - val_root_mean_squared_error: 19.8363\n",
      "Epoch 142/200\n",
      "20/20 [==============================] - 0s 2ms/step - loss: 367.7375 - root_mean_squared_error: 19.1765 - val_loss: 389.8116 - val_root_mean_squared_error: 19.7436\n",
      "Epoch 143/200\n",
      "20/20 [==============================] - 0s 2ms/step - loss: 361.5748 - root_mean_squared_error: 19.0151 - val_loss: 385.1327 - val_root_mean_squared_error: 19.6248\n",
      "Epoch 144/200\n",
      "20/20 [==============================] - 0s 2ms/step - loss: 355.9749 - root_mean_squared_error: 18.8673 - val_loss: 382.8527 - val_root_mean_squared_error: 19.5666\n",
      "Epoch 145/200\n",
      "20/20 [==============================] - 0s 2ms/step - loss: 350.6612 - root_mean_squared_error: 18.7260 - val_loss: 379.4571 - val_root_mean_squared_error: 19.4797\n",
      "Epoch 146/200\n",
      "20/20 [==============================] - 0s 2ms/step - loss: 346.1066 - root_mean_squared_error: 18.6039 - val_loss: 378.6692 - val_root_mean_squared_error: 19.4594\n",
      "Epoch 147/200\n",
      "20/20 [==============================] - 0s 3ms/step - loss: 340.4873 - root_mean_squared_error: 18.4523 - val_loss: 373.8442 - val_root_mean_squared_error: 19.3351\n",
      "Epoch 148/200\n",
      "20/20 [==============================] - 0s 2ms/step - loss: 335.5715 - root_mean_squared_error: 18.3186 - val_loss: 371.1905 - val_root_mean_squared_error: 19.2663\n",
      "Epoch 149/200\n",
      "20/20 [==============================] - 0s 3ms/step - loss: 331.2501 - root_mean_squared_error: 18.2003 - val_loss: 366.4485 - val_root_mean_squared_error: 19.1428\n",
      "Epoch 150/200\n",
      "20/20 [==============================] - 0s 2ms/step - loss: 327.3193 - root_mean_squared_error: 18.0920 - val_loss: 365.1611 - val_root_mean_squared_error: 19.1092\n",
      "Epoch 151/200\n",
      "20/20 [==============================] - 0s 2ms/step - loss: 323.3152 - root_mean_squared_error: 17.9810 - val_loss: 361.7261 - val_root_mean_squared_error: 19.0191\n",
      "Epoch 152/200\n",
      "20/20 [==============================] - 0s 2ms/step - loss: 320.2807 - root_mean_squared_error: 17.8964 - val_loss: 359.9906 - val_root_mean_squared_error: 18.9734\n",
      "Epoch 153/200\n",
      "20/20 [==============================] - 0s 3ms/step - loss: 316.5734 - root_mean_squared_error: 17.7925 - val_loss: 357.7595 - val_root_mean_squared_error: 18.9145\n",
      "Epoch 154/200\n",
      "20/20 [==============================] - 0s 2ms/step - loss: 312.5132 - root_mean_squared_error: 17.6780 - val_loss: 354.6773 - val_root_mean_squared_error: 18.8329\n",
      "Epoch 155/200\n",
      "20/20 [==============================] - 0s 2ms/step - loss: 309.0341 - root_mean_squared_error: 17.5794 - val_loss: 351.1281 - val_root_mean_squared_error: 18.7384\n",
      "Epoch 156/200\n",
      "20/20 [==============================] - 0s 2ms/step - loss: 305.6573 - root_mean_squared_error: 17.4831 - val_loss: 350.9757 - val_root_mean_squared_error: 18.7343\n",
      "Epoch 157/200\n",
      "20/20 [==============================] - 0s 2ms/step - loss: 302.4275 - root_mean_squared_error: 17.3904 - val_loss: 350.5577 - val_root_mean_squared_error: 18.7232\n",
      "Epoch 158/200\n",
      "20/20 [==============================] - 0s 2ms/step - loss: 299.1334 - root_mean_squared_error: 17.2955 - val_loss: 347.8074 - val_root_mean_squared_error: 18.6496\n",
      "Epoch 159/200\n",
      "20/20 [==============================] - 0s 3ms/step - loss: 296.5036 - root_mean_squared_error: 17.2193 - val_loss: 344.8814 - val_root_mean_squared_error: 18.5710\n",
      "Epoch 160/200\n",
      "20/20 [==============================] - 0s 2ms/step - loss: 293.5373 - root_mean_squared_error: 17.1329 - val_loss: 345.4855 - val_root_mean_squared_error: 18.5872\n",
      "Epoch 161/200\n",
      "20/20 [==============================] - 0s 2ms/step - loss: 290.1554 - root_mean_squared_error: 17.0339 - val_loss: 343.5033 - val_root_mean_squared_error: 18.5338\n",
      "Epoch 162/200\n",
      "20/20 [==============================] - 0s 2ms/step - loss: 288.0405 - root_mean_squared_error: 16.9718 - val_loss: 343.5379 - val_root_mean_squared_error: 18.5348\n",
      "Epoch 163/200\n",
      "20/20 [==============================] - 0s 2ms/step - loss: 286.6895 - root_mean_squared_error: 16.9319 - val_loss: 341.0966 - val_root_mean_squared_error: 18.4688\n",
      "Epoch 164/200\n",
      "20/20 [==============================] - 0s 2ms/step - loss: 281.1018 - root_mean_squared_error: 16.7661 - val_loss: 341.2249 - val_root_mean_squared_error: 18.4723\n",
      "Epoch 165/200\n",
      "20/20 [==============================] - 0s 2ms/step - loss: 280.4017 - root_mean_squared_error: 16.7452 - val_loss: 339.3728 - val_root_mean_squared_error: 18.4221\n",
      "Epoch 166/200\n",
      "20/20 [==============================] - 0s 2ms/step - loss: 278.8803 - root_mean_squared_error: 16.6997 - val_loss: 338.0461 - val_root_mean_squared_error: 18.3860\n",
      "Epoch 167/200\n",
      "20/20 [==============================] - 0s 2ms/step - loss: 275.8010 - root_mean_squared_error: 16.6073 - val_loss: 335.3011 - val_root_mean_squared_error: 18.3112\n",
      "Epoch 168/200\n",
      "20/20 [==============================] - 0s 2ms/step - loss: 273.7105 - root_mean_squared_error: 16.5442 - val_loss: 332.8256 - val_root_mean_squared_error: 18.2435\n",
      "Epoch 169/200\n",
      "20/20 [==============================] - 0s 2ms/step - loss: 271.7616 - root_mean_squared_error: 16.4852 - val_loss: 333.0446 - val_root_mean_squared_error: 18.2495\n",
      "Epoch 170/200\n",
      "20/20 [==============================] - 0s 3ms/step - loss: 269.8176 - root_mean_squared_error: 16.4261 - val_loss: 334.2361 - val_root_mean_squared_error: 18.2821\n",
      "Epoch 171/200\n",
      "20/20 [==============================] - 0s 2ms/step - loss: 267.9432 - root_mean_squared_error: 16.3690 - val_loss: 330.5949 - val_root_mean_squared_error: 18.1823\n",
      "Epoch 172/200\n",
      "20/20 [==============================] - 0s 2ms/step - loss: 266.1451 - root_mean_squared_error: 16.3140 - val_loss: 328.6485 - val_root_mean_squared_error: 18.1287\n",
      "Epoch 173/200\n",
      "20/20 [==============================] - 0s 2ms/step - loss: 264.7094 - root_mean_squared_error: 16.2699 - val_loss: 326.3967 - val_root_mean_squared_error: 18.0665\n",
      "Epoch 174/200\n",
      "20/20 [==============================] - 0s 2ms/step - loss: 263.2051 - root_mean_squared_error: 16.2236 - val_loss: 329.5911 - val_root_mean_squared_error: 18.1546\n",
      "Epoch 175/200\n",
      "20/20 [==============================] - 0s 2ms/step - loss: 262.1557 - root_mean_squared_error: 16.1912 - val_loss: 330.8932 - val_root_mean_squared_error: 18.1905\n",
      "Epoch 176/200\n",
      "20/20 [==============================] - 0s 3ms/step - loss: 260.1176 - root_mean_squared_error: 16.1282 - val_loss: 327.1889 - val_root_mean_squared_error: 18.0884\n",
      "Epoch 177/200\n",
      "20/20 [==============================] - 0s 2ms/step - loss: 258.0656 - root_mean_squared_error: 16.0644 - val_loss: 327.5543 - val_root_mean_squared_error: 18.0985\n",
      "Epoch 178/200\n",
      "20/20 [==============================] - 0s 2ms/step - loss: 257.7186 - root_mean_squared_error: 16.0536 - val_loss: 323.8181 - val_root_mean_squared_error: 17.9949\n",
      "Epoch 179/200\n",
      "20/20 [==============================] - 0s 2ms/step - loss: 255.6042 - root_mean_squared_error: 15.9876 - val_loss: 324.5739 - val_root_mean_squared_error: 18.0159\n",
      "Epoch 180/200\n",
      "20/20 [==============================] - 0s 2ms/step - loss: 254.5561 - root_mean_squared_error: 15.9548 - val_loss: 322.4181 - val_root_mean_squared_error: 17.9560\n",
      "Epoch 181/200\n",
      "20/20 [==============================] - 0s 2ms/step - loss: 253.4643 - root_mean_squared_error: 15.9206 - val_loss: 324.7778 - val_root_mean_squared_error: 18.0216\n",
      "Epoch 182/200\n",
      "20/20 [==============================] - 0s 2ms/step - loss: 252.5848 - root_mean_squared_error: 15.8929 - val_loss: 321.3019 - val_root_mean_squared_error: 17.9249\n",
      "Epoch 183/200\n",
      "20/20 [==============================] - 0s 2ms/step - loss: 250.6548 - root_mean_squared_error: 15.8321 - val_loss: 325.6047 - val_root_mean_squared_error: 18.0445\n",
      "Epoch 184/200\n",
      "20/20 [==============================] - 0s 2ms/step - loss: 251.1147 - root_mean_squared_error: 15.8466 - val_loss: 320.5103 - val_root_mean_squared_error: 17.9028\n",
      "Epoch 185/200\n",
      "20/20 [==============================] - 0s 2ms/step - loss: 250.9393 - root_mean_squared_error: 15.8411 - val_loss: 326.3456 - val_root_mean_squared_error: 18.0650\n",
      "Epoch 186/200\n",
      "20/20 [==============================] - 0s 2ms/step - loss: 249.3046 - root_mean_squared_error: 15.7894 - val_loss: 325.7432 - val_root_mean_squared_error: 18.0484\n",
      "Epoch 187/200\n",
      "20/20 [==============================] - 0s 2ms/step - loss: 247.2569 - root_mean_squared_error: 15.7244 - val_loss: 323.1169 - val_root_mean_squared_error: 17.9755\n",
      "Epoch 188/200\n",
      "20/20 [==============================] - 0s 3ms/step - loss: 245.7124 - root_mean_squared_error: 15.6752 - val_loss: 320.1664 - val_root_mean_squared_error: 17.8932\n",
      "Epoch 189/200\n",
      "20/20 [==============================] - 0s 2ms/step - loss: 244.8596 - root_mean_squared_error: 15.6480 - val_loss: 317.5290 - val_root_mean_squared_error: 17.8193\n",
      "Epoch 190/200\n",
      "20/20 [==============================] - 0s 2ms/step - loss: 244.4581 - root_mean_squared_error: 15.6352 - val_loss: 317.7831 - val_root_mean_squared_error: 17.8265\n",
      "Epoch 191/200\n",
      "20/20 [==============================] - 0s 2ms/step - loss: 244.8704 - root_mean_squared_error: 15.6483 - val_loss: 317.3321 - val_root_mean_squared_error: 17.8138\n",
      "Epoch 192/200\n",
      "20/20 [==============================] - 0s 2ms/step - loss: 243.8897 - root_mean_squared_error: 15.6170 - val_loss: 316.4025 - val_root_mean_squared_error: 17.7877\n",
      "Epoch 193/200\n",
      "20/20 [==============================] - 0s 2ms/step - loss: 241.5002 - root_mean_squared_error: 15.5403 - val_loss: 315.5193 - val_root_mean_squared_error: 17.7629\n",
      "Epoch 194/200\n",
      "20/20 [==============================] - 0s 2ms/step - loss: 240.3417 - root_mean_squared_error: 15.5030 - val_loss: 317.5886 - val_root_mean_squared_error: 17.8210\n",
      "Epoch 195/200\n",
      "20/20 [==============================] - 0s 2ms/step - loss: 240.9818 - root_mean_squared_error: 15.5236 - val_loss: 317.1828 - val_root_mean_squared_error: 17.8096\n",
      "Epoch 196/200\n",
      "20/20 [==============================] - 0s 2ms/step - loss: 241.1651 - root_mean_squared_error: 15.5295 - val_loss: 316.1047 - val_root_mean_squared_error: 17.7793\n",
      "Epoch 197/200\n",
      "20/20 [==============================] - 0s 2ms/step - loss: 238.8237 - root_mean_squared_error: 15.4539 - val_loss: 317.9102 - val_root_mean_squared_error: 17.8300\n",
      "Epoch 198/200\n",
      "20/20 [==============================] - 0s 2ms/step - loss: 239.4282 - root_mean_squared_error: 15.4735 - val_loss: 317.8038 - val_root_mean_squared_error: 17.8271\n",
      "Epoch 199/200\n",
      "20/20 [==============================] - 0s 2ms/step - loss: 237.4734 - root_mean_squared_error: 15.4102 - val_loss: 315.2132 - val_root_mean_squared_error: 17.7542\n",
      "Epoch 200/200\n",
      "20/20 [==============================] - 0s 2ms/step - loss: 237.0483 - root_mean_squared_error: 15.3964 - val_loss: 315.8472 - val_root_mean_squared_error: 17.7721\n"
     ]
    }
   ],
   "source": [
    "# fit the model\n",
    "history = model.fit(predictors_train, target_train, epochs=200, verbose=True, validation_data=(predictors_test, target_test))"
   ]
  },
  {
   "cell_type": "code",
   "execution_count": 18,
   "metadata": {},
   "outputs": [
    {
     "name": "stdout",
     "output_type": "stream",
     "text": [
      "20/20 [==============================] - 0s 877us/step - loss: 236.1982 - root_mean_squared_error: 15.3687\n",
      "9/9 [==============================] - 0s 868us/step - loss: 315.8472 - root_mean_squared_error: 17.7721\n"
     ]
    }
   ],
   "source": [
    "# Evaluate model\n",
    "train_score = model.evaluate(predictors_train, target_train, verbose=True)\n",
    "test_score = model.evaluate(predictors_test, target_test, verbose=True)"
   ]
  },
  {
   "cell_type": "code",
   "execution_count": 19,
   "metadata": {},
   "outputs": [
    {
     "name": "stdout",
     "output_type": "stream",
     "text": [
      "Validation: [315.84722900390625, 17.772090911865234]\n",
      "Training:   [236.1981658935547, 15.36874008178711]\n",
      "--------------------\n",
      "First 5 samples validation: [67853.7421875, 67715.546875, 67547.2578125, 67333.6015625, 67073.765625]\n",
      "First 5 samples training: [70820.9921875, 70695.1328125, 70543.21875, 70356.34375, 70120.0390625]\n"
     ]
    }
   ],
   "source": [
    "print(\"Validation:\", test_score)\n",
    "print(\"Training:  \", train_score)\n",
    "print(\"--------------------\")\n",
    "print(\"First 5 samples validation:\", history.history[\"val_loss\"][0:5])\n",
    "print(\"First 5 samples training:\", history.history[\"loss\"][0:5])\n"
   ]
  },
  {
   "cell_type": "code",
   "execution_count": 24,
   "metadata": {},
   "outputs": [
    {
     "data": {
      "text/plain": [
       "<matplotlib.legend.Legend at 0x7f9b1014c880>"
      ]
     },
     "execution_count": 24,
     "metadata": {},
     "output_type": "execute_result"
    },
    {
     "data": {
      "image/png": "[encoded data removed]",
      "text/plain": [
       "<Figure size 864x720 with 1 Axes>"
      ]
     },
     "metadata": {
      "needs_background": "light"
     },
     "output_type": "display_data"
    }
   ],
   "source": [
    "fig = plt.figure(figsize=(12, 10))\n",
    "\n",
    "plt.subplot(211)  \n",
    "plt.plot(history.history['loss'])  \n",
    "plt.plot(history.history['val_loss'])  \n",
    "plt.title('model loss')  \n",
    "plt.ylabel('loss')  \n",
    "plt.xlabel('epoch')  \n",
    "plt.legend(['train', 'test'], loc='upper left')"
   ]
  },
  {
   "cell_type": "code",
   "execution_count": 21,
   "metadata": {},
   "outputs": [
    {
     "name": "stdout",
     "output_type": "stream",
     "text": [
      "9/9 [==============================] - 0s 1ms/step\n"
     ]
    }
   ],
   "source": [
    "y_pred = model.predict(predictors_test, batch_size=None, verbose=True, steps=None, workers=1, use_multiprocessing=False)"
   ]
  },
  {
   "cell_type": "code",
   "execution_count": 22,
   "metadata": {},
   "outputs": [
    {
     "data": {
      "text/plain": [
       "0.9309740364305097"
      ]
     },
     "execution_count": 22,
     "metadata": {},
     "output_type": "execute_result"
    }
   ],
   "source": [
    "r2_score(target_test, y_pred,)"
   ]
  },
  {
   "cell_type": "code",
   "execution_count": null,
   "metadata": {},
   "outputs": [],
   "source": []
  }
 ],
 "metadata": {
  "kernelspec": {
   "display_name": "Python 3 (ipykernel)",
   "language": "python",
   "name": "python3"
  },
  "language_info": {
   "codemirror_mode": {
    "name": "ipython",
    "version": 3
   },
   "file_extension": ".py",
   "mimetype": "text/x-python",
   "name": "python",
   "nbconvert_exporter": "python",
   "pygments_lexer": "ipython3",
   "version": "3.9.7"
  }
 },
 "nbformat": 4,
 "nbformat_minor": 4
}
