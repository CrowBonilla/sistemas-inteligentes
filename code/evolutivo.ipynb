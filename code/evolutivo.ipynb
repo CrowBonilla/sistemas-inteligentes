{
 "cells": [
  {
   "cell_type": "code",
   "execution_count": 1,
   "id": "cb7ea78e-1809-4334-b80c-18dd208d151b",
   "metadata": {},
   "outputs": [],
   "source": [
    "%run algoritmo_evolutivo.ipynb\n",
    "\n",
    "from sklearn.metrics import mean_absolute_error, r2_score\n",
    "\n",
    "import matplotlib\n",
    "import matplotlib.pyplot as plt\n",
    "from mpl_toolkits.mplot3d import Axes3D\n",
    "from matplotlib import cm\n",
    "\n",
    "\n",
    "import matplotlib.animation as animation\n",
    "#import plotly_express as px\n",
    "#import plotly.io as pio\n",
    "#pio.renderers.default = 'notebook'"
   ]
  },
  {
   "cell_type": "markdown",
   "id": "6665f5ad-94c2-448d-a8f7-3985ce6f015b",
   "metadata": {},
   "source": [
    "## Reading the data"
   ]
  },
  {
   "cell_type": "code",
   "execution_count": 5,
   "id": "916ed0af-1e7a-474c-898d-222c3cf4eb6a",
   "metadata": {},
   "outputs": [
    {
     "data": {
      "text/html": [
       "<div>\n",
       "<style scoped>\n",
       "    .dataframe tbody tr th:only-of-type {\n",
       "        vertical-align: middle;\n",
       "    }\n",
       "\n",
       "    .dataframe tbody tr th {\n",
       "        vertical-align: top;\n",
       "    }\n",
       "\n",
       "    .dataframe thead th {\n",
       "        text-align: right;\n",
       "    }\n",
       "</style>\n",
       "<table border=\"1\" class=\"dataframe\">\n",
       "  <thead>\n",
       "    <tr style=\"text-align: right;\">\n",
       "      <th></th>\n",
       "      <th>Engine_Size</th>\n",
       "      <th>Cylinders</th>\n",
       "      <th>Fuel_Consumption_City</th>\n",
       "      <th>Fuel_Consumption_Hwy</th>\n",
       "      <th>Fuel_Consumption_Comb</th>\n",
       "      <th>CO2_Emissions</th>\n",
       "      <th>CO2_Rating</th>\n",
       "      <th>Smog_Rating</th>\n",
       "    </tr>\n",
       "  </thead>\n",
       "  <tbody>\n",
       "    <tr>\n",
       "      <th>689</th>\n",
       "      <td>1.6</td>\n",
       "      <td>4</td>\n",
       "      <td>8.6</td>\n",
       "      <td>6.7</td>\n",
       "      <td>7.7</td>\n",
       "      <td>181</td>\n",
       "      <td>7</td>\n",
       "      <td>7</td>\n",
       "    </tr>\n",
       "    <tr>\n",
       "      <th>588</th>\n",
       "      <td>2.5</td>\n",
       "      <td>4</td>\n",
       "      <td>10.1</td>\n",
       "      <td>7.3</td>\n",
       "      <td>8.8</td>\n",
       "      <td>207</td>\n",
       "      <td>6</td>\n",
       "      <td>5</td>\n",
       "    </tr>\n",
       "    <tr>\n",
       "      <th>56</th>\n",
       "      <td>3.0</td>\n",
       "      <td>6</td>\n",
       "      <td>12.5</td>\n",
       "      <td>9.7</td>\n",
       "      <td>11.2</td>\n",
       "      <td>262</td>\n",
       "      <td>4</td>\n",
       "      <td>5</td>\n",
       "    </tr>\n",
       "    <tr>\n",
       "      <th>497</th>\n",
       "      <td>2.4</td>\n",
       "      <td>4</td>\n",
       "      <td>10.8</td>\n",
       "      <td>9.1</td>\n",
       "      <td>10.0</td>\n",
       "      <td>238</td>\n",
       "      <td>5</td>\n",
       "      <td>5</td>\n",
       "    </tr>\n",
       "  </tbody>\n",
       "</table>\n",
       "</div>"
      ],
      "text/plain": [
       "     Engine_Size  Cylinders  Fuel_Consumption_City  Fuel_Consumption_Hwy  \\\n",
       "689          1.6          4                    8.6                   6.7   \n",
       "588          2.5          4                   10.1                   7.3   \n",
       "56           3.0          6                   12.5                   9.7   \n",
       "497          2.4          4                   10.8                   9.1   \n",
       "\n",
       "     Fuel_Consumption_Comb  CO2_Emissions  CO2_Rating  Smog_Rating  \n",
       "689                    7.7            181           7            7  \n",
       "588                    8.8            207           6            5  \n",
       "56                    11.2            262           4            5  \n",
       "497                   10.0            238           5            5  "
      ]
     },
     "execution_count": 5,
     "metadata": {},
     "output_type": "execute_result"
    }
   ],
   "source": [
    "emissions_df = pd.read_csv(\"MY2022_Fuel_Consumption_Ratings.csv\", encoding='cp1252',\n",
    "                 nrows=882, usecols=[1,2,3,4,5,6,7,8,9,10,11,12,13,14], index_col=False)\n",
    "\n",
    "emissions_df = emissions_df[['Engine_Size','Cylinders','Fuel_Consumption_City','Fuel_Consumption_Hwy','Fuel_Consumption_Comb','CO2_Emissions','CO2_Rating','Smog_Rating']]\n",
    "\n",
    "# take a look at the dataset\n",
    "emissions_df.sample(4)"
   ]
  },
  {
   "cell_type": "markdown",
   "id": "71b5dea9-ef50-4f4c-94f1-02ff16f4d38f",
   "metadata": {},
   "source": [
    "## Separate features and target in different datasets"
   ]
  },
  {
   "cell_type": "code",
   "execution_count": 6,
   "id": "59ac4eb9-2cf4-4770-90ad-e5425ec76862",
   "metadata": {},
   "outputs": [],
   "source": [
    "X =  emissions_df[['Engine_Size','Cylinders','Fuel_Consumption_City','Fuel_Consumption_Hwy']]\n",
    "y =  emissions_df['CO2_Emissions']"
   ]
  },
  {
   "cell_type": "markdown",
   "id": "7fbf64ee-896c-4461-8184-5085ea7c7162",
   "metadata": {},
   "source": [
    "# Crear población"
   ]
  },
  {
   "cell_type": "code",
   "execution_count": 46,
   "id": "935e703d-36dc-43ac-84d1-6f7de9a4f2d2",
   "metadata": {},
   "outputs": [],
   "source": [
    "poblacion = Poblacion(\n",
    "                n_individuos = 50,\n",
    "                n_variables  = 5,\n",
    "                #limites_inf  = [0,-10,-10,-10,-10],\n",
    "                #limites_sup  = [100,-50,50,50,50],\n",
    "                verbose = False\n",
    "            )"
   ]
  },
  {
   "cell_type": "code",
   "execution_count": 8,
   "id": "91ddb847-c9c5-4815-833e-7f2d876f7ff9",
   "metadata": {},
   "outputs": [],
   "source": [
    "#poblacion.mostrar_individuos(n=3)"
   ]
  },
  {
   "cell_type": "markdown",
   "id": "7e2e05d3-8919-4520-bdba-53e31457c56b",
   "metadata": {},
   "source": [
    "# Evaluar población"
   ]
  },
  {
   "cell_type": "code",
   "execution_count": 17,
   "id": "f76473cd-68a7-44e4-84b1-fd5e7084705e",
   "metadata": {},
   "outputs": [],
   "source": [
    "def y_predict(a,b,c,d,e):\n",
    "  return  a + b*X['Engine_Size'] + c*X['Cylinders'] + d*X['Fuel_Consumption_City'] +  e*X['Fuel_Consumption_Hwy'] "
   ]
  },
  {
   "cell_type": "code",
   "execution_count": 18,
   "id": "5379a662-5dcf-4907-90e2-7281446f4dc9",
   "metadata": {},
   "outputs": [
    {
     "data": {
      "text/plain": [
       "0      1120.035838\n",
       "1      1493.471564\n",
       "2      1165.525064\n",
       "3      1186.735381\n",
       "4      1179.472941\n",
       "          ...     \n",
       "877    1144.232318\n",
       "878    1130.243227\n",
       "879    1165.545671\n",
       "880    1200.662650\n",
       "881    1264.087528\n",
       "Length: 882, dtype: float64"
      ]
     },
     "execution_count": 18,
     "metadata": {},
     "output_type": "execute_result"
    }
   ],
   "source": [
    "# Seleccion aleatoria del punto de partida\n",
    "p = np.random.rand(5) * 95 \n",
    "\n",
    "y_pred = y_predict(p[0], p[1], p[2], p[3], p[4])\n",
    "y_pred"
   ]
  },
  {
   "cell_type": "code",
   "execution_count": 19,
   "id": "805cf74f-1e9e-4760-8754-1dc6f97ace9a",
   "metadata": {},
   "outputs": [],
   "source": [
    "def funcion_objetivo(a,b,c,d,e):\n",
    "    f = sum(np.power( y - y_predict(a,b,c,d,e), 2)) * (1/len(y))\n",
    "    return(f)"
   ]
  },
  {
   "cell_type": "code",
   "execution_count": 20,
   "id": "bf6cc0f6-1c3f-4c90-b85c-7f386905ffc1",
   "metadata": {},
   "outputs": [
    {
     "data": {
      "text/plain": [
       "1504714.8114259671"
      ]
     },
     "execution_count": 20,
     "metadata": {},
     "output_type": "execute_result"
    }
   ],
   "source": [
    "funcion_objetivo(p[0],p[1],p[2],p[3],p[4])"
   ]
  },
  {
   "cell_type": "code",
   "execution_count": 48,
   "id": "6c9e0319-6c92-4ce8-9a09-0683cf443a22",
   "metadata": {},
   "outputs": [
    {
     "name": "stdout",
     "output_type": "stream",
     "text": [
      "Algoritmo detenido en la generación 715 por falta cambio absoluto mínimo de 1e-18 durante 10 generaciones consecutivas.\n",
      "-------------------------------------------\n",
      "Optimización finalizada 2022-02-27 02:58:00\n",
      "-------------------------------------------\n",
      "Duración optimización: 36.441781759262085\n",
      "Número de generaciones: 715\n",
      "Valor óptimo de las variables: [19.884354766381108 -0.056585344369116 3.57101099755758 10.83888849551187\n",
      " 8.911777377231505]\n",
      "Valor función objetivo: 226.73278889077312\n",
      "\n"
     ]
    }
   ],
   "source": [
    "poblacion.optimizar(\n",
    "    funcion_objetivo   = funcion_objetivo,\n",
    "    optimizacion       = \"minimizar\",\n",
    "    n_generaciones     = 2000,\n",
    "    metodo_seleccion   = \"tournament\",\n",
    "    elitismo           = 0.2,\n",
    "    prob_mut           = 0.1,\n",
    "    distribucion       = \"uniforme\",\n",
    "    media_distribucion = 1,\n",
    "    sd_distribucion    = 1,\n",
    "    min_distribucion   = -1,\n",
    "    max_distribucion   = 1,\n",
    "    parada_temprana    = True,\n",
    "    rondas_parada      = 10,\n",
    "    tolerancia_parada  = 10**-18,\n",
    "    verbose            = False\n",
    ")"
   ]
  },
  {
   "cell_type": "code",
   "execution_count": 49,
   "id": "14f192ef-210b-4db7-8c5a-49db1a34a821",
   "metadata": {},
   "outputs": [
    {
     "data": {
      "image/png": "[encoded data removed]",
      "text/plain": [
       "<Figure size 504x288 with 1 Axes>"
      ]
     },
     "metadata": {
      "needs_background": "light"
     },
     "output_type": "display_data"
    }
   ],
   "source": [
    "# Evolución de la optimización\n",
    "fig, ax = plt.subplots(figsize=(7, 4))\n",
    "poblacion.resultados_df.plot(x = \"generacion\",\n",
    "                             y = \"mejor_fitness\",\n",
    "                             ax= ax)\n",
    "ax.set(title='Evolución del mejor Individuo', xlabel='generacion', ylabel='fitness')\n",
    "ax.legend().set_visible(False)"
   ]
  },
  {
   "cell_type": "code",
   "execution_count": 50,
   "id": "fdaa7a5a-4fa3-42d1-b72f-e19f271135c8",
   "metadata": {},
   "outputs": [
    {
     "name": "stdout",
     "output_type": "stream",
     "text": [
      "****************************************************************\n",
      "MSE: 7.0804316820693725\n",
      "R2-score: 0.95\n"
     ]
    },
    {
     "data": {
      "image/png": "[encoded data removed]",
      "text/plain": [
       "<Figure size 432x288 with 1 Axes>"
      ]
     },
     "metadata": {
      "needs_background": "light"
     },
     "output_type": "display_data"
    }
   ],
   "source": [
    "a,b,c,d,e = poblacion.valor_variables_optimo\n",
    "prediction = y_predict(a,b,c,d,e)\n",
    "print('*'*64)\n",
    "print('MSE:', mean_absolute_error(y, prediction))\n",
    "print(\"R2-score: %.2f\" % r2_score(y, prediction))\n",
    "#print('intecep:',stimator.intercept_,' Coeficient:',stimator.coef_)\n",
    "\n",
    "plt.ylabel('Predicted Score')\n",
    "plt.xlabel('Real Score')\n",
    "plt.title('Predicted VS Real')\n",
    "plt.scatter(y, prediction)\n",
    "plt.plot(prediction, prediction,'r--')\n",
    "plt.show()"
   ]
  },
  {
   "cell_type": "code",
   "execution_count": 32,
   "id": "f4e6b744-d08b-4163-9202-0931d17f0258",
   "metadata": {},
   "outputs": [
    {
     "name": "stdout",
     "output_type": "stream",
     "text": [
      "200\n"
     ]
    }
   ],
   "source": [
    "print(a)"
   ]
  }
 ],
 "metadata": {
  "kernelspec": {
   "display_name": "Python 3 (ipykernel)",
   "language": "python",
   "name": "python3"
  },
  "language_info": {
   "codemirror_mode": {
    "name": "ipython",
    "version": 3
   },
   "file_extension": ".py",
   "mimetype": "text/x-python",
   "name": "python",
   "nbconvert_exporter": "python",
   "pygments_lexer": "ipython3",
   "version": "3.9.7"
  }
 },
 "nbformat": 4,
 "nbformat_minor": 5
}
